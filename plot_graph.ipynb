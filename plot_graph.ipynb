{
 "cells": [
  {
   "cell_type": "code",
   "execution_count": 1,
   "metadata": {},
   "outputs": [],
   "source": [
    "from graph_tools import *\n",
    "from paths import *"
   ]
  },
  {
   "cell_type": "code",
   "execution_count": 2,
   "metadata": {},
   "outputs": [
    {
     "name": "stdout",
     "output_type": "stream",
     "text": [
      "B_01_041-LOOK_AT-0POR-30\n",
      "B_01_022-AWKWARD-0N1N-11\n",
      "B_01_046-MIND-0NU3-36\n",
      "B_01_029--CITY2-0LUE-19\n",
      "B_01_036-FLAG-0PEN-25\n",
      "B_01_033-WARN-12R6-22\n",
      "B_01_045-PRINT-0NRH-35\n",
      "B_01_038-LAST-0PO0-27\n",
      "B_01_043-TRAFFIC-0JL4-32\n",
      "B_01_039-VIDEOPHONE-12CM-28\n",
      "B_01_020-SOME-0JG0-10\n",
      "B_01_015-HEARING_AID-0KL9-5\n",
      "B_01_023-RELATIONSHIP-15ES-12\n",
      "B_01_034-NEW_YORK-0V8G-23\n",
      "B_01_042-LEARN-0MRO-31\n",
      "B_01_030-TALL_2-16MO-20\n",
      "B_01_029-CITY-0LUE-18\n",
      "B_01_032-IMPOSSIBLE-0KC7-21\n",
      "B_01_022-AWKWARD-0N1N-982\n",
      "B_01_018-RESPONSIBILITY-135C-8\n",
      "B_01_040-SHY-0O0L-29\n",
      "B_01_026-RUDE-0V4N-15\n",
      "B_01_044--THREE_2-0JG9-34\n",
      "B_01_024-FAVORITE-0PO0-13\n",
      "B_01_044-THREE-0JG9-33\n",
      "B_01_027-HEADACHE-161D-16\n",
      "B_01_012-PUZZLED-0TCH-3\n",
      "B_01_035-HOCKEY-0PNI-24\n",
      "B_01_016-BLIND-0TNI-6\n",
      "B_01_019-BATH-0R4M-9\n",
      "B_01_013-SURPRISE-16IQ-4\n",
      "B_01_047-BODY-13LB-37\n"
     ]
    },
    {
     "name": "stderr",
     "output_type": "stream",
     "text": [
      "/home/ldlmdl/Documents/slprt/codes/graph_tools.py:237: RuntimeWarning:\n",
      "\n",
      "invalid value encountered in divide\n",
      "\n",
      "/home/ldlmdl/Documents/slprt/codes/graph_tools.py:237: RuntimeWarning:\n",
      "\n",
      "invalid value encountered in divide\n",
      "\n",
      "/home/ldlmdl/Documents/slprt/codes/graph_tools.py:237: RuntimeWarning:\n",
      "\n",
      "invalid value encountered in divide\n",
      "\n",
      "/home/ldlmdl/Documents/slprt/codes/graph_tools.py:237: RuntimeWarning:\n",
      "\n",
      "invalid value encountered in divide\n",
      "\n"
     ]
    },
    {
     "name": "stdout",
     "output_type": "stream",
     "text": [
      "B_01_037-FILM-15NR-26\n",
      "B_01_017-BORED-0O5M-7\n",
      "B_01_028-HONEST-1001-17\n",
      "B_01_011-START-15CB-2\n",
      "B_01_025-HUNT-0OIJ-14\n"
     ]
    }
   ],
   "source": [
    "for vd in os.listdir(det_dir): \n",
    "    for clip in os.listdir(det_dir + vd + \"/\"): \n",
    "        print(clip)\n",
    "        for whether_smooth in [\"non\", \"ma\"]: \n",
    "            smooth_dir = os.path.join(spec_dir, whether_smooth + \"/\")\n",
    "            pic_smooth_dir = os.path.join(spec_pic_dir, whether_smooth + \"/\")\n",
    "            mk(smooth_dir)\n",
    "            mk(pic_smooth_dir)\n",
    "\n",
    "            for side in [\"Right\", \"Left\"]:\n",
    "                find_name = \"{}_{}\".format(side, clip)\n",
    "                reverse_find_name = \"{}_{}\".format(clip, side)\n",
    "\n",
    "                gt = GraphTool(graph_dir, find_name)\n",
    "                gt.interpolate(window_size=2)\n",
    "\n",
    "                if whether_smooth == \"non\": \n",
    "                    smoothed_features = gt.interpolated_features\n",
    "                elif whether_smooth == \"ma\": \n",
    "                    smoothed_features = Smoother.moving_average(gt.interpolated_features)\n",
    "                else: \n",
    "                    smoothed_features = gt.interpolated_features\n",
    "\n",
    "                ex = Extract(smoothed_features)\n",
    "\n",
    "                html = \"\"\"<h1>{}</h1><br>\"\"\".format(reverse_find_name)\n",
    "\n",
    "                html += Plotter.plot_spectrogram(\n",
    "                    ex.graph_features[..., 0], \n",
    "                    title=\"x-Axis Spectrogram\", \n",
    "                    save_path= os.path.join(pic_smooth_dir, reverse_find_name + \"_xaspec\")\n",
    "                )\n",
    "\n",
    "                html += Plotter.plot_spectrogram(\n",
    "                    ex.graph_features[..., 1], \n",
    "                    title=\"y-Axis Spectrogram\", \n",
    "                    save_path= os.path.join(pic_smooth_dir, reverse_find_name + \"_yaspec\")\n",
    "                )\n",
    "\n",
    "                html += Plotter.plot_line_graph(-ex.palm(), [\"p_x\", \"p_y\"], \n",
    "                                                \"Palm Position\", y_axis_label=\"Normalized Coordinates\", \n",
    "                                                save_path= os.path.join(pic_smooth_dir, reverse_find_name + \"_pp\"))\n",
    "\n",
    "                html += Plotter.plot_line_graph(ex.palm_angle(), [\"palm_angle\"], \n",
    "                                                \"Palm Angle\", y_axis_label=\"Angle\", \n",
    "                                                save_path= os.path.join(pic_smooth_dir, reverse_find_name + \"_pa\"))\n",
    "\n",
    "                html += Plotter.plot_line_graph(ex.tip_root_dist(), Hand.FINGER_LIST, \n",
    "                                                \"Tip-Root Distance\", y_axis_label=\"Distance\", \n",
    "                                                save_path= os.path.join(pic_smooth_dir, reverse_find_name + \"_trd\"))\n",
    "                \n",
    "                html += Plotter.plot_line_graph(ex.root_finger_angle(), Hand.FINGER_LIST, \n",
    "                                            \"Root-Finger Angle\", y_axis_label=\"Angle\", \n",
    "                                            save_path= os.path.join(pic_smooth_dir, reverse_find_name + \"_rfa\"))\n",
    "                \n",
    "                Plotter.write_to_html(html, \"{}{}.html\".format(smooth_dir, reverse_find_name))"
   ]
  },
  {
   "cell_type": "code",
   "execution_count": null,
   "metadata": {},
   "outputs": [],
   "source": []
  }
 ],
 "metadata": {
  "kernelspec": {
   "display_name": "slprt",
   "language": "python",
   "name": "python3"
  },
  "language_info": {
   "codemirror_mode": {
    "name": "ipython",
    "version": 3
   },
   "file_extension": ".py",
   "mimetype": "text/x-python",
   "name": "python",
   "nbconvert_exporter": "python",
   "pygments_lexer": "ipython3",
   "version": "3.10.11"
  },
  "orig_nbformat": 4
 },
 "nbformat": 4,
 "nbformat_minor": 2
}
