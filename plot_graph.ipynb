{
 "cells": [
  {
   "cell_type": "code",
   "execution_count": 1,
   "metadata": {},
   "outputs": [],
   "source": [
    "from graph_tools import *\n",
    "from paths import *"
   ]
  },
  {
   "cell_type": "code",
   "execution_count": 2,
   "metadata": {},
   "outputs": [
    {
     "name": "stdout",
     "output_type": "stream",
     "text": [
      "B_02_034-TRY-0LGN-101\n",
      "B_02_035-WHERE-144A-103\n",
      "B_02_036-GRANDFATHER-0KBC-104\n",
      "B_02_036-GRANDFATHER-0SHQ-105\n",
      "B_02_037-SUMMER-0M8F-106\n",
      "B_02_038-ACT-0OJE-107\n",
      "B_02_039-PARADE-142A-108\n",
      "B_02_040-VOTE-0OKL-109\n",
      "B_02_041-SLOW-0OB2-110\n",
      "B_02_042-GROW-0OGG-111\n",
      "B_02_043-OTHER-0KBM-112\n",
      "B_02_044-DREAM-0M92-113\n",
      "B_02_045-THURSDAY-0PGV-114\n",
      "B_02_047-WARM-0PKM-115\n",
      "B_02_052-BOSS-1001-116\n",
      "B_02_053-SAD-0L8K-117\n",
      "B_02_055-CIGAR-15NA-118\n",
      "B_02_056-ZOOM_IN-0P9U-119\n",
      "B_02_057-CREDIT_CARD-0JV1-120\n",
      "B_02_059-^ACCIDENT_2-0O8F-122\n"
     ]
    }
   ],
   "source": [
    "for vd in os.listdir(det_dir): \n",
    "    for clip in os.listdir(det_dir + vd + \"/\"): \n",
    "        print(clip)\n",
    "        for whether_smooth in [\"non\", \"ma\"]: \n",
    "            smooth_dir = os.path.join(spec_dir, whether_smooth + \"/\")\n",
    "            pic_smooth_dir = os.path.join(spec_pic_dir, whether_smooth + \"/\")\n",
    "            mk(smooth_dir)\n",
    "            mk(pic_smooth_dir)\n",
    "\n",
    "            for side in [\"Right\", \"Left\"]:\n",
    "                find_name = \"{}_{}\".format(side, clip)\n",
    "                reverse_find_name = \"{}_{}\".format(clip, side)\n",
    "\n",
    "                gt = GraphTool(graph_dir, find_name)\n",
    "                gt.interpolate(window_size=2)\n",
    "\n",
    "                if whether_smooth == \"non\": \n",
    "                    smoothed_features = gt.interpolated_features\n",
    "                elif whether_smooth == \"ma\": \n",
    "                    smoothed_features = Smoother.moving_average(gt.interpolated_features)\n",
    "                else: \n",
    "                    smoothed_features = gt.interpolated_features\n",
    "\n",
    "                ex = Extract(smoothed_features)\n",
    "\n",
    "                html = \"\"\"<h1>{}</h1><br>\"\"\".format(reverse_find_name)\n",
    "\n",
    "                html += Plotter.plot_spectrogram(\n",
    "                    ex.graph_features[..., 0], \n",
    "                    title=\"x-Axis Spectrogram\", \n",
    "                    save_path= os.path.join(pic_smooth_dir, reverse_find_name + \"_xaspec\")\n",
    "                )\n",
    "\n",
    "                html += Plotter.plot_spectrogram(\n",
    "                    ex.graph_features[..., 1], \n",
    "                    title=\"y-Axis Spectrogram\", \n",
    "                    save_path= os.path.join(pic_smooth_dir, reverse_find_name + \"_yaspec\")\n",
    "                )\n",
    "\n",
    "                html += Plotter.plot_line_graph(-ex.palm(), [\"p_x\", \"p_y\"], \n",
    "                                                \"Palm Position\", y_axis_label=\"Normalized Coordinates\", \n",
    "                                                save_path= os.path.join(pic_smooth_dir, reverse_find_name + \"_pp\"))\n",
    "\n",
    "                html += Plotter.plot_line_graph(ex.palm_angle(), [\"palm_angle\"], \n",
    "                                                \"Palm Angle\", y_axis_label=\"Angle\", \n",
    "                                                save_path= os.path.join(pic_smooth_dir, reverse_find_name + \"_pa\"))\n",
    "\n",
    "                html += Plotter.plot_line_graph(ex.tip_root_dist(), Hand.FINGER_LIST, \n",
    "                                                \"Tip-Root Distance\", y_axis_label=\"Distance\", \n",
    "                                                save_path= os.path.join(pic_smooth_dir, reverse_find_name + \"_trd\"))\n",
    "                \n",
    "                html += Plotter.plot_line_graph(ex.root_finger_angle(), Hand.FINGER_LIST, \n",
    "                                            \"Root-Finger Angle\", y_axis_label=\"Angle\", \n",
    "                                            save_path= os.path.join(pic_smooth_dir, reverse_find_name + \"_rfa\"))\n",
    "                \n",
    "                Plotter.write_to_html(html, \"{}{}.html\".format(smooth_dir, reverse_find_name))"
   ]
  },
  {
   "cell_type": "code",
   "execution_count": null,
   "metadata": {},
   "outputs": [],
   "source": []
  }
 ],
 "metadata": {
  "kernelspec": {
   "display_name": "slprt",
   "language": "python",
   "name": "python3"
  },
  "language_info": {
   "codemirror_mode": {
    "name": "ipython",
    "version": 3
   },
   "file_extension": ".py",
   "mimetype": "text/x-python",
   "name": "python",
   "nbconvert_exporter": "python",
   "pygments_lexer": "ipython3",
   "version": "3.10.11"
  },
  "orig_nbformat": 4
 },
 "nbformat": 4,
 "nbformat_minor": 2
}
