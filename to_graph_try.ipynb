{
 "cells": [
  {
   "cell_type": "code",
   "execution_count": 1,
   "metadata": {},
   "outputs": [],
   "source": [
    "# import needed libs\n",
    "import cv2\n",
    "import math\n",
    "import numpy as np\n",
    "import mediapipe as mp\n",
    "import pandas as pd\n",
    "from mio import ResultIO\n",
    "from paths import *\n",
    "from google.protobuf.json_format import MessageToDict\n",
    "import json"
   ]
  },
  {
   "attachments": {},
   "cell_type": "markdown",
   "metadata": {},
   "source": [
    "## Define constants"
   ]
  },
  {
   "cell_type": "code",
   "execution_count": 2,
   "metadata": {},
   "outputs": [],
   "source": [
    "# CONFIG\n",
    "VID_SUF = \".mp4\"\n",
    "S = \"/\"\n",
    "\n",
    "# relinquit\n",
    "DESIRED_HEIGHT = 480\n",
    "DESIRED_WIDTH = 480\n",
    "\n",
    "# common frame size in the videos\n",
    "FRAME_WIDTH = 1280\n",
    "FRAME_HEIGHT = 720"
   ]
  },
  {
   "attachments": {},
   "cell_type": "markdown",
   "metadata": {},
   "source": [
    "## define mediapipe vars"
   ]
  },
  {
   "cell_type": "code",
   "execution_count": 3,
   "metadata": {},
   "outputs": [],
   "source": [
    "# prepare mp\n",
    "mp_hands = mp.solutions.hands\n",
    "# Import drawing_utils and drawing_styles.\n",
    "mp_drawing = mp.solutions.drawing_utils\n",
    "mp_drawing_styles = mp.solutions.drawing_styles"
   ]
  },
  {
   "cell_type": "code",
   "execution_count": 4,
   "metadata": {},
   "outputs": [],
   "source": [
    "def lm_has_side_and_is_at(lm, side): \n",
    "    # side: 0 == left, 1 == right\n",
    "    if lm.multi_handedness is None: \n",
    "        return False, 0\n",
    "    elif len(lm.multi_handedness) == 1: \n",
    "        handedness_dict = MessageToDict(lm.multi_handedness[0])\n",
    "        return handedness_dict[\"classification\"][0][\"index\"] == side, 0\n",
    "    elif len(lm.multi_handedness) == 2:\n",
    "        return True, side\n",
    "    else: \n",
    "        return False, 0"
   ]
  },
  {
   "cell_type": "code",
   "execution_count": 5,
   "metadata": {},
   "outputs": [],
   "source": [
    "def lm_has_side_and_is_at(lm, side):\n",
    "    # This is renewed version of lm_has_side_and_is_at, considering the order is not strict\n",
    "    mh = lm.multi_handedness\n",
    "    if mh is None: \n",
    "        return False, 0\n",
    "    for i, hand in enumerate(mh):\n",
    "        handedness_dict = MessageToDict(hand)\n",
    "        if handedness_dict[\"classification\"][0][\"label\"] == side:\n",
    "            return True, i\n",
    "    return False, 0"
   ]
  },
  {
   "cell_type": "code",
   "execution_count": 6,
   "metadata": {},
   "outputs": [],
   "source": [
    "def lm_has_side_and_is_at(lm, side):\n",
    "    # This is a renewed version of lm_has_side_and_is_at, considering the order is not strict\n",
    "    mh = lm.multi_handedness\n",
    "    if mh is None: \n",
    "        return False, 0\n",
    "    \n",
    "    max_score = -1\n",
    "    max_index = 0\n",
    "    found = False\n",
    "    \n",
    "    for i, hand in enumerate(mh):\n",
    "        handedness_dict = MessageToDict(hand)\n",
    "        classification = handedness_dict[\"classification\"][0]\n",
    "        if classification[\"label\"] == side:\n",
    "            if classification[\"score\"] > max_score:\n",
    "                max_score = classification[\"score\"]\n",
    "                max_index = i\n",
    "                found = True\n",
    "\n",
    "    return found, max_index"
   ]
  },
  {
   "cell_type": "code",
   "execution_count": 58,
   "metadata": {},
   "outputs": [],
   "source": [
    "el = list(mp_hands.HAND_CONNECTIONS)\n",
    "el = [list(element) for element in el]"
   ]
  },
  {
   "cell_type": "code",
   "execution_count": 22,
   "metadata": {},
   "outputs": [],
   "source": [
    "def sol2json(d, json_path): \n",
    "    with open(json_path, 'w') as fl:\n",
    "        has, at = lm_has_side_and_is_at(d, 1)\n",
    "        if has: \n",
    "            ml = (MessageToDict(d.multi_hand_landmarks[at])[\"landmark\"]) # 0 is one of the hands, do this first\n",
    "            my_dict = {str(i): (d['x'], d['y'], d['z']) for i, d in enumerate(ml)}\n",
    "        else: \n",
    "            my_dict = {str(i): (0, 0, 0) for i in range(21)} # default (0, 0, 0) for all nodes\n",
    "        outdict = {\"edges\": el, \"features\": my_dict}\n",
    "        fl.write(json.dumps(outdict, separators=(',', ':')))"
   ]
  },
  {
   "cell_type": "code",
   "execution_count": 23,
   "metadata": {},
   "outputs": [
    {
     "name": "stdout",
     "output_type": "stream",
     "text": [
      "B_01_041-LOOK_AT-0POR-30\n",
      "B_01_022-AWKWARD-0N1N-11\n",
      "B_01_046-MIND-0NU3-36\n",
      "B_01_029--CITY2-0LUE-19\n",
      "B_01_036-FLAG-0PEN-25\n",
      "B_01_033-WARN-12R6-22\n",
      "B_01_045-PRINT-0NRH-35\n",
      "B_01_038-LAST-0PO0-27\n",
      "B_01_043-TRAFFIC-0JL4-32\n",
      "B_01_039-VIDEOPHONE-12CM-28\n",
      "B_01_020-SOME-0JG0-10\n",
      "B_01_015-HEARING_AID-0KL9-5\n",
      "B_01_023-RELATIONSHIP-15ES-12\n",
      "B_01_034-NEW_YORK-0V8G-23\n",
      "B_01_042-LEARN-0MRO-31\n",
      "B_01_030-TALL_2-16MO-20\n",
      "B_01_029-CITY-0LUE-18\n",
      "B_01_032-IMPOSSIBLE-0KC7-21\n",
      "B_01_022-AWKWARD-0N1N-982\n",
      "B_01_018-RESPONSIBILITY-135C-8\n",
      "B_01_040-SHY-0O0L-29\n",
      "B_01_026-RUDE-0V4N-15\n",
      "B_01_044--THREE_2-0JG9-34\n",
      "B_01_024-FAVORITE-0PO0-13\n",
      "B_01_044-THREE-0JG9-33\n",
      "B_01_027-HEADACHE-161D-16\n",
      "B_01_012-PUZZLED-0TCH-3\n",
      "B_01_035-HOCKEY-0PNI-24\n",
      "B_01_016-BLIND-0TNI-6\n",
      "B_01_019-BATH-0R4M-9\n",
      "B_01_013-SURPRISE-16IQ-4\n",
      "B_01_047-BODY-13LB-37\n",
      "B_01_037-FILM-15NR-26\n",
      "B_01_017-BORED-0O5M-7\n",
      "B_01_028-HONEST-1001-17\n",
      "B_01_011-START-15CB-2\n",
      "B_01_025-HUNT-0OIJ-14\n"
     ]
    }
   ],
   "source": [
    "for vd in os.listdir(det_dir): \n",
    "    for clip in os.listdir(det_dir + vd + \"/\"): \n",
    "        vid_graph_dir = graph_dir + vd + \"/\" + clip + \"/\"\n",
    "        mk(vid_graph_dir)   # ?\n",
    "        print(clip)\n",
    "        for g in os.listdir(det_dir + vd + \"/\" + clip + \"/\"): \n",
    "            clip_dir = det_dir + vd + \"/\" + clip + \"/\"\n",
    "            if g.endswith(\".pkl\"): \n",
    "                name, ext = g.split(\".\")\n",
    "                d = ResultIO.read(os.path.join(clip_dir, g))\n",
    "                json_path = os.path.join(graph_dir, \"{}.json\".format(name))\n",
    "                sol2json(d, json_path)"
   ]
  },
  {
   "attachments": {},
   "cell_type": "markdown",
   "metadata": {},
   "source": [
    "# Test"
   ]
  },
  {
   "cell_type": "code",
   "execution_count": 7,
   "metadata": {},
   "outputs": [
    {
     "data": {
      "text/plain": [
       "[classification {\n",
       "   index: 1\n",
       "   score: 0.9994688630104065\n",
       "   label: \"Right\"\n",
       " },\n",
       " classification {\n",
       "   index: 0\n",
       "   score: 0.9425473213195801\n",
       "   label: \"Left\"\n",
       " },\n",
       " classification {\n",
       "   index: 1\n",
       "   score: 0.9905588030815125\n",
       "   label: \"Right\"\n",
       " }]"
      ]
     },
     "execution_count": 7,
     "metadata": {},
     "output_type": "execute_result"
    }
   ],
   "source": [
    "clip_dir = det_dir + \"Cynthia_mini/\" + \"B_01_016-BLIND-0TNI-6/\"\n",
    "\n",
    "d = ResultIO.read(os.path.join(clip_dir, \"B_01_016-BLIND-0TNI-6_000028.pkl\"))\n",
    "\n",
    "d.multi_handedness"
   ]
  },
  {
   "cell_type": "code",
   "execution_count": 102,
   "metadata": {},
   "outputs": [
    {
     "data": {
      "text/plain": [
       "(True, 1)"
      ]
     },
     "execution_count": 102,
     "metadata": {},
     "output_type": "execute_result"
    }
   ],
   "source": [
    "lm_has_side_and_is_at(d, \"Left\")"
   ]
  },
  {
   "cell_type": "code",
   "execution_count": null,
   "metadata": {},
   "outputs": [],
   "source": []
  }
 ],
 "metadata": {
  "kernelspec": {
   "display_name": "slprt",
   "language": "python",
   "name": "python3"
  },
  "language_info": {
   "codemirror_mode": {
    "name": "ipython",
    "version": 3
   },
   "file_extension": ".py",
   "mimetype": "text/x-python",
   "name": "python",
   "nbconvert_exporter": "python",
   "pygments_lexer": "ipython3",
   "version": "3.10.11"
  },
  "orig_nbformat": 4
 },
 "nbformat": 4,
 "nbformat_minor": 2
}
