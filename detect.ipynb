{
 "cells": [
  {
   "cell_type": "code",
   "execution_count": 1,
   "metadata": {},
   "outputs": [],
   "source": [
    "# import needed libs\n",
    "import cv2\n",
    "import math\n",
    "import numpy as np\n",
    "import mediapipe as mp\n",
    "import pandas as pd"
   ]
  },
  {
   "cell_type": "code",
   "execution_count": 2,
   "metadata": {},
   "outputs": [],
   "source": [
    "from mio import ResultIO"
   ]
  },
  {
   "attachments": {},
   "cell_type": "markdown",
   "metadata": {},
   "source": [
    "## Define dir paths"
   ]
  },
  {
   "cell_type": "code",
   "execution_count": 3,
   "metadata": {},
   "outputs": [],
   "source": [
    "from paths import *"
   ]
  },
  {
   "attachments": {},
   "cell_type": "markdown",
   "metadata": {},
   "source": [
    "## Define constants"
   ]
  },
  {
   "cell_type": "code",
   "execution_count": 4,
   "metadata": {},
   "outputs": [],
   "source": [
    "# CONFIG\n",
    "VID_SUF = \".mp4\"\n",
    "S = \"/\"\n",
    "\n",
    "# relinquit\n",
    "DESIRED_HEIGHT = 480\n",
    "DESIRED_WIDTH = 480\n",
    "\n",
    "# common frame size in the videos\n",
    "FRAME_WIDTH = 1280\n",
    "FRAME_HEIGHT = 720"
   ]
  },
  {
   "attachments": {},
   "cell_type": "markdown",
   "metadata": {},
   "source": [
    "## define mediapipe vars"
   ]
  },
  {
   "cell_type": "code",
   "execution_count": 5,
   "metadata": {},
   "outputs": [],
   "source": [
    "# prepare mp\n",
    "mp_hands = mp.solutions.hands\n",
    "# Import drawing_utils and drawing_styles.\n",
    "mp_drawing = mp.solutions.drawing_utils\n",
    "mp_drawing_styles = mp.solutions.drawing_styles"
   ]
  },
  {
   "attachments": {},
   "cell_type": "markdown",
   "metadata": {},
   "source": [
    "## Define detection wrapper"
   ]
  },
  {
   "cell_type": "code",
   "execution_count": 6,
   "metadata": {},
   "outputs": [],
   "source": [
    "class DetectionWrapper: \n",
    "    def __init__(self, ptcp_file, filename): \n",
    "        self.name = filename\n",
    "\n",
    "        self.vidpath = vid_dir + ptcp_file + S + filename + VID_SUF\n",
    "        self.dd = det_dir + ptcp_file + S + filename + S\n",
    "        self.rpd = rend_pic_dir + ptcp_file + S + filename + S\n",
    "        self.rvd = rend_vid_dir + ptcp_file + S\n",
    "\n",
    "        # create specific det and rend dir (det dir is for detection result source file, rend dir is for rendered pics and vids)\n",
    "        if not os.path.exists(self.dd): \n",
    "            os.makedirs(self.dd)\n",
    "        if not os.path.exists(self.rpd): \n",
    "            os.makedirs(self.rpd)\n",
    "        if not os.path.exists(self.rvd): \n",
    "            os.makedirs(self.rvd)\n",
    "\n",
    "        self.images = []\n",
    "        # self.annotated_images = []\n",
    "        self.fps = 0    # to be obtained for video saving\n",
    "        self.framesize = (FRAME_WIDTH, FRAME_HEIGHT)\n",
    "\n",
    "        # Find OpenCV version\n",
    "        (major_ver, minor_ver, subminor_ver) = (cv2.__version__).split('.')\n",
    "        if int(major_ver) < 3:\n",
    "            self.FPS_TYPE = cv2.cv.CV_CAP_PROP_FPS\n",
    "        else:\n",
    "            self.FPS_TYPE = cv2.CAP_PROP_FPS\n",
    "        \n",
    "    def getImgs(self): \n",
    "        # Path to video file\n",
    "        vidObj = cv2.VideoCapture(self.vidpath)\n",
    "        self.fps = vidObj.get(self.FPS_TYPE)\n",
    "\n",
    "        # Used as counter variable\n",
    "        count = 0  \n",
    "        # checks whether frames were extracted\n",
    "        success = 1\n",
    "    \n",
    "        while success:\n",
    "            # vidObj object calls read\n",
    "            # function extract frames\n",
    "            success, image = vidObj.read()\n",
    "            # Saves the frames with frame-count\n",
    "            if success: \n",
    "                self.images.append(image)\n",
    "                count += 1\n",
    "    \n",
    "    def resize(self): \n",
    "        # relinquit\n",
    "        for image in self.images:\n",
    "            h, w = image.shape[:2]\n",
    "            if h < w:\n",
    "                img = cv2.resize(image, (DESIRED_WIDTH, math.floor(h/(w/DESIRED_WIDTH))))\n",
    "            else:\n",
    "                img = cv2.resize(image, (math.floor(w/(h/DESIRED_HEIGHT)), DESIRED_HEIGHT))\n",
    "    \n",
    "    def detect(self): \n",
    "        outvid = cv2.VideoWriter(\"{}{}.mp4\".format(self.rvd, self.name),cv2.VideoWriter_fourcc(*'mp4v'), self.fps, self.framesize)\n",
    "        print(\"Video name {}\".format(self.name))\n",
    "        with mp_hands.Hands(\n",
    "            static_image_mode=False,\n",
    "            max_num_hands=2,\n",
    "            min_detection_confidence=0.5) as hands:\n",
    "            for idx, image in enumerate(self.images):\n",
    "                # Convert the BGR image to RGB, flip the image around y-axis for correct \n",
    "                # handedness output and process it with MediaPipe Hands.\n",
    "                results = hands.process(cv2.flip(cv2.cvtColor(image, cv2.COLOR_BGR2RGB), 1))\n",
    "\n",
    "                ResultIO.save(\"{}{}_{:0>6}.pkl\".format(self.dd, self.name, idx), results)\n",
    "\n",
    "                # Draw pose landmarks and save to pic.\n",
    "                annotated_image = cv2.flip(image.copy(), 1)\n",
    "                if results.multi_hand_landmarks: \n",
    "                    for hand_landmarks in results.multi_hand_landmarks:\n",
    "                        # Print index finger tip coordinates.\n",
    "                        mp_drawing.draw_landmarks(\n",
    "                            annotated_image,\n",
    "                            hand_landmarks,\n",
    "                            mp_hands.HAND_CONNECTIONS,\n",
    "                            mp_drawing_styles.get_default_hand_landmarks_style(),\n",
    "                            mp_drawing_styles.get_default_hand_connections_style())\n",
    "                # write image to image save dir\n",
    "                cv2.imwrite(\"{}{}_{:0>6}.jpg\".format(self.rpd, self.name, idx), cv2.flip(annotated_image, 1))\n",
    "                # self.annotated_images.append(annotated_image)\n",
    "                outvid.write(cv2.flip(annotated_image, 1))\n",
    "        outvid.release()"
   ]
  },
  {
   "attachments": {},
   "cell_type": "markdown",
   "metadata": {},
   "source": [
    "## Run it\n",
    "Cynthia's signs are flat in the dir. "
   ]
  },
  {
   "cell_type": "code",
   "execution_count": 7,
   "metadata": {},
   "outputs": [
    {
     "name": "stdout",
     "output_type": "stream",
     "text": [
      "Video name yeah\n"
     ]
    }
   ],
   "source": [
    "for vd in os.listdir(vid_dir + \"/\"): \n",
    "    for v in os.listdir(vid_dir + vd + \"/\"): \n",
    "        if v.endswith(VID_SUF): \n",
    "            # this means it is a video\n",
    "            filename = v.split(\".\")[0]\n",
    "            dw = DetectionWrapper(vd, filename)\n",
    "            dw.getImgs()\n",
    "            dw.detect()"
   ]
  },
  {
   "cell_type": "code",
   "execution_count": null,
   "metadata": {},
   "outputs": [],
   "source": []
  }
 ],
 "metadata": {
  "kernelspec": {
   "display_name": "slprt",
   "language": "python",
   "name": "python3"
  },
  "language_info": {
   "codemirror_mode": {
    "name": "ipython",
    "version": 3
   },
   "file_extension": ".py",
   "mimetype": "text/x-python",
   "name": "python",
   "nbconvert_exporter": "python",
   "pygments_lexer": "ipython3",
   "version": "3.10.11"
  },
  "orig_nbformat": 4
 },
 "nbformat": 4,
 "nbformat_minor": 2
}
