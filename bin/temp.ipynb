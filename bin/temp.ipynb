{
 "cells": [
  {
   "cell_type": "code",
   "execution_count": 9,
   "metadata": {},
   "outputs": [],
   "source": [
    "# STEP 1: Import the necessary modules.\n",
    "import mediapipe as mp\n",
    "from mediapipe.tasks import python\n",
    "from mediapipe.tasks.python import vision"
   ]
  },
  {
   "cell_type": "code",
   "execution_count": 10,
   "metadata": {},
   "outputs": [],
   "source": [
    "# import needed libs\n",
    "import cv2\n",
    "import math\n",
    "import numpy as np\n",
    "import os\n",
    "import mediapipe as mp\n",
    "\n",
    "\n",
    "from PIL import Image   # needed only if we print out image here"
   ]
  },
  {
   "cell_type": "code",
   "execution_count": 11,
   "metadata": {},
   "outputs": [],
   "source": [
    "# PATH configurations\n",
    "from config import *\n",
    "from wrapped_detect import DetectionWrapper"
   ]
  },
  {
   "cell_type": "code",
   "execution_count": 12,
   "metadata": {},
   "outputs": [],
   "source": [
    "def cv22pil(cv2img): \n",
    "    color_converted = cv2.cvtColor(cv2img, cv2.COLOR_BGR2RGB)\n",
    "    pil_image=Image.fromarray(color_converted)\n",
    "    return pil_image"
   ]
  },
  {
   "cell_type": "code",
   "execution_count": 13,
   "metadata": {},
   "outputs": [
    {
     "name": "stdout",
     "output_type": "stream",
     "text": [
      "Video name JapS-AQ4_pon\n",
      "Video name JapS-AQ4_kachikachi\n",
      "Video name JapS-AQ4_kyutto\n",
      "Video name JapS-AQ4_pikapika\n",
      "Video name JapS-AQ4_zuratto\n",
      "Video name JapS-AQ4_panpan\n",
      "Video name JapS-AQ4_yurayura\n",
      "Video name JapS-AQ4_gorogoro\n",
      "Video name JapS-AQ4_tsuntsun\n",
      "Video name JapS-AQ4_tonton\n",
      "Video name JapS-AQ4_perapera\n",
      "Video name JapS-AQ4_chokichoki\n",
      "Video name JapS-AQ4_kirakira\n",
      "Video name JapS-AQ4_nebaneba\n",
      "Video name JapS-AQ4_booboo\n",
      "Video name JapS-AQ4_bon\n",
      "Video name KorS-AQ4_podeulbodeul\n",
      "Video name KorS-AQ4_singsing\n",
      "Video name KorS-AQ4_peolleokbeolleok\n",
      "Video name KorS-AQ4_eongeumeongeum\n",
      "Video name KorS-AQ4_eongeong\n",
      "Video name KorS-AQ4_mulleongmulleong\n",
      "Video name KorS-AQ4_songeulsongeul\n",
      "Video name KorS-AQ4_jengjeng\n",
      "Video name KorS-AQ4_gobulgobul\n",
      "Video name KorS-AQ4_tungeuldungeul\n",
      "Video name KorS-AQ4_heumeulheumeul\n",
      "Video name KorS-AQ4_cheolcheol\n",
      "Video name KorS-AQ4_tengteng\n",
      "Video name KorS-AQ4_geunjeokgeunjeok\n",
      "Video name KorS-AQ4_chingching\n",
      "Video name KorS-AQ4_panjakbanjak\n"
     ]
    }
   ],
   "source": [
    "# for vd in os.listdir(vid_vid_dir): \n",
    "for vd in [\"JapS-AQ4_Resultant\", \"KorS-AQ4_Resultant\"]: \n",
    "    for v in os.listdir(vid_vid_dir + vd + \"/\"): \n",
    "        if v.endswith(VID_SUF): \n",
    "            # this means it is a video\n",
    "            filename = v.split(\".\")[0]\n",
    "            dw = DetectionWrapper(vd, filename)\n",
    "            dw.getImgs()\n",
    "            dw.detect()"
   ]
  },
  {
   "attachments": {},
   "cell_type": "markdown",
   "metadata": {},
   "source": [
    "# New model very big problem! Need to rethink or test whether old code still works"
   ]
  }
 ],
 "metadata": {
  "kernelspec": {
   "display_name": "slprt",
   "language": "python",
   "name": "python3"
  },
  "language_info": {
   "codemirror_mode": {
    "name": "ipython",
    "version": 3
   },
   "file_extension": ".py",
   "mimetype": "text/x-python",
   "name": "python",
   "nbconvert_exporter": "python",
   "pygments_lexer": "ipython3",
   "version": "3.10.11"
  },
  "orig_nbformat": 4
 },
 "nbformat": 4,
 "nbformat_minor": 2
}
