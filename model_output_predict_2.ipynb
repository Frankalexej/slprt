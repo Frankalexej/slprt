{
 "cells": [
  {
   "cell_type": "markdown",
   "metadata": {},
   "source": [
    "# Predict Data. \n",
    "Version 2.0  \n",
    "This time we predict using data selected using the same criteria as when preparing training data. "
   ]
  },
  {
   "cell_type": "markdown",
   "metadata": {},
   "source": [
    "### Import Libs"
   ]
  },
  {
   "cell_type": "code",
   "execution_count": 1,
   "metadata": {},
   "outputs": [],
   "source": [
    "import torch\n",
    "from torch import nn\n",
    "from torch import optim\n",
    "import torch.nn.functional as F\n",
    "from torch.utils.data import DataLoader, random_split\n",
    "import os\n",
    "import numpy as np\n",
    "import matplotlib.pyplot as plt\n",
    "import pandas as pd\n",
    "\n",
    "from model_dataset import FixedHandshapeDict, GuideReader\n",
    "from paths import *\n",
    "from model_model import LinearHandshapePredictor\n",
    "from model_configs import *\n",
    "from utils import *\n",
    "from recorder import *\n",
    "from graph_tools import GraphTool, Plotter, Smoother"
   ]
  },
  {
   "cell_type": "markdown",
   "metadata": {},
   "source": [
    "### Init Model"
   ]
  },
  {
   "cell_type": "code",
   "execution_count": 2,
   "metadata": {},
   "outputs": [],
   "source": [
    "device = torch.device('cuda' if torch.cuda.is_available() else 'cpu')\n",
    "criterion = nn.CrossEntropyLoss()\n",
    "model = LinearHandshapePredictor(\n",
    "    input_dim=in_dim, \n",
    "    enc_lat_dims=enc_lat_dims, \n",
    "    hid_dim=hid_dim, \n",
    "    dec_lat_dims=dec_lat_dims, \n",
    "    output_dim=out_dim\n",
    ")\n",
    "model.to(device)\n",
    "optimizer = optim.Adam(model.parameters(), lr=1e-3)"
   ]
  },
  {
   "cell_type": "code",
   "execution_count": 3,
   "metadata": {},
   "outputs": [
    {
     "data": {
      "text/plain": [
       "LinearHandshapePredictor(\n",
       "  (encoder): Sequential(\n",
       "    (0): LinPack(\n",
       "      (lin): Linear(in_features=63, out_features=128, bias=True)\n",
       "      (relu): ReLU()\n",
       "      (batch_norm): BatchNorm1d(128, eps=1e-05, momentum=0.1, affine=True, track_running_stats=True)\n",
       "    )\n",
       "    (1): ResBlock(\n",
       "      (lin1): Linear(in_features=128, out_features=128, bias=True)\n",
       "      (lin2): Linear(in_features=128, out_features=128, bias=True)\n",
       "      (relu): ReLU()\n",
       "    )\n",
       "    (2): LinPack(\n",
       "      (lin): Linear(in_features=128, out_features=32, bias=True)\n",
       "      (relu): ReLU()\n",
       "      (batch_norm): BatchNorm1d(32, eps=1e-05, momentum=0.1, affine=True, track_running_stats=True)\n",
       "    )\n",
       "    (3): ResBlock(\n",
       "      (lin1): Linear(in_features=32, out_features=32, bias=True)\n",
       "      (lin2): Linear(in_features=32, out_features=32, bias=True)\n",
       "      (relu): ReLU()\n",
       "    )\n",
       "    (4): Linear(in_features=32, out_features=5, bias=True)\n",
       "    (5): Sigmoid()\n",
       "  )\n",
       "  (decoder): Sequential(\n",
       "    (0): LinPack(\n",
       "      (lin): Linear(in_features=5, out_features=16, bias=True)\n",
       "      (relu): ReLU()\n",
       "      (batch_norm): BatchNorm1d(16, eps=1e-05, momentum=0.1, affine=True, track_running_stats=True)\n",
       "    )\n",
       "    (1): LinPack(\n",
       "      (lin): Linear(in_features=16, out_features=64, bias=True)\n",
       "      (relu): ReLU()\n",
       "      (batch_norm): BatchNorm1d(64, eps=1e-05, momentum=0.1, affine=True, track_running_stats=True)\n",
       "    )\n",
       "    (2): LinPack(\n",
       "      (lin): Linear(in_features=64, out_features=63, bias=True)\n",
       "      (relu): ReLU()\n",
       "      (batch_norm): BatchNorm1d(63, eps=1e-05, momentum=0.1, affine=True, track_running_stats=True)\n",
       "    )\n",
       "  )\n",
       ")"
      ]
     },
     "execution_count": 3,
     "metadata": {},
     "output_type": "execute_result"
    }
   ],
   "source": [
    "model"
   ]
  },
  {
   "cell_type": "code",
   "execution_count": 4,
   "metadata": {},
   "outputs": [
    {
     "name": "stdout",
     "output_type": "stream",
     "text": [
      "53506\n"
     ]
    }
   ],
   "source": [
    "model_parameters = filter(lambda p: p.requires_grad, model.parameters())\n",
    "params = sum([np.prod(p.size()) for p in model_parameters])\n",
    "print(params)"
   ]
  },
  {
   "cell_type": "code",
   "execution_count": 5,
   "metadata": {},
   "outputs": [
    {
     "data": {
      "text/plain": [
       "LinearHandshapePredictor(\n",
       "  (encoder): Sequential(\n",
       "    (0): LinPack(\n",
       "      (lin): Linear(in_features=63, out_features=128, bias=True)\n",
       "      (relu): ReLU()\n",
       "      (batch_norm): BatchNorm1d(128, eps=1e-05, momentum=0.1, affine=True, track_running_stats=True)\n",
       "    )\n",
       "    (1): ResBlock(\n",
       "      (lin1): Linear(in_features=128, out_features=128, bias=True)\n",
       "      (lin2): Linear(in_features=128, out_features=128, bias=True)\n",
       "      (relu): ReLU()\n",
       "    )\n",
       "    (2): LinPack(\n",
       "      (lin): Linear(in_features=128, out_features=32, bias=True)\n",
       "      (relu): ReLU()\n",
       "      (batch_norm): BatchNorm1d(32, eps=1e-05, momentum=0.1, affine=True, track_running_stats=True)\n",
       "    )\n",
       "    (3): ResBlock(\n",
       "      (lin1): Linear(in_features=32, out_features=32, bias=True)\n",
       "      (lin2): Linear(in_features=32, out_features=32, bias=True)\n",
       "      (relu): ReLU()\n",
       "    )\n",
       "    (4): Linear(in_features=32, out_features=5, bias=True)\n",
       "    (5): Sigmoid()\n",
       "  )\n",
       "  (decoder): Sequential(\n",
       "    (0): LinPack(\n",
       "      (lin): Linear(in_features=5, out_features=16, bias=True)\n",
       "      (relu): ReLU()\n",
       "      (batch_norm): BatchNorm1d(16, eps=1e-05, momentum=0.1, affine=True, track_running_stats=True)\n",
       "    )\n",
       "    (1): LinPack(\n",
       "      (lin): Linear(in_features=16, out_features=64, bias=True)\n",
       "      (relu): ReLU()\n",
       "      (batch_norm): BatchNorm1d(64, eps=1e-05, momentum=0.1, affine=True, track_running_stats=True)\n",
       "    )\n",
       "    (2): LinPack(\n",
       "      (lin): Linear(in_features=64, out_features=63, bias=True)\n",
       "      (relu): ReLU()\n",
       "      (batch_norm): BatchNorm1d(63, eps=1e-05, momentum=0.1, affine=True, track_running_stats=True)\n",
       "    )\n",
       "  )\n",
       ")"
      ]
     },
     "execution_count": 5,
     "metadata": {},
     "output_type": "execute_result"
    }
   ],
   "source": [
    "ts = \"1113174414-lin\"\n",
    "stop_epoch = \"597\"\n",
    "save_subdir = os.path.join(model_save_dir, \"{}/\".format(ts))\n",
    "model_raw_name = f\"{stop_epoch}\"\n",
    "model_name = model_raw_name + \".pt\"\n",
    "model_path = os.path.join(save_subdir, model_name)\n",
    "state = torch.load(model_path)\n",
    "model.load_state_dict(state)\n",
    "model.to(device)"
   ]
  },
  {
   "cell_type": "code",
   "execution_count": 6,
   "metadata": {},
   "outputs": [],
   "source": [
    "class HiddenViewer: \n",
    "    css_in = f\"\"\"\n",
    "<head>\n",
    "    <link rel=\"stylesheet\" href=\"{hidview_style_path}\">\n",
    "</head>\n",
    "\"\"\"\n",
    "    frame_pred_vis = \"\"\"\n",
    "<div class=\"container\">\n",
    "<input type=\"number\" id=\"integerInput\" min=\"0\">\n",
    "<div class=\"output\" id=\"outputDiv\"></div>\n",
    "</div>\n",
    "\"\"\"\n",
    "    control_script_pre = \"\"\"\n",
    "<script>\n",
    "const integerInput = document.getElementById('integerInput');\n",
    "const outputDiv = document.getElementById('outputDiv');\n",
    "\n",
    "const stringsList =\"\"\"\n",
    "\n",
    "    control_script_post = \"\"\"\n",
    "integerInput.addEventListener('input', () => {\n",
    "const selectedIndex = parseInt(integerInput.value);\n",
    "\n",
    "if (selectedIndex >= 0 && selectedIndex < stringsList.length) {\n",
    "    const selectedString = stringsList[selectedIndex];\n",
    "    outputDiv.textContent = selectedString;\n",
    "} else {\n",
    "    outputDiv.textContent = \"無\";\n",
    "}\n",
    "});\n",
    "</script>\n",
    "\"\"\"\n",
    "    \n",
    "\n",
    "class PredictionViewer: \n",
    "    def __init__(self, file_name, sign_name, frame_count, predictions):\n",
    "        # file_name: should be sign name + left/right\n",
    "        # sign_name: name of sign as in guide file\n",
    "        # frame_count: total number of frames of this sign\n",
    "        # predictions: list of predicted signs\n",
    "        pred_nums = [str(ord(char)) for char in predictions]\n",
    "        \n",
    "        self.html = f\"\"\"\n",
    "<!DOCTYPE html>\n",
    "<html lang=\"en\">\n",
    "<head>\n",
    "    <meta charset=\"UTF-8\">\n",
    "    <meta name=\"viewport\" content=\"width=device-width, initial-scale=1.0\">\n",
    "    <title>{file_name}</title>\n",
    "    <link rel=\"stylesheet\" href=\"{predsview_style_path}\">\n",
    "    <script>\n",
    "        var sign = \"{sign_name}\"; \n",
    "        var filenum = {frame_count}; \n",
    "\n",
    "        var preds = {predictions}; \n",
    "        var prednums = {pred_nums}; \n",
    "    </script>\n",
    "</head>\n",
    "<body>\n",
    "<!-- Container to center the image -->\n",
    "<div id=\"image-container\">\n",
    "    <img id=\"image-viewer\" src=\"\" alt=\"Image Viewer\">\n",
    "</div>\n",
    "<div id=\"text-container\">\n",
    "    <p id=\"frame-count\"></p>\n",
    "    <img id=\"text-viewer\" src=\"\" alt=\"Text Viewer\">\n",
    "    <p id=\"text-alt\"></p>\n",
    "</div>\n",
    "<script src=\"{predsview_js_path}\"></script>\n",
    "</body>\n",
    "</html>\n",
    "\"\"\""
   ]
  },
  {
   "cell_type": "code",
   "execution_count": 15,
   "metadata": {},
   "outputs": [],
   "source": [
    "hsdict = FixedHandshapeDict()\n",
    "subset_dir = \"Cynthia_test_mono/\"\n",
    "preds_subset_dir = \"preds_try_\" + subset_dir\n",
    "det_sub_dir = os.path.join(det_dir, subset_dir)\n",
    "\n",
    "# linegraph_ = os.path.join(src_dir, preds_subset_dir, \"line/\")\n",
    "# spectrogram_ = os.path.join(src_dir, preds_subset_dir, \"spec/\")\n",
    "# hidden_ = os.path.join(src_dir, preds_subset_dir, \"hidden_viewer/\")\n",
    "# preds_ = os.path.join(src_dir, preds_subset_dir, \"preds_viewer/\")\n",
    "# mk(linegraph_), mk(spectrogram_), mk(hidden_), mk(preds_)\n",
    "# for data_sub_dir in [linegraph_, spectrogram_, hidden_, preds_]: \n",
    "#     no_smooth_sub = os.path.join(data_sub_dir, \"non/\")\n",
    "#     ma_smooth_sub = os.path.join(data_sub_dir, \"ma/\")\n",
    "#     mk(no_smooth_sub), mk(ma_smooth_sub)"
   ]
  },
  {
   "cell_type": "code",
   "execution_count": 17,
   "metadata": {},
   "outputs": [],
   "source": [
    "gr = GuideReader(guide_path)\n",
    "table_list = []\n",
    "\n",
    "sign_name_list = []\n",
    "side_list = []\n",
    "smoothing_list = []\n",
    "frame_idx_list = []\n",
    "target_handshape_list = []\n",
    "predicted_handshape_list = []\n",
    "is_correct_list = []\n",
    "anno_list = []"
   ]
  },
  {
   "cell_type": "code",
   "execution_count": 18,
   "metadata": {},
   "outputs": [
    {
     "name": "stdout",
     "output_type": "stream",
     "text": [
      " [                                                  ] 0%"
     ]
    },
    {
     "name": "stdout",
     "output_type": "stream",
     "text": [
      " [================================================= ] 97%"
     ]
    }
   ],
   "source": [
    "total = len(os.listdir(det_sub_dir))\n",
    "model.eval()\n",
    "for idx, clip in enumerate(os.listdir(det_sub_dir)): \n",
    "    draw_progress_bar(idx, total)\n",
    "    for side in [\"Right\", \"Left\"]:\n",
    "        find_name = \"{}_{}\".format(side, clip)\n",
    "        reverse_find_name = \"{}_{}\".format(clip, side)\n",
    "\n",
    "        gt = GraphTool(graph_dir, find_name)\n",
    "        gt.delete_empty()\n",
    "\n",
    "        features = gt.get_features(flatten=False)\n",
    "\n",
    "        this_features = torch.from_numpy(features)\n",
    "        batch_num, lm_num, dim_num = this_features.size()\n",
    "\n",
    "        x = this_features\n",
    "        x = x.to(device)\n",
    "        x = x.to(torch.float32)\n",
    "\n",
    "        hid_rep, pred = model.predict(x, hsdict)\n",
    "\n",
    "        hid_rep = hid_rep.cpu().detach().numpy()\n",
    "        \n",
    "        # result table\n",
    "        anno = \"HS\"\n",
    "        target_handshape = gr.extract_allkinds(clip)\n",
    "        if side == \"Right\": \n",
    "            target = target_handshape.dexter\n",
    "        elif side == \"Left\": \n",
    "            target = target_handshape.sinister\n",
    "        else: \n",
    "            target = \" \"\n",
    "        if not target: \n",
    "            target = \"x\" # no handshape, this will show as space faithfully\n",
    "            anno = \"NHS\"\n",
    "\n",
    "        total_number = len(pred)\n",
    "\n",
    "        sign_name_list += [clip] * total_number\n",
    "        side_list += [side] * total_number\n",
    "        smoothing_list += [\"non\"] * total_number\n",
    "        frame_idx_list += list(range(total_number))\n",
    "        target_handshape_list += [target] * total_number\n",
    "        predicted_handshape_list += pred\n",
    "        is_correct_list += (np.array(pred) == target).astype(int).tolist()\n",
    "        anno_list += [anno] * total_number\n",
    "\n",
    "data = {\n",
    "    \"sign_name\": sign_name_list, \n",
    "    \"side\": side_list, \n",
    "    \"smoothing\": smoothing_list, \n",
    "    \"frame_idx\": frame_idx_list, \n",
    "    \"target\": target_handshape_list, \n",
    "    \"predicted\": predicted_handshape_list, \n",
    "    \"is_correct\": is_correct_list, \n",
    "    \"anno\": anno_list\n",
    "}\n",
    "df = pd.DataFrame(data)\n",
    "df.to_excel(src_dir + \"HKSL_Prediction_try_test_mono.xlsx\")"
   ]
  },
  {
   "cell_type": "code",
   "execution_count": 9,
   "metadata": {},
   "outputs": [
    {
     "name": "stdout",
     "output_type": "stream",
     "text": [
      " [==================================================] 99%"
     ]
    }
   ],
   "source": [
    "# total = len(os.listdir(det_sub_dir))\n",
    "# for idx, clip in enumerate(os.listdir(det_sub_dir)): \n",
    "#     draw_progress_bar(idx, total)\n",
    "#     for whether_smooth in [\"non\", \"ma\"]: # non = no smoothing, ma = moving average smoothed. \n",
    "#         for side in [\"Right\", \"Left\"]:\n",
    "#             find_name = \"{}_{}\".format(side, clip)\n",
    "#             reverse_find_name = \"{}_{}\".format(clip, side)\n",
    "\n",
    "#             gt = GraphTool(graph_dir, find_name)\n",
    "#             gt.interpolate(window_size=2)\n",
    "\n",
    "#             if whether_smooth == \"non\": \n",
    "#                 smoothed_features = gt.interpolated_features\n",
    "#             elif whether_smooth == \"ma\": \n",
    "#                 smoothed_features = Smoother.moving_average(gt.interpolated_features)\n",
    "#             else: \n",
    "#                 smoothed_features = gt.interpolated_features\n",
    "\n",
    "#             this_features = torch.from_numpy(smoothed_features.copy())\n",
    "#             batch_num, lm_num, dim_num = this_features.size()\n",
    "\n",
    "#             x = this_features\n",
    "#             x = x.to(device)\n",
    "#             x = x.to(torch.float32)\n",
    "\n",
    "#             hid_rep, pred = model.predict(x, hsdict)\n",
    "\n",
    "#             hid_rep = hid_rep.cpu().detach().numpy()\n",
    "\n",
    "#             # hidden viewer\n",
    "#             html = \"\"\"\"\"\"\n",
    "#             html += HiddenViewer.css_in\n",
    "\n",
    "#             html += f\"\"\"<h1>{reverse_find_name}</h1><br>\"\"\"\n",
    "\n",
    "#             html += HiddenViewer.frame_pred_vis\n",
    "\n",
    "#             html += Plotter.plot_spectrogram(\n",
    "#                 hid_rep, \n",
    "#                 title=\"ML Spectrogram\" + side, \n",
    "#                 save_path= os.path.join(spectrogram_,whether_smooth, reverse_find_name)\n",
    "#             )\n",
    "\n",
    "#             html += Plotter.plot_line_graph(hid_rep, [\"0\", \"1\", \"2\", \"3\", \"4\"], \n",
    "#                                             \"ML Linegraph\" + side, y_axis_label=\"Val\", \n",
    "#                                             save_path= os.path.join(linegraph_, whether_smooth, reverse_find_name))\n",
    "            \n",
    "#             html += HiddenViewer.control_script_pre + str(pred) + HiddenViewer.control_script_post\n",
    "            \n",
    "#             Plotter.write_to_html(html, os.path.join(hidden_, whether_smooth, f\"{reverse_find_name}.html\"))\n",
    "\n",
    "#             # preds viewer\n",
    "#             predsviewer = PredictionViewer(\n",
    "#                 file_name=reverse_find_name, \n",
    "#                 sign_name=clip, \n",
    "#                 frame_count=len(os.listdir(os.path.join(det_sub_dir, clip))), \n",
    "#                 predictions=pred\n",
    "#             )\n",
    "#             Plotter.write_to_html(predsviewer.html, os.path.join(preds_, whether_smooth, f\"{reverse_find_name}.html\"))\n",
    "\n",
    "#             # result table\n",
    "#             target_handshape = gr.extract_allkinds(clip)\n",
    "#             if side == \"Right\": \n",
    "#                 target = target_handshape.dexter\n",
    "#             elif side == \"Left\": \n",
    "#                 target = target_handshape.sinister\n",
    "#             else: \n",
    "#                 target = \" \" # no handshape, this will show as space faithfully\n",
    "#             if not target: \n",
    "#                 target = \" \"\n",
    "\n",
    "#             total_number = len(pred)\n",
    "\n",
    "#             sign_name_list += [clip] * total_number\n",
    "#             side_list += [side] * total_number\n",
    "#             smoothing_list += [whether_smooth] * total_number\n",
    "#             frame_idx_list += list(range(total_number))\n",
    "#             target_handshape_list += [target] * total_number\n",
    "#             predicted_handshape_list += pred\n",
    "#             is_correct_list += (np.array(pred) == target).astype(int).tolist()\n",
    "\n",
    "# data = {\n",
    "#     \"sign_name\": sign_name_list, \n",
    "#     \"side\": side_list, \n",
    "#     \"smoothing\": smoothing_list, \n",
    "#     \"frame_idx\": frame_idx_list, \n",
    "#     \"target\": target_handshape_list, \n",
    "#     \"predicted\": predicted_handshape_list, \n",
    "#     \"is_correct\": is_correct_list\n",
    "# }\n",
    "# df = pd.DataFrame(data)\n",
    "# df.to_excel(predict_result_path)"
   ]
  },
  {
   "cell_type": "code",
   "execution_count": 10,
   "metadata": {},
   "outputs": [],
   "source": [
    "df = pd.read_excel(src_dir + \"HKSL_Prediction_try.xlsx\")"
   ]
  },
  {
   "cell_type": "code",
   "execution_count": 11,
   "metadata": {},
   "outputs": [
    {
     "data": {
      "text/html": [
       "<div>\n",
       "<style scoped>\n",
       "    .dataframe tbody tr th:only-of-type {\n",
       "        vertical-align: middle;\n",
       "    }\n",
       "\n",
       "    .dataframe tbody tr th {\n",
       "        vertical-align: top;\n",
       "    }\n",
       "\n",
       "    .dataframe thead th {\n",
       "        text-align: right;\n",
       "    }\n",
       "</style>\n",
       "<table border=\"1\" class=\"dataframe\">\n",
       "  <thead>\n",
       "    <tr style=\"text-align: right;\">\n",
       "      <th></th>\n",
       "      <th>Unnamed: 0</th>\n",
       "      <th>sign_name</th>\n",
       "      <th>side</th>\n",
       "      <th>smoothing</th>\n",
       "      <th>frame_idx</th>\n",
       "      <th>target</th>\n",
       "      <th>predicted</th>\n",
       "      <th>is_correct</th>\n",
       "      <th>anno</th>\n",
       "    </tr>\n",
       "  </thead>\n",
       "  <tbody>\n",
       "    <tr>\n",
       "      <th>0</th>\n",
       "      <td>0</td>\n",
       "      <td>HKSL_lesson_only406-BEST_FRIENDS-0QRR-882</td>\n",
       "      <td>Right</td>\n",
       "      <td>non</td>\n",
       "      <td>0</td>\n",
       "      <td>6</td>\n",
       "      <td>x</td>\n",
       "      <td>0</td>\n",
       "      <td>HS</td>\n",
       "    </tr>\n",
       "    <tr>\n",
       "      <th>1</th>\n",
       "      <td>1</td>\n",
       "      <td>HKSL_lesson_only406-BEST_FRIENDS-0QRR-882</td>\n",
       "      <td>Right</td>\n",
       "      <td>non</td>\n",
       "      <td>1</td>\n",
       "      <td>6</td>\n",
       "      <td>x</td>\n",
       "      <td>0</td>\n",
       "      <td>HS</td>\n",
       "    </tr>\n",
       "    <tr>\n",
       "      <th>2</th>\n",
       "      <td>2</td>\n",
       "      <td>HKSL_lesson_only406-BEST_FRIENDS-0QRR-882</td>\n",
       "      <td>Right</td>\n",
       "      <td>non</td>\n",
       "      <td>2</td>\n",
       "      <td>6</td>\n",
       "      <td>x</td>\n",
       "      <td>0</td>\n",
       "      <td>HS</td>\n",
       "    </tr>\n",
       "    <tr>\n",
       "      <th>3</th>\n",
       "      <td>3</td>\n",
       "      <td>HKSL_lesson_only406-BEST_FRIENDS-0QRR-882</td>\n",
       "      <td>Right</td>\n",
       "      <td>non</td>\n",
       "      <td>3</td>\n",
       "      <td>6</td>\n",
       "      <td>x</td>\n",
       "      <td>0</td>\n",
       "      <td>HS</td>\n",
       "    </tr>\n",
       "    <tr>\n",
       "      <th>4</th>\n",
       "      <td>4</td>\n",
       "      <td>HKSL_lesson_only406-BEST_FRIENDS-0QRR-882</td>\n",
       "      <td>Right</td>\n",
       "      <td>non</td>\n",
       "      <td>4</td>\n",
       "      <td>6</td>\n",
       "      <td>x</td>\n",
       "      <td>0</td>\n",
       "      <td>HS</td>\n",
       "    </tr>\n",
       "    <tr>\n",
       "      <th>...</th>\n",
       "      <td>...</td>\n",
       "      <td>...</td>\n",
       "      <td>...</td>\n",
       "      <td>...</td>\n",
       "      <td>...</td>\n",
       "      <td>...</td>\n",
       "      <td>...</td>\n",
       "      <td>...</td>\n",
       "      <td>...</td>\n",
       "    </tr>\n",
       "    <tr>\n",
       "      <th>88811</th>\n",
       "      <td>88811</td>\n",
       "      <td>HKSL_lesson_only72-VOLLEYBALL-0OSI-535</td>\n",
       "      <td>Left</td>\n",
       "      <td>non</td>\n",
       "      <td>51</td>\n",
       "      <td>y</td>\n",
       "      <td>x</td>\n",
       "      <td>0</td>\n",
       "      <td>HS</td>\n",
       "    </tr>\n",
       "    <tr>\n",
       "      <th>88812</th>\n",
       "      <td>88812</td>\n",
       "      <td>HKSL_lesson_only72-VOLLEYBALL-0OSI-535</td>\n",
       "      <td>Left</td>\n",
       "      <td>non</td>\n",
       "      <td>52</td>\n",
       "      <td>y</td>\n",
       "      <td>x</td>\n",
       "      <td>0</td>\n",
       "      <td>HS</td>\n",
       "    </tr>\n",
       "    <tr>\n",
       "      <th>88813</th>\n",
       "      <td>88813</td>\n",
       "      <td>HKSL_lesson_only72-VOLLEYBALL-0OSI-535</td>\n",
       "      <td>Left</td>\n",
       "      <td>non</td>\n",
       "      <td>53</td>\n",
       "      <td>y</td>\n",
       "      <td>x</td>\n",
       "      <td>0</td>\n",
       "      <td>HS</td>\n",
       "    </tr>\n",
       "    <tr>\n",
       "      <th>88814</th>\n",
       "      <td>88814</td>\n",
       "      <td>HKSL_lesson_only72-VOLLEYBALL-0OSI-535</td>\n",
       "      <td>Left</td>\n",
       "      <td>non</td>\n",
       "      <td>54</td>\n",
       "      <td>y</td>\n",
       "      <td>x</td>\n",
       "      <td>0</td>\n",
       "      <td>HS</td>\n",
       "    </tr>\n",
       "    <tr>\n",
       "      <th>88815</th>\n",
       "      <td>88815</td>\n",
       "      <td>HKSL_lesson_only72-VOLLEYBALL-0OSI-535</td>\n",
       "      <td>Left</td>\n",
       "      <td>non</td>\n",
       "      <td>55</td>\n",
       "      <td>y</td>\n",
       "      <td>x</td>\n",
       "      <td>0</td>\n",
       "      <td>HS</td>\n",
       "    </tr>\n",
       "  </tbody>\n",
       "</table>\n",
       "<p>88816 rows × 9 columns</p>\n",
       "</div>"
      ],
      "text/plain": [
       "       Unnamed: 0                                  sign_name   side smoothing  \\\n",
       "0               0  HKSL_lesson_only406-BEST_FRIENDS-0QRR-882  Right       non   \n",
       "1               1  HKSL_lesson_only406-BEST_FRIENDS-0QRR-882  Right       non   \n",
       "2               2  HKSL_lesson_only406-BEST_FRIENDS-0QRR-882  Right       non   \n",
       "3               3  HKSL_lesson_only406-BEST_FRIENDS-0QRR-882  Right       non   \n",
       "4               4  HKSL_lesson_only406-BEST_FRIENDS-0QRR-882  Right       non   \n",
       "...           ...                                        ...    ...       ...   \n",
       "88811       88811     HKSL_lesson_only72-VOLLEYBALL-0OSI-535   Left       non   \n",
       "88812       88812     HKSL_lesson_only72-VOLLEYBALL-0OSI-535   Left       non   \n",
       "88813       88813     HKSL_lesson_only72-VOLLEYBALL-0OSI-535   Left       non   \n",
       "88814       88814     HKSL_lesson_only72-VOLLEYBALL-0OSI-535   Left       non   \n",
       "88815       88815     HKSL_lesson_only72-VOLLEYBALL-0OSI-535   Left       non   \n",
       "\n",
       "       frame_idx target predicted  is_correct anno  \n",
       "0              0      6         x           0   HS  \n",
       "1              1      6         x           0   HS  \n",
       "2              2      6         x           0   HS  \n",
       "3              3      6         x           0   HS  \n",
       "4              4      6         x           0   HS  \n",
       "...          ...    ...       ...         ...  ...  \n",
       "88811         51      y         x           0   HS  \n",
       "88812         52      y         x           0   HS  \n",
       "88813         53      y         x           0   HS  \n",
       "88814         54      y         x           0   HS  \n",
       "88815         55      y         x           0   HS  \n",
       "\n",
       "[88816 rows x 9 columns]"
      ]
     },
     "execution_count": 11,
     "metadata": {},
     "output_type": "execute_result"
    }
   ],
   "source": [
    "df"
   ]
  },
  {
   "cell_type": "code",
   "execution_count": 13,
   "metadata": {},
   "outputs": [],
   "source": [
    "testdf = df[df[\"side\"] == \"Right\"]"
   ]
  },
  {
   "cell_type": "code",
   "execution_count": 14,
   "metadata": {},
   "outputs": [
    {
     "data": {
      "text/plain": [
       "0.5986163925413479"
      ]
     },
     "execution_count": 14,
     "metadata": {},
     "output_type": "execute_result"
    }
   ],
   "source": [
    "testdf[\"is_correct\"].sum()/len(testdf[\"is_correct\"])"
   ]
  },
  {
   "cell_type": "code",
   "execution_count": 19,
   "metadata": {},
   "outputs": [],
   "source": [
    "df = pd.read_excel(src_dir + \"HKSL_Prediction_try_test_mono.xlsx\")"
   ]
  },
  {
   "cell_type": "code",
   "execution_count": 20,
   "metadata": {},
   "outputs": [],
   "source": [
    "testdf = df[df[\"side\"] == \"Right\"]"
   ]
  },
  {
   "cell_type": "code",
   "execution_count": 21,
   "metadata": {},
   "outputs": [
    {
     "data": {
      "text/plain": [
       "0.3347723704866562"
      ]
     },
     "execution_count": 21,
     "metadata": {},
     "output_type": "execute_result"
    }
   ],
   "source": [
    "testdf[\"is_correct\"].sum()/len(testdf[\"is_correct\"])"
   ]
  },
  {
   "cell_type": "code",
   "execution_count": 15,
   "metadata": {},
   "outputs": [],
   "source": [
    "testmonodf = pd.read_excel(src_dir + \"HKSL_Prediction_test_mono.xlsx\")"
   ]
  },
  {
   "cell_type": "code",
   "execution_count": 16,
   "metadata": {},
   "outputs": [
    {
     "data": {
      "text/plain": [
       "0.09351569008608719"
      ]
     },
     "execution_count": 16,
     "metadata": {},
     "output_type": "execute_result"
    }
   ],
   "source": [
    "testmonodf[\"is_correct\"].sum()/len(testmonodf[\"is_correct\"])"
   ]
  },
  {
   "cell_type": "code",
   "execution_count": 17,
   "metadata": {},
   "outputs": [],
   "source": [
    "testpolydf = pd.read_excel(src_dir + \"HKSL_Prediction_test_poly.xlsx\")"
   ]
  },
  {
   "cell_type": "code",
   "execution_count": 18,
   "metadata": {},
   "outputs": [
    {
     "data": {
      "text/plain": [
       "0.09184046834979875"
      ]
     },
     "execution_count": 18,
     "metadata": {},
     "output_type": "execute_result"
    }
   ],
   "source": [
    "testpolydf[\"is_correct\"].sum()/len(testpolydf[\"is_correct\"])"
   ]
  },
  {
   "cell_type": "code",
   "execution_count": null,
   "metadata": {},
   "outputs": [],
   "source": []
  }
 ],
 "metadata": {
  "kernelspec": {
   "display_name": "slprt",
   "language": "python",
   "name": "python3"
  },
  "language_info": {
   "codemirror_mode": {
    "name": "ipython",
    "version": 3
   },
   "file_extension": ".py",
   "mimetype": "text/x-python",
   "name": "python",
   "nbconvert_exporter": "python",
   "pygments_lexer": "ipython3",
   "version": "3.11.4"
  },
  "orig_nbformat": 4
 },
 "nbformat": 4,
 "nbformat_minor": 2
}
