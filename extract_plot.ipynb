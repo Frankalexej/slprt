{
 "cells": [
  {
   "cell_type": "code",
   "execution_count": 81,
   "metadata": {},
   "outputs": [],
   "source": [
    "# import needed libs\n",
    "import cv2\n",
    "import math\n",
    "import numpy as np\n",
    "import mediapipe as mp\n",
    "import pandas as pd\n",
    "from mio import ResultIO\n",
    "from paths import *\n",
    "from sklearn.metrics.pairwise import euclidean_distances\n",
    "import itertools\n",
    "import json\n",
    "import matplotlib.pyplot as plt"
   ]
  },
  {
   "attachments": {},
   "cell_type": "markdown",
   "metadata": {},
   "source": [
    "# Generate manually selected feature plots"
   ]
  },
  {
   "cell_type": "code",
   "execution_count": 82,
   "metadata": {},
   "outputs": [],
   "source": [
    "def get_data(data, which):\n",
    "    return data[\"features\"][which]  # list\n",
    "\n",
    "def dist_between(a, b, mode=\"3d\"):\n",
    "    # 3d = consider all x y z\n",
    "    distance = euclidean_distances([np.array(a), np.array(b)])[0, 1]\n",
    "    return distance\n",
    "\n",
    "def get_comb(ls, comb_len=2):\n",
    "    # Get all possible combinations using itertools.combinations\n",
    "    combinations = list(itertools.combinations(ls, comb_len))\n",
    "    return combinations"
   ]
  },
  {
   "cell_type": "code",
   "execution_count": 83,
   "metadata": {},
   "outputs": [],
   "source": [
    "class Extractor:\n",
    "    def __init__(self, file_path):\n",
    "        # Read the JSON file\n",
    "        self.calc_mode = \"3d\"\n",
    "        self.f_tips = [\"4\", \"8\", \"12\", \"16\", \"20\"]\n",
    "        self.f_roots = [\"1\", \"5\", \"9\", \"13\", \"17\"]\n",
    "        self.palm = \"0\"\n",
    "        with open(file_path, 'r') as file:\n",
    "            data = json.load(file)\n",
    "            self.data = data\n",
    "            return\n",
    "    \n",
    "    def extract(self): \n",
    "        outlist = []\n",
    "        # p0x, p0y, p0z. \n",
    "        outlist += get_data(self.data, self.palm) # 0 three dims\n",
    "\n",
    "\n",
    "        for tipidx in range(len(self.f_tips)):\n",
    "            tip = self.f_tips[tipidx]\n",
    "            root = self.f_roots[tipidx]\n",
    "            outlist.append(dist_between(\n",
    "                get_data(self.data, root), get_data(self.data, tip)))\n",
    "        \n",
    "        dist_combs = get_comb(self.f_tips)\n",
    "        for comb in dist_combs:\n",
    "            outlist.append(dist_between(\n",
    "                get_data(self.data, comb[0]), get_data(self.data, comb[1])\n",
    "            ))\n",
    "        \n",
    "        return np.array(outlist)"
   ]
  },
  {
   "cell_type": "code",
   "execution_count": 84,
   "metadata": {},
   "outputs": [],
   "source": [
    "def loop_directory_concatenate_dataframes(directory_path):\n",
    "    # List all files in the directory and sort them\n",
    "    files = sorted(os.listdir(directory_path))\n",
    "\n",
    "    # Initialize an empty DataFrame\n",
    "    df = pd.DataFrame()\n",
    "\n",
    "    for file in files:\n",
    "        # Check if the file is a JSON file\n",
    "        if file.endswith('.json'):\n",
    "            file_path = os.path.join(directory_path, file)\n",
    "\n",
    "            ext = Extractor(file_path)\n",
    "\n",
    "            # Call the function to convert the JSON file to a NumPy array\n",
    "            np_array = ext.extract()\n",
    "\n",
    "            # Convert the NumPy array to a DataFrame and add a 'type' column\n",
    "            temp_df = pd.DataFrame(np_array).T  # this T makes sure the array is transformed into a row, instead of a column\n",
    "            file_name_without_ext = os.path.splitext(file)[0]\n",
    "            temp_df.insert(0, 'type', file_name_without_ext)\n",
    "\n",
    "            # Concatenate the temporary DataFrame with the main DataFrame\n",
    "            df = pd.concat([df, temp_df], ignore_index=True)\n",
    "\n",
    "    return df"
   ]
  },
  {
   "cell_type": "code",
   "execution_count": 85,
   "metadata": {},
   "outputs": [],
   "source": [
    "conted = loop_directory_concatenate_dataframes(graph_dir)\n",
    "conted.to_csv(os.path.join(feats_dir, \"feats.csv\"), index=False)"
   ]
  },
  {
   "attachments": {},
   "cell_type": "markdown",
   "metadata": {},
   "source": [
    "# Plot extracted vecs"
   ]
  },
  {
   "cell_type": "code",
   "execution_count": 87,
   "metadata": {},
   "outputs": [],
   "source": [
    "def read_vid_graph(name, src, start, end): \n",
    "    # Read the CSV file into a DataFrame\n",
    "    df = pd.read_csv(src)\n",
    "\n",
    "    df = df[df['type'].str.startswith(name)]\n",
    "\n",
    "    # Get the list of names\n",
    "    names = df['type'].tolist()\n",
    "\n",
    "    # Get the data columns and convert them to NumPy arrays\n",
    "    data = df.loc[:, start:end].to_numpy()\n",
    "\n",
    "    # Stack the arrays into a matrix\n",
    "    matrix = np.vstack(data)\n",
    "    return names, matrix"
   ]
  },
  {
   "cell_type": "code",
   "execution_count": 88,
   "metadata": {},
   "outputs": [],
   "source": [
    "def plot_spectrogram(specgram, title=None, ylabel=\"freq_bin\"):\n",
    "    fig, axs = plt.subplots(1, 1)\n",
    "    axs.set_title(title or \"Spectrogram (db)\")\n",
    "    axs.set_ylabel(ylabel)\n",
    "    axs.set_xlabel(\"frame\")\n",
    "    im = axs.imshow(specgram, origin=\"lower\", aspect=\"auto\")\n",
    "    fig.colorbar(im, ax=axs)\n",
    "    plt.show(block=False)"
   ]
  },
  {
   "cell_type": "code",
   "execution_count": 89,
   "metadata": {},
   "outputs": [],
   "source": [
    "def save_spectrogram(specgram, title=None, ylabel=\"freq_bin\", dir=\"./\"):\n",
    "    fig, axs = plt.subplots(1, 1)\n",
    "    axs.set_title(title or \"Spectrogram (db)\")\n",
    "    axs.set_ylabel(ylabel)\n",
    "    axs.set_xlabel(\"frame\")\n",
    "    im = axs.imshow(specgram, origin=\"lower\", aspect=\"auto\", cmap='gray_r')\n",
    "    fig.colorbar(im, ax=axs)\n",
    "    # plt.show(block=False)\n",
    "    plt.savefig(os.path.join(dir, '{}.jpg'.format(title)), format='jpeg', dpi=300)\n",
    "    plt.close()"
   ]
  },
  {
   "cell_type": "code",
   "execution_count": 90,
   "metadata": {},
   "outputs": [],
   "source": [
    "def save_line(vals, labels, title=None, dir=\"./\"): \n",
    "    for labelidx in range(len(labels)): \n",
    "        label = labels[labelidx]\n",
    "        # Plot the arrays\n",
    "        plt.plot(vals[:, labelidx], label=label)\n",
    "\n",
    "    # Customize the graph\n",
    "    plt.xlabel('frame')\n",
    "    plt.ylabel('val')\n",
    "    plt.title(title or 'Line Graph Features')\n",
    "    plt.legend()\n",
    "    plt.savefig(os.path.join(dir, '{}.jpg'.format(title)), format='jpeg', dpi=300)\n",
    "    plt.close()"
   ]
  },
  {
   "cell_type": "code",
   "execution_count": 91,
   "metadata": {},
   "outputs": [],
   "source": [
    "def read_and_save(start, end, suffix): \n",
    "    for vd in os.listdir(det_dir): \n",
    "        for clip in os.listdir(det_dir + vd + \"/\"): \n",
    "            n, m = read_vid_graph(clip, os.path.join(feats_dir, \"feats.csv\"), start, end)\n",
    "            save_spectrogram(m.T, title=clip + suffix, dir=spec_dir)"
   ]
  },
  {
   "cell_type": "code",
   "execution_count": 92,
   "metadata": {},
   "outputs": [],
   "source": [
    "def read_and_save_line(start, end, suffix, labels): \n",
    "    for vd in os.listdir(det_dir): \n",
    "        for clip in os.listdir(det_dir + vd + \"/\"): \n",
    "            n, m = read_vid_graph(clip, os.path.join(feats_dir, \"feats.csv\"), start, end)\n",
    "            save_line(m, labels, title=clip + suffix, dir=spec_dir)"
   ]
  },
  {
   "cell_type": "code",
   "execution_count": 93,
   "metadata": {},
   "outputs": [],
   "source": [
    "read_and_save_line('0', '1', '_p', [\"p_x\", \"p_y\"])"
   ]
  },
  {
   "cell_type": "code",
   "execution_count": 94,
   "metadata": {},
   "outputs": [],
   "source": [
    "read_and_save_line('3', '7', '_open', [\"thumb\", \"index\", \"middle\", \"ring\", \"pinky\"])"
   ]
  },
  {
   "cell_type": "code",
   "execution_count": null,
   "metadata": {},
   "outputs": [],
   "source": [
    "read_and_save_line('8', '11', '_dist', [\"thumb\", \"index\", \"middle\", \"ring\", \"pinky\"])"
   ]
  },
  {
   "cell_type": "code",
   "execution_count": null,
   "metadata": {},
   "outputs": [],
   "source": []
  },
  {
   "cell_type": "code",
   "execution_count": null,
   "metadata": {},
   "outputs": [],
   "source": []
  }
 ],
 "metadata": {
  "kernelspec": {
   "display_name": "slprt",
   "language": "python",
   "name": "python3"
  },
  "language_info": {
   "codemirror_mode": {
    "name": "ipython",
    "version": 3
   },
   "file_extension": ".py",
   "mimetype": "text/x-python",
   "name": "python",
   "nbconvert_exporter": "python",
   "pygments_lexer": "ipython3",
   "version": "3.10.11"
  },
  "orig_nbformat": 4
 },
 "nbformat": 4,
 "nbformat_minor": 2
}
