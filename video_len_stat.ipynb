{
 "cells": [
  {
   "cell_type": "code",
   "execution_count": 2,
   "metadata": {},
   "outputs": [],
   "source": [
    "import cv2\n",
    "import os\n",
    "\n",
    "from paths import *"
   ]
  },
  {
   "cell_type": "code",
   "execution_count": 3,
   "metadata": {},
   "outputs": [
    {
     "name": "stdout",
     "output_type": "stream",
     "text": [
      "Average video duration: 3.92 seconds\n"
     ]
    }
   ],
   "source": [
    "# Directory containing the video files\n",
    "video_dir = main_dir + \"src_tempold/vid/CitationSigns_Cynthia/\"\n",
    "\n",
    "# Initialize variables to store total duration and the number of videos\n",
    "total_duration = 0\n",
    "num_videos = 0\n",
    "\n",
    "# Iterate through the video files in the directory\n",
    "for filename in os.listdir(video_dir):\n",
    "    if filename.endswith('.mp4') or filename.endswith('.avi'):  # Adjust the file extensions as needed\n",
    "        video_path = os.path.join(video_dir, filename)\n",
    "        \n",
    "        # Open the video file\n",
    "        cap = cv2.VideoCapture(video_path)\n",
    "        \n",
    "        # Get the frame count (number of frames)\n",
    "        frame_count = int(cap.get(cv2.CAP_PROP_FRAME_COUNT))\n",
    "        \n",
    "        # Get the frame rate (frames per second)\n",
    "        frame_rate = int(cap.get(cv2.CAP_PROP_FPS))\n",
    "        \n",
    "        # Calculate the duration in seconds\n",
    "        duration = frame_count / frame_rate\n",
    "        \n",
    "        # Close the video file\n",
    "        cap.release()\n",
    "        \n",
    "        # Update total duration and number of videos\n",
    "        total_duration += duration\n",
    "        num_videos += 1\n",
    "\n",
    "# Calculate the average duration\n",
    "if num_videos > 0:\n",
    "    average_duration = total_duration / num_videos\n",
    "    print(f\"Average video duration: {average_duration:.2f} seconds\")\n",
    "else:\n",
    "    print(\"No video files found in the directory.\")\n"
   ]
  }
 ],
 "metadata": {
  "kernelspec": {
   "display_name": "slprt",
   "language": "python",
   "name": "python3"
  },
  "language_info": {
   "codemirror_mode": {
    "name": "ipython",
    "version": 3
   },
   "file_extension": ".py",
   "mimetype": "text/x-python",
   "name": "python",
   "nbconvert_exporter": "python",
   "pygments_lexer": "ipython3",
   "version": "3.10.11"
  },
  "orig_nbformat": 4
 },
 "nbformat": 4,
 "nbformat_minor": 2
}
