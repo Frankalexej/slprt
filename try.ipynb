{
 "cells": [
  {
   "cell_type": "code",
   "execution_count": 9,
   "metadata": {},
   "outputs": [],
   "source": [
    "import os\n",
    "import random\n",
    "import shutil\n",
    "\n",
    "from paths import src_dir"
   ]
  },
  {
   "cell_type": "code",
   "execution_count": 10,
   "metadata": {},
   "outputs": [],
   "source": [
    "def add_suffix_to_path(path, suffix): \n",
    "    # Check if the path already ends with a slash\n",
    "    if path.endswith('/'):\n",
    "        new_path = path.rstrip('/') + suffix + '/'\n",
    "    else:\n",
    "        new_path = path + suffix + '/'\n",
    "    return new_path"
   ]
  },
  {
   "cell_type": "code",
   "execution_count": 11,
   "metadata": {},
   "outputs": [],
   "source": [
    "def random_split(parent_dir, ratio_train=0.8):\n",
    "    \"\"\"\n",
    "    Randomly separate subdirectories within a parent directory and move them to\n",
    "    separate output directories according to the given ratios.\n",
    "\n",
    "    Parameters:\n",
    "    - parent_dir: The parent directory containing subdirectories to be split.\n",
    "    - ratios: A list of ratios (e.g., [0.7, 0.3]) specifying the split ratio.\n",
    "    - output_dirs: A list of output directory names for the separated data.\n",
    "\n",
    "    Returns:\n",
    "    - None\n",
    "    \"\"\"\n",
    "    # define the suffixes of the different data chunks\n",
    "    suffixes = [\"_train\", \"_validate\"]\n",
    "\n",
    "    # adding suffixes to form output directories\n",
    "    output_dirs = [add_suffix_to_path(parent_dir, suffix) for suffix in suffixes]\n",
    "\n",
    "    # count the subdirectories that will be moved\n",
    "    subdirectories = [d for d in os.listdir(parent_dir) if os.path.isdir(os.path.join(parent_dir, d))]\n",
    "\n",
    "    # Create output directories if they don't exist\n",
    "    for output_dir in output_dirs:\n",
    "        os.makedirs(output_dir, exist_ok=True)\n",
    "\n",
    "    random.shuffle(subdirectories)\n",
    "\n",
    "    # calculate the position of split\n",
    "    total_dirs = len(subdirectories)\n",
    "    split_point = int(ratio_train * total_dirs)\n",
    "\n",
    "    train_dirs = subdirectories[:split_point]\n",
    "    test_dirs = subdirectories[split_point:]\n",
    "    both_dirs = [train_dirs, test_dirs]\n",
    "\n",
    "    for move_idx in range(len(both_dirs)): \n",
    "        move_dirs = both_dirs[move_idx]\n",
    "        output_dir = output_dirs[move_idx]\n",
    "\n",
    "        for move_dir in move_dirs: \n",
    "            source = os.path.join(parent_dir, move_dir)\n",
    "            destination = os.path.join(output_dir, move_dir)\n",
    "            shutil.move(source, destination)\n",
    "\n",
    "\n",
    "if __name__ == '__main__':\n",
    "    random_split(os.path.join(src_dir, \"try/one/\"), 0.8)"
   ]
  },
  {
   "cell_type": "code",
   "execution_count": 1,
   "metadata": {},
   "outputs": [],
   "source": [
    "import torch\n",
    "import torch.nn as nn"
   ]
  },
  {
   "cell_type": "code",
   "execution_count": 23,
   "metadata": {},
   "outputs": [],
   "source": [
    "ks = 3\n",
    "x = torch.rand((10, 21, 3))\n",
    "conv = nn.Conv1d(in_channels=3, out_channels=5, kernel_size=ks)\n",
    "act = nn.ReLU()\n",
    "mp = nn.MaxPool1d(kernel_size=21 - ks + 1)"
   ]
  },
  {
   "cell_type": "code",
   "execution_count": 24,
   "metadata": {},
   "outputs": [],
   "source": [
    "y = conv(x.permute(0, 2, 1))\n",
    "y = act(y)\n",
    "y = mp(y)"
   ]
  },
  {
   "cell_type": "code",
   "execution_count": 25,
   "metadata": {},
   "outputs": [],
   "source": [
    "y = y.permute(0, 2, 1)"
   ]
  },
  {
   "cell_type": "code",
   "execution_count": 26,
   "metadata": {},
   "outputs": [
    {
     "data": {
      "text/plain": [
       "torch.Size([10, 1, 5])"
      ]
     },
     "execution_count": 26,
     "metadata": {},
     "output_type": "execute_result"
    }
   ],
   "source": [
    "y.shape"
   ]
  },
  {
   "cell_type": "code",
   "execution_count": 3,
   "metadata": {},
   "outputs": [],
   "source": [
    "import fontTools.ttLib as tt\n",
    "from paths import *"
   ]
  },
  {
   "cell_type": "code",
   "execution_count": 5,
   "metadata": {},
   "outputs": [
    {
     "name": "stdout",
     "output_type": "stream",
     "text": [
      "[' ', '!', '\"', '#', '$', '%', '&', '(', ')', '*', '+', ',', '-', '.', '/', '0', '1', '2', '3', '4', '5', '6', '7', '8', '9', ':', ';', '<', '=', '>', '?', '@', 'A', 'B', 'C', 'D', 'E', 'F', 'G', 'H', 'I', 'J', 'K', 'L', 'M', 'N', 'O', 'P', 'Q', 'R', 'S', 'T', 'U', 'V', 'W', 'X', 'Y', 'Z', '[', '\\\\', ']', '^', '_', '`', 'a', 'b', 'c', 'd', 'e', 'f', 'g', 'h', 'i', 'j', 'k', 'l', 'm', 'n', 'o', 'p', 'q', 'r', 's', 't', 'u', 'v', 'w', 'x', 'y', 'z', '{', '|', '}', '~', '‐']\n"
     ]
    }
   ],
   "source": [
    "def list_font_characters(font_path):\n",
    "    font = tt.TTFont(font_path)\n",
    "    cmap = font.getBestCmap()\n",
    "    # characters = sorted(cmap.keys())\n",
    "    characters = [chr(char_code) for char_code in sorted(cmap.keys())]\n",
    "    return characters\n",
    "\n",
    "font_path = src_dir + \"handshape.TTF\"\n",
    "characters = list_font_characters(font_path)\n",
    "print(characters)"
   ]
  },
  {
   "cell_type": "code",
   "execution_count": 6,
   "metadata": {},
   "outputs": [
    {
     "data": {
      "text/plain": [
       "95"
      ]
     },
     "execution_count": 6,
     "metadata": {},
     "output_type": "execute_result"
    }
   ],
   "source": [
    "len(characters)"
   ]
  },
  {
   "cell_type": "code",
   "execution_count": 7,
   "metadata": {},
   "outputs": [],
   "source": [
    "import pandas as pd"
   ]
  },
  {
   "cell_type": "code",
   "execution_count": 45,
   "metadata": {},
   "outputs": [],
   "source": [
    "guideline = pd.read_csv(guide_path)"
   ]
  },
  {
   "cell_type": "code",
   "execution_count": 46,
   "metadata": {},
   "outputs": [],
   "source": [
    "all_list = []\n",
    "\n",
    "for hs in ['DH_1', 'OH_1', 'DH_2', 'OH_2', 'DH_3', 'OH_3', 'DH_4', 'OH_4']: \n",
    "    all_list += guideline[(guideline[hs].notna())&(guideline[hs] != \"NONE\")][hs].tolist()"
   ]
  },
  {
   "cell_type": "code",
   "execution_count": 49,
   "metadata": {},
   "outputs": [
    {
     "data": {
      "text/plain": [
       "\"[')', ',', '-', '0', '1', '2', '3', '4', '5', '6', '8', ':', ';', '<', '=', '>', '?', 'A', 'B', 'C', 'D', 'E', 'F', 'H', 'I', 'J', 'L', 'M', 'N', 'O', 'P', 'T', 'U', 'V', 'W', 'X', 'Y', 'Z', '\\\\\\\\', 'b', 'd', 'f', 'g', 'h', 'i', 'j', 'k', 'l', 'm', 'n', 'o', 'p', 'q', 'r', 's', 't', 'u', 'v', 'w', 'x', 'y', 'z', '}']\""
      ]
     },
     "execution_count": 49,
     "metadata": {},
     "output_type": "execute_result"
    }
   ],
   "source": [
    "str(sorted(set(all_list)))"
   ]
  },
  {
   "cell_type": "code",
   "execution_count": 1,
   "metadata": {},
   "outputs": [],
   "source": [
    "import os\n",
    "import svgwrite\n",
    "from PIL import Image, ImageDraw, ImageFont"
   ]
  },
  {
   "cell_type": "code",
   "execution_count": 2,
   "metadata": {},
   "outputs": [],
   "source": [
    "def generate_svg(font_path, output_path):\n",
    "    # Define the characters you want to include in the SVG\n",
    "    characters = [chr(i) for i in range(32, 127)]  # ASCII characters\n",
    "\n",
    "    # Load the font\n",
    "    font_size = 30\n",
    "    font = ImageFont.truetype(font_path, font_size)\n",
    "\n",
    "    # Determine the size of the SVG canvas\n",
    "    canvas_width = font_size * len(characters)\n",
    "    canvas_height = font_size * 2\n",
    "\n",
    "    # Create an SVG drawing\n",
    "    dwg = svgwrite.Drawing(output_path, profile='tiny', size=(f\"{canvas_width}px\", f\"{canvas_height}px\"))\n",
    "\n",
    "    # Draw each character on the SVG canvas\n",
    "    for i, char in enumerate(characters):\n",
    "        x_position = i * font_size\n",
    "        y_position = font_size\n",
    "\n",
    "        dwg.add(dwg.text(char, insert=(f\"{x_position}px\", f\"{y_position}px\"), font_size=font_size, font_family=font_path))\n",
    "\n",
    "    # Save the SVG file\n",
    "    dwg.save()"
   ]
  },
  {
   "cell_type": "code",
   "execution_count": null,
   "metadata": {},
   "outputs": [],
   "source": [
    "if __name__ == \"__main__\":\n",
    "    font_path = src_dir + \"handshape.TTF\" # Replace with the path to your font file\n",
    "    output_path = \"output.svg\"  # Replace with the desired output file path\n",
    "\n",
    "    if os.path.isfile(font_path):\n",
    "        generate_svg(font_path, output_path)\n",
    "        print(f\"SVG file generated: {output_path}\")\n",
    "    else:\n",
    "        print(\"Invalid font file path.\")\n"
   ]
  },
  {
   "cell_type": "code",
   "execution_count": 6,
   "metadata": {},
   "outputs": [],
   "source": [
    "import fontTools.ttLib as tt\n",
    "from paths import *\n",
    "from PIL import Image, ImageDraw, ImageFont"
   ]
  },
  {
   "cell_type": "code",
   "execution_count": 5,
   "metadata": {},
   "outputs": [
    {
     "name": "stdout",
     "output_type": "stream",
     "text": [
      "[' ', '!', '\"', '#', '$', '%', '&', '(', ')', '*', '+', ',', '-', '.', '/', '0', '1', '2', '3', '4', '5', '6', '7', '8', '9', ':', ';', '<', '=', '>', '?', '@', 'A', 'B', 'C', 'D', 'E', 'F', 'G', 'H', 'I', 'J', 'K', 'L', 'M', 'N', 'O', 'P', 'Q', 'R', 'S', 'T', 'U', 'V', 'W', 'X', 'Y', 'Z', '[', '\\\\', ']', '^', '_', '`', 'a', 'b', 'c', 'd', 'e', 'f', 'g', 'h', 'i', 'j', 'k', 'l', 'm', 'n', 'o', 'p', 'q', 'r', 's', 't', 'u', 'v', 'w', 'x', 'y', 'z', '{', '|', '}', '~', '‐']\n"
     ]
    }
   ],
   "source": [
    "def list_font_characters(font_path):\n",
    "    font = tt.TTFont(font_path)\n",
    "    cmap = font.getBestCmap()\n",
    "    # characters = sorted(cmap.keys())\n",
    "    characters = [chr(char_code) for char_code in sorted(cmap.keys())]\n",
    "    return characters\n",
    "\n",
    "font_path = src_dir + \"handshape.TTF\"\n",
    "characters = list_font_characters(font_path)\n",
    "print(characters)"
   ]
  },
  {
   "cell_type": "code",
   "execution_count": 29,
   "metadata": {},
   "outputs": [],
   "source": [
    "font_size = 288\n",
    "canvas_size = font_size * 2"
   ]
  },
  {
   "cell_type": "code",
   "execution_count": 31,
   "metadata": {},
   "outputs": [
    {
     "name": "stderr",
     "output_type": "stream",
     "text": [
      "/tmp/ipykernel_1240378/3103861082.py:5: DeprecationWarning: textsize is deprecated and will be removed in Pillow 10 (2023-07-01). Use textbbox or textlength instead.\n",
      "  text_width, text_height = draw.textsize(text, font=font)\n",
      "/tmp/ipykernel_1240378/3103861082.py:5: DeprecationWarning: textsize is deprecated and will be removed in Pillow 10 (2023-07-01). Use textbbox or textlength instead.\n",
      "  text_width, text_height = draw.textsize(text, font=font)\n",
      "/tmp/ipykernel_1240378/3103861082.py:5: DeprecationWarning: textsize is deprecated and will be removed in Pillow 10 (2023-07-01). Use textbbox or textlength instead.\n",
      "  text_width, text_height = draw.textsize(text, font=font)\n",
      "/tmp/ipykernel_1240378/3103861082.py:5: DeprecationWarning: textsize is deprecated and will be removed in Pillow 10 (2023-07-01). Use textbbox or textlength instead.\n",
      "  text_width, text_height = draw.textsize(text, font=font)\n",
      "/tmp/ipykernel_1240378/3103861082.py:5: DeprecationWarning: textsize is deprecated and will be removed in Pillow 10 (2023-07-01). Use textbbox or textlength instead.\n",
      "  text_width, text_height = draw.textsize(text, font=font)\n",
      "/tmp/ipykernel_1240378/3103861082.py:5: DeprecationWarning: textsize is deprecated and will be removed in Pillow 10 (2023-07-01). Use textbbox or textlength instead.\n",
      "  text_width, text_height = draw.textsize(text, font=font)\n",
      "/tmp/ipykernel_1240378/3103861082.py:5: DeprecationWarning: textsize is deprecated and will be removed in Pillow 10 (2023-07-01). Use textbbox or textlength instead.\n",
      "  text_width, text_height = draw.textsize(text, font=font)\n",
      "/tmp/ipykernel_1240378/3103861082.py:5: DeprecationWarning: textsize is deprecated and will be removed in Pillow 10 (2023-07-01). Use textbbox or textlength instead.\n",
      "  text_width, text_height = draw.textsize(text, font=font)\n",
      "/tmp/ipykernel_1240378/3103861082.py:5: DeprecationWarning: textsize is deprecated and will be removed in Pillow 10 (2023-07-01). Use textbbox or textlength instead.\n",
      "  text_width, text_height = draw.textsize(text, font=font)\n",
      "/tmp/ipykernel_1240378/3103861082.py:5: DeprecationWarning: textsize is deprecated and will be removed in Pillow 10 (2023-07-01). Use textbbox or textlength instead.\n",
      "  text_width, text_height = draw.textsize(text, font=font)\n",
      "/tmp/ipykernel_1240378/3103861082.py:5: DeprecationWarning: textsize is deprecated and will be removed in Pillow 10 (2023-07-01). Use textbbox or textlength instead.\n",
      "  text_width, text_height = draw.textsize(text, font=font)\n",
      "/tmp/ipykernel_1240378/3103861082.py:5: DeprecationWarning: textsize is deprecated and will be removed in Pillow 10 (2023-07-01). Use textbbox or textlength instead.\n",
      "  text_width, text_height = draw.textsize(text, font=font)\n",
      "/tmp/ipykernel_1240378/3103861082.py:5: DeprecationWarning: textsize is deprecated and will be removed in Pillow 10 (2023-07-01). Use textbbox or textlength instead.\n",
      "  text_width, text_height = draw.textsize(text, font=font)\n",
      "/tmp/ipykernel_1240378/3103861082.py:5: DeprecationWarning: textsize is deprecated and will be removed in Pillow 10 (2023-07-01). Use textbbox or textlength instead.\n",
      "  text_width, text_height = draw.textsize(text, font=font)\n",
      "/tmp/ipykernel_1240378/3103861082.py:5: DeprecationWarning: textsize is deprecated and will be removed in Pillow 10 (2023-07-01). Use textbbox or textlength instead.\n",
      "  text_width, text_height = draw.textsize(text, font=font)\n",
      "/tmp/ipykernel_1240378/3103861082.py:5: DeprecationWarning: textsize is deprecated and will be removed in Pillow 10 (2023-07-01). Use textbbox or textlength instead.\n",
      "  text_width, text_height = draw.textsize(text, font=font)\n",
      "/tmp/ipykernel_1240378/3103861082.py:5: DeprecationWarning: textsize is deprecated and will be removed in Pillow 10 (2023-07-01). Use textbbox or textlength instead.\n",
      "  text_width, text_height = draw.textsize(text, font=font)\n",
      "/tmp/ipykernel_1240378/3103861082.py:5: DeprecationWarning: textsize is deprecated and will be removed in Pillow 10 (2023-07-01). Use textbbox or textlength instead.\n",
      "  text_width, text_height = draw.textsize(text, font=font)\n",
      "/tmp/ipykernel_1240378/3103861082.py:5: DeprecationWarning: textsize is deprecated and will be removed in Pillow 10 (2023-07-01). Use textbbox or textlength instead.\n",
      "  text_width, text_height = draw.textsize(text, font=font)\n",
      "/tmp/ipykernel_1240378/3103861082.py:5: DeprecationWarning: textsize is deprecated and will be removed in Pillow 10 (2023-07-01). Use textbbox or textlength instead.\n",
      "  text_width, text_height = draw.textsize(text, font=font)\n",
      "/tmp/ipykernel_1240378/3103861082.py:5: DeprecationWarning: textsize is deprecated and will be removed in Pillow 10 (2023-07-01). Use textbbox or textlength instead.\n",
      "  text_width, text_height = draw.textsize(text, font=font)\n",
      "/tmp/ipykernel_1240378/3103861082.py:5: DeprecationWarning: textsize is deprecated and will be removed in Pillow 10 (2023-07-01). Use textbbox or textlength instead.\n",
      "  text_width, text_height = draw.textsize(text, font=font)\n",
      "/tmp/ipykernel_1240378/3103861082.py:5: DeprecationWarning: textsize is deprecated and will be removed in Pillow 10 (2023-07-01). Use textbbox or textlength instead.\n",
      "  text_width, text_height = draw.textsize(text, font=font)\n",
      "/tmp/ipykernel_1240378/3103861082.py:5: DeprecationWarning: textsize is deprecated and will be removed in Pillow 10 (2023-07-01). Use textbbox or textlength instead.\n",
      "  text_width, text_height = draw.textsize(text, font=font)\n",
      "/tmp/ipykernel_1240378/3103861082.py:5: DeprecationWarning: textsize is deprecated and will be removed in Pillow 10 (2023-07-01). Use textbbox or textlength instead.\n",
      "  text_width, text_height = draw.textsize(text, font=font)\n",
      "/tmp/ipykernel_1240378/3103861082.py:5: DeprecationWarning: textsize is deprecated and will be removed in Pillow 10 (2023-07-01). Use textbbox or textlength instead.\n",
      "  text_width, text_height = draw.textsize(text, font=font)\n",
      "/tmp/ipykernel_1240378/3103861082.py:5: DeprecationWarning: textsize is deprecated and will be removed in Pillow 10 (2023-07-01). Use textbbox or textlength instead.\n",
      "  text_width, text_height = draw.textsize(text, font=font)\n",
      "/tmp/ipykernel_1240378/3103861082.py:5: DeprecationWarning: textsize is deprecated and will be removed in Pillow 10 (2023-07-01). Use textbbox or textlength instead.\n",
      "  text_width, text_height = draw.textsize(text, font=font)\n",
      "/tmp/ipykernel_1240378/3103861082.py:5: DeprecationWarning: textsize is deprecated and will be removed in Pillow 10 (2023-07-01). Use textbbox or textlength instead.\n",
      "  text_width, text_height = draw.textsize(text, font=font)\n",
      "/tmp/ipykernel_1240378/3103861082.py:5: DeprecationWarning: textsize is deprecated and will be removed in Pillow 10 (2023-07-01). Use textbbox or textlength instead.\n",
      "  text_width, text_height = draw.textsize(text, font=font)\n",
      "/tmp/ipykernel_1240378/3103861082.py:5: DeprecationWarning: textsize is deprecated and will be removed in Pillow 10 (2023-07-01). Use textbbox or textlength instead.\n",
      "  text_width, text_height = draw.textsize(text, font=font)\n",
      "/tmp/ipykernel_1240378/3103861082.py:5: DeprecationWarning: textsize is deprecated and will be removed in Pillow 10 (2023-07-01). Use textbbox or textlength instead.\n",
      "  text_width, text_height = draw.textsize(text, font=font)\n",
      "/tmp/ipykernel_1240378/3103861082.py:5: DeprecationWarning: textsize is deprecated and will be removed in Pillow 10 (2023-07-01). Use textbbox or textlength instead.\n",
      "  text_width, text_height = draw.textsize(text, font=font)\n",
      "/tmp/ipykernel_1240378/3103861082.py:5: DeprecationWarning: textsize is deprecated and will be removed in Pillow 10 (2023-07-01). Use textbbox or textlength instead.\n",
      "  text_width, text_height = draw.textsize(text, font=font)\n",
      "/tmp/ipykernel_1240378/3103861082.py:5: DeprecationWarning: textsize is deprecated and will be removed in Pillow 10 (2023-07-01). Use textbbox or textlength instead.\n",
      "  text_width, text_height = draw.textsize(text, font=font)\n",
      "/tmp/ipykernel_1240378/3103861082.py:5: DeprecationWarning: textsize is deprecated and will be removed in Pillow 10 (2023-07-01). Use textbbox or textlength instead.\n",
      "  text_width, text_height = draw.textsize(text, font=font)\n",
      "/tmp/ipykernel_1240378/3103861082.py:5: DeprecationWarning: textsize is deprecated and will be removed in Pillow 10 (2023-07-01). Use textbbox or textlength instead.\n",
      "  text_width, text_height = draw.textsize(text, font=font)\n",
      "/tmp/ipykernel_1240378/3103861082.py:5: DeprecationWarning: textsize is deprecated and will be removed in Pillow 10 (2023-07-01). Use textbbox or textlength instead.\n",
      "  text_width, text_height = draw.textsize(text, font=font)\n",
      "/tmp/ipykernel_1240378/3103861082.py:5: DeprecationWarning: textsize is deprecated and will be removed in Pillow 10 (2023-07-01). Use textbbox or textlength instead.\n",
      "  text_width, text_height = draw.textsize(text, font=font)\n",
      "/tmp/ipykernel_1240378/3103861082.py:5: DeprecationWarning: textsize is deprecated and will be removed in Pillow 10 (2023-07-01). Use textbbox or textlength instead.\n",
      "  text_width, text_height = draw.textsize(text, font=font)\n",
      "/tmp/ipykernel_1240378/3103861082.py:5: DeprecationWarning: textsize is deprecated and will be removed in Pillow 10 (2023-07-01). Use textbbox or textlength instead.\n",
      "  text_width, text_height = draw.textsize(text, font=font)\n",
      "/tmp/ipykernel_1240378/3103861082.py:5: DeprecationWarning: textsize is deprecated and will be removed in Pillow 10 (2023-07-01). Use textbbox or textlength instead.\n",
      "  text_width, text_height = draw.textsize(text, font=font)\n",
      "/tmp/ipykernel_1240378/3103861082.py:5: DeprecationWarning: textsize is deprecated and will be removed in Pillow 10 (2023-07-01). Use textbbox or textlength instead.\n",
      "  text_width, text_height = draw.textsize(text, font=font)\n",
      "/tmp/ipykernel_1240378/3103861082.py:5: DeprecationWarning: textsize is deprecated and will be removed in Pillow 10 (2023-07-01). Use textbbox or textlength instead.\n",
      "  text_width, text_height = draw.textsize(text, font=font)\n",
      "/tmp/ipykernel_1240378/3103861082.py:5: DeprecationWarning: textsize is deprecated and will be removed in Pillow 10 (2023-07-01). Use textbbox or textlength instead.\n",
      "  text_width, text_height = draw.textsize(text, font=font)\n",
      "/tmp/ipykernel_1240378/3103861082.py:5: DeprecationWarning: textsize is deprecated and will be removed in Pillow 10 (2023-07-01). Use textbbox or textlength instead.\n",
      "  text_width, text_height = draw.textsize(text, font=font)\n",
      "/tmp/ipykernel_1240378/3103861082.py:5: DeprecationWarning: textsize is deprecated and will be removed in Pillow 10 (2023-07-01). Use textbbox or textlength instead.\n",
      "  text_width, text_height = draw.textsize(text, font=font)\n",
      "/tmp/ipykernel_1240378/3103861082.py:5: DeprecationWarning: textsize is deprecated and will be removed in Pillow 10 (2023-07-01). Use textbbox or textlength instead.\n",
      "  text_width, text_height = draw.textsize(text, font=font)\n",
      "/tmp/ipykernel_1240378/3103861082.py:5: DeprecationWarning: textsize is deprecated and will be removed in Pillow 10 (2023-07-01). Use textbbox or textlength instead.\n",
      "  text_width, text_height = draw.textsize(text, font=font)\n",
      "/tmp/ipykernel_1240378/3103861082.py:5: DeprecationWarning: textsize is deprecated and will be removed in Pillow 10 (2023-07-01). Use textbbox or textlength instead.\n",
      "  text_width, text_height = draw.textsize(text, font=font)\n",
      "/tmp/ipykernel_1240378/3103861082.py:5: DeprecationWarning: textsize is deprecated and will be removed in Pillow 10 (2023-07-01). Use textbbox or textlength instead.\n",
      "  text_width, text_height = draw.textsize(text, font=font)\n",
      "/tmp/ipykernel_1240378/3103861082.py:5: DeprecationWarning: textsize is deprecated and will be removed in Pillow 10 (2023-07-01). Use textbbox or textlength instead.\n",
      "  text_width, text_height = draw.textsize(text, font=font)\n",
      "/tmp/ipykernel_1240378/3103861082.py:5: DeprecationWarning: textsize is deprecated and will be removed in Pillow 10 (2023-07-01). Use textbbox or textlength instead.\n",
      "  text_width, text_height = draw.textsize(text, font=font)\n",
      "/tmp/ipykernel_1240378/3103861082.py:5: DeprecationWarning: textsize is deprecated and will be removed in Pillow 10 (2023-07-01). Use textbbox or textlength instead.\n",
      "  text_width, text_height = draw.textsize(text, font=font)\n",
      "/tmp/ipykernel_1240378/3103861082.py:5: DeprecationWarning: textsize is deprecated and will be removed in Pillow 10 (2023-07-01). Use textbbox or textlength instead.\n",
      "  text_width, text_height = draw.textsize(text, font=font)\n",
      "/tmp/ipykernel_1240378/3103861082.py:5: DeprecationWarning: textsize is deprecated and will be removed in Pillow 10 (2023-07-01). Use textbbox or textlength instead.\n",
      "  text_width, text_height = draw.textsize(text, font=font)\n",
      "/tmp/ipykernel_1240378/3103861082.py:5: DeprecationWarning: textsize is deprecated and will be removed in Pillow 10 (2023-07-01). Use textbbox or textlength instead.\n",
      "  text_width, text_height = draw.textsize(text, font=font)\n",
      "/tmp/ipykernel_1240378/3103861082.py:5: DeprecationWarning: textsize is deprecated and will be removed in Pillow 10 (2023-07-01). Use textbbox or textlength instead.\n",
      "  text_width, text_height = draw.textsize(text, font=font)\n",
      "/tmp/ipykernel_1240378/3103861082.py:5: DeprecationWarning: textsize is deprecated and will be removed in Pillow 10 (2023-07-01). Use textbbox or textlength instead.\n",
      "  text_width, text_height = draw.textsize(text, font=font)\n",
      "/tmp/ipykernel_1240378/3103861082.py:5: DeprecationWarning: textsize is deprecated and will be removed in Pillow 10 (2023-07-01). Use textbbox or textlength instead.\n",
      "  text_width, text_height = draw.textsize(text, font=font)\n",
      "/tmp/ipykernel_1240378/3103861082.py:5: DeprecationWarning: textsize is deprecated and will be removed in Pillow 10 (2023-07-01). Use textbbox or textlength instead.\n",
      "  text_width, text_height = draw.textsize(text, font=font)\n",
      "/tmp/ipykernel_1240378/3103861082.py:5: DeprecationWarning: textsize is deprecated and will be removed in Pillow 10 (2023-07-01). Use textbbox or textlength instead.\n",
      "  text_width, text_height = draw.textsize(text, font=font)\n",
      "/tmp/ipykernel_1240378/3103861082.py:5: DeprecationWarning: textsize is deprecated and will be removed in Pillow 10 (2023-07-01). Use textbbox or textlength instead.\n",
      "  text_width, text_height = draw.textsize(text, font=font)\n",
      "/tmp/ipykernel_1240378/3103861082.py:5: DeprecationWarning: textsize is deprecated and will be removed in Pillow 10 (2023-07-01). Use textbbox or textlength instead.\n",
      "  text_width, text_height = draw.textsize(text, font=font)\n",
      "/tmp/ipykernel_1240378/3103861082.py:5: DeprecationWarning: textsize is deprecated and will be removed in Pillow 10 (2023-07-01). Use textbbox or textlength instead.\n",
      "  text_width, text_height = draw.textsize(text, font=font)\n",
      "/tmp/ipykernel_1240378/3103861082.py:5: DeprecationWarning: textsize is deprecated and will be removed in Pillow 10 (2023-07-01). Use textbbox or textlength instead.\n",
      "  text_width, text_height = draw.textsize(text, font=font)\n",
      "/tmp/ipykernel_1240378/3103861082.py:5: DeprecationWarning: textsize is deprecated and will be removed in Pillow 10 (2023-07-01). Use textbbox or textlength instead.\n",
      "  text_width, text_height = draw.textsize(text, font=font)\n",
      "/tmp/ipykernel_1240378/3103861082.py:5: DeprecationWarning: textsize is deprecated and will be removed in Pillow 10 (2023-07-01). Use textbbox or textlength instead.\n",
      "  text_width, text_height = draw.textsize(text, font=font)\n",
      "/tmp/ipykernel_1240378/3103861082.py:5: DeprecationWarning: textsize is deprecated and will be removed in Pillow 10 (2023-07-01). Use textbbox or textlength instead.\n",
      "  text_width, text_height = draw.textsize(text, font=font)\n",
      "/tmp/ipykernel_1240378/3103861082.py:5: DeprecationWarning: textsize is deprecated and will be removed in Pillow 10 (2023-07-01). Use textbbox or textlength instead.\n",
      "  text_width, text_height = draw.textsize(text, font=font)\n",
      "/tmp/ipykernel_1240378/3103861082.py:5: DeprecationWarning: textsize is deprecated and will be removed in Pillow 10 (2023-07-01). Use textbbox or textlength instead.\n",
      "  text_width, text_height = draw.textsize(text, font=font)\n",
      "/tmp/ipykernel_1240378/3103861082.py:5: DeprecationWarning: textsize is deprecated and will be removed in Pillow 10 (2023-07-01). Use textbbox or textlength instead.\n",
      "  text_width, text_height = draw.textsize(text, font=font)\n",
      "/tmp/ipykernel_1240378/3103861082.py:5: DeprecationWarning: textsize is deprecated and will be removed in Pillow 10 (2023-07-01). Use textbbox or textlength instead.\n",
      "  text_width, text_height = draw.textsize(text, font=font)\n",
      "/tmp/ipykernel_1240378/3103861082.py:5: DeprecationWarning: textsize is deprecated and will be removed in Pillow 10 (2023-07-01). Use textbbox or textlength instead.\n",
      "  text_width, text_height = draw.textsize(text, font=font)\n",
      "/tmp/ipykernel_1240378/3103861082.py:5: DeprecationWarning: textsize is deprecated and will be removed in Pillow 10 (2023-07-01). Use textbbox or textlength instead.\n",
      "  text_width, text_height = draw.textsize(text, font=font)\n",
      "/tmp/ipykernel_1240378/3103861082.py:5: DeprecationWarning: textsize is deprecated and will be removed in Pillow 10 (2023-07-01). Use textbbox or textlength instead.\n",
      "  text_width, text_height = draw.textsize(text, font=font)\n",
      "/tmp/ipykernel_1240378/3103861082.py:5: DeprecationWarning: textsize is deprecated and will be removed in Pillow 10 (2023-07-01). Use textbbox or textlength instead.\n",
      "  text_width, text_height = draw.textsize(text, font=font)\n",
      "/tmp/ipykernel_1240378/3103861082.py:5: DeprecationWarning: textsize is deprecated and will be removed in Pillow 10 (2023-07-01). Use textbbox or textlength instead.\n",
      "  text_width, text_height = draw.textsize(text, font=font)\n",
      "/tmp/ipykernel_1240378/3103861082.py:5: DeprecationWarning: textsize is deprecated and will be removed in Pillow 10 (2023-07-01). Use textbbox or textlength instead.\n",
      "  text_width, text_height = draw.textsize(text, font=font)\n",
      "/tmp/ipykernel_1240378/3103861082.py:5: DeprecationWarning: textsize is deprecated and will be removed in Pillow 10 (2023-07-01). Use textbbox or textlength instead.\n",
      "  text_width, text_height = draw.textsize(text, font=font)\n",
      "/tmp/ipykernel_1240378/3103861082.py:5: DeprecationWarning: textsize is deprecated and will be removed in Pillow 10 (2023-07-01). Use textbbox or textlength instead.\n",
      "  text_width, text_height = draw.textsize(text, font=font)\n",
      "/tmp/ipykernel_1240378/3103861082.py:5: DeprecationWarning: textsize is deprecated and will be removed in Pillow 10 (2023-07-01). Use textbbox or textlength instead.\n",
      "  text_width, text_height = draw.textsize(text, font=font)\n",
      "/tmp/ipykernel_1240378/3103861082.py:5: DeprecationWarning: textsize is deprecated and will be removed in Pillow 10 (2023-07-01). Use textbbox or textlength instead.\n",
      "  text_width, text_height = draw.textsize(text, font=font)\n",
      "/tmp/ipykernel_1240378/3103861082.py:5: DeprecationWarning: textsize is deprecated and will be removed in Pillow 10 (2023-07-01). Use textbbox or textlength instead.\n",
      "  text_width, text_height = draw.textsize(text, font=font)\n",
      "/tmp/ipykernel_1240378/3103861082.py:5: DeprecationWarning: textsize is deprecated and will be removed in Pillow 10 (2023-07-01). Use textbbox or textlength instead.\n",
      "  text_width, text_height = draw.textsize(text, font=font)\n",
      "/tmp/ipykernel_1240378/3103861082.py:5: DeprecationWarning: textsize is deprecated and will be removed in Pillow 10 (2023-07-01). Use textbbox or textlength instead.\n",
      "  text_width, text_height = draw.textsize(text, font=font)\n",
      "/tmp/ipykernel_1240378/3103861082.py:5: DeprecationWarning: textsize is deprecated and will be removed in Pillow 10 (2023-07-01). Use textbbox or textlength instead.\n",
      "  text_width, text_height = draw.textsize(text, font=font)\n",
      "/tmp/ipykernel_1240378/3103861082.py:5: DeprecationWarning: textsize is deprecated and will be removed in Pillow 10 (2023-07-01). Use textbbox or textlength instead.\n",
      "  text_width, text_height = draw.textsize(text, font=font)\n",
      "/tmp/ipykernel_1240378/3103861082.py:5: DeprecationWarning: textsize is deprecated and will be removed in Pillow 10 (2023-07-01). Use textbbox or textlength instead.\n",
      "  text_width, text_height = draw.textsize(text, font=font)\n",
      "/tmp/ipykernel_1240378/3103861082.py:5: DeprecationWarning: textsize is deprecated and will be removed in Pillow 10 (2023-07-01). Use textbbox or textlength instead.\n",
      "  text_width, text_height = draw.textsize(text, font=font)\n",
      "/tmp/ipykernel_1240378/3103861082.py:5: DeprecationWarning: textsize is deprecated and will be removed in Pillow 10 (2023-07-01). Use textbbox or textlength instead.\n",
      "  text_width, text_height = draw.textsize(text, font=font)\n",
      "/tmp/ipykernel_1240378/3103861082.py:5: DeprecationWarning: textsize is deprecated and will be removed in Pillow 10 (2023-07-01). Use textbbox or textlength instead.\n",
      "  text_width, text_height = draw.textsize(text, font=font)\n",
      "/tmp/ipykernel_1240378/3103861082.py:5: DeprecationWarning: textsize is deprecated and will be removed in Pillow 10 (2023-07-01). Use textbbox or textlength instead.\n",
      "  text_width, text_height = draw.textsize(text, font=font)\n",
      "/tmp/ipykernel_1240378/3103861082.py:5: DeprecationWarning: textsize is deprecated and will be removed in Pillow 10 (2023-07-01). Use textbbox or textlength instead.\n",
      "  text_width, text_height = draw.textsize(text, font=font)\n",
      "/tmp/ipykernel_1240378/3103861082.py:5: DeprecationWarning: textsize is deprecated and will be removed in Pillow 10 (2023-07-01). Use textbbox or textlength instead.\n",
      "  text_width, text_height = draw.textsize(text, font=font)\n"
     ]
    }
   ],
   "source": [
    "for text in characters: \n",
    "    img = Image.new('RGBA', (canvas_size, canvas_size), color=(255, 0, 0, 0))\n",
    "    draw = ImageDraw.Draw(img)\n",
    "    font = ImageFont.truetype(font_path, size=font_size)\n",
    "    text_width, text_height = draw.textsize(text, font=font)\n",
    "    x = (img.width - text_width) // 2\n",
    "    y = (img.height - text_height) // 2\n",
    "    draw.text((x, y), text, fill=\"black\", font=font)\n",
    "    output_file_path = src_dir + \"hs/\" + text + '.png'\n",
    "    img.save(output_file_path, \"PNG\")"
   ]
  },
  {
   "cell_type": "code",
   "execution_count": null,
   "metadata": {},
   "outputs": [],
   "source": [
    "def extract_allkinds(self, filename): \n",
    "    # this one does not exclude polymorphemic signs, but remember, \n",
    "    # these signs are not accurate, \n",
    "    # we only take the first handshape as target. \n",
    "    entry = self.__search_by_name__(filename=filename)\n",
    "    if entry.empty: \n",
    "        return GuideExtract()\n",
    "    else: \n",
    "        # search result not empty\n",
    "        only_1 = entry['ONLY_1'].iloc[0]\n",
    "        if only_1 == 1: \n",
    "            side = entry['Side'].iloc[0]\n",
    "            dh_1 = entry['DH_1'].iloc[0]\n",
    "            oh_1 = entry['OH_1'].iloc[0]\n",
    "\n",
    "            if side == 'D':\n",
    "                right_hand_value = dh_1 if self.__value_acceptable__(dh_1) else None\n",
    "                left_hand_value = oh_1 if self.__value_acceptable__(oh_1) else None\n",
    "            elif side == 'S':\n",
    "                left_hand_value = dh_1 if self.__value_acceptable__(dh_1) else None\n",
    "                right_hand_value = oh_1 if self.__value_acceptable__(oh_1) else None\n",
    "            return GuideExtract(\n",
    "                monomorph=1, \n",
    "                dexter=right_hand_value, \n",
    "                sinister=left_hand_value\n",
    "            )\n",
    "        else: \n",
    "            # non-monomorphic\n",
    "            return GuideExtract()"
   ]
  }
 ],
 "metadata": {
  "kernelspec": {
   "display_name": "slprt",
   "language": "python",
   "name": "python3"
  },
  "language_info": {
   "codemirror_mode": {
    "name": "ipython",
    "version": 3
   },
   "file_extension": ".py",
   "mimetype": "text/x-python",
   "name": "python",
   "nbconvert_exporter": "python",
   "pygments_lexer": "ipython3",
   "version": "3.11.4"
  },
  "orig_nbformat": 4
 },
 "nbformat": 4,
 "nbformat_minor": 2
}
