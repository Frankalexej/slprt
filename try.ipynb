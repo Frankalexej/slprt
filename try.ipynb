{
 "cells": [
  {
   "cell_type": "code",
   "execution_count": 3,
   "metadata": {},
   "outputs": [],
   "source": [
    "import glob\n",
    "import os\n",
    "from paths import *"
   ]
  },
  {
   "cell_type": "code",
   "execution_count": 4,
   "metadata": {},
   "outputs": [],
   "source": [
    "def find_files_with_prefix(directory, prefix):\n",
    "    pattern = os.path.join(directory, prefix + '*')\n",
    "    matching_files = glob.glob(pattern)\n",
    "    \n",
    "    # Sort the matching files alphabetically\n",
    "    matching_files.sort()\n",
    "    \n",
    "    return matching_files"
   ]
  },
  {
   "cell_type": "code",
   "execution_count": 5,
   "metadata": {},
   "outputs": [
    {
     "name": "stdout",
     "output_type": "stream",
     "text": [
      "['../src/graph\\\\Left_B_02_034-TRY-0LGN-101_000000.json', '../src/graph\\\\Left_B_02_034-TRY-0LGN-101_000001.json', '../src/graph\\\\Left_B_02_034-TRY-0LGN-101_000002.json', '../src/graph\\\\Left_B_02_034-TRY-0LGN-101_000003.json', '../src/graph\\\\Left_B_02_034-TRY-0LGN-101_000004.json', '../src/graph\\\\Left_B_02_034-TRY-0LGN-101_000005.json', '../src/graph\\\\Left_B_02_034-TRY-0LGN-101_000006.json', '../src/graph\\\\Left_B_02_034-TRY-0LGN-101_000007.json', '../src/graph\\\\Left_B_02_034-TRY-0LGN-101_000008.json', '../src/graph\\\\Left_B_02_034-TRY-0LGN-101_000009.json', '../src/graph\\\\Left_B_02_034-TRY-0LGN-101_000010.json', '../src/graph\\\\Left_B_02_034-TRY-0LGN-101_000011.json', '../src/graph\\\\Left_B_02_034-TRY-0LGN-101_000012.json', '../src/graph\\\\Left_B_02_034-TRY-0LGN-101_000013.json', '../src/graph\\\\Left_B_02_034-TRY-0LGN-101_000014.json', '../src/graph\\\\Left_B_02_034-TRY-0LGN-101_000015.json', '../src/graph\\\\Left_B_02_034-TRY-0LGN-101_000016.json', '../src/graph\\\\Left_B_02_034-TRY-0LGN-101_000017.json', '../src/graph\\\\Left_B_02_034-TRY-0LGN-101_000018.json', '../src/graph\\\\Left_B_02_034-TRY-0LGN-101_000019.json', '../src/graph\\\\Left_B_02_034-TRY-0LGN-101_000020.json', '../src/graph\\\\Left_B_02_034-TRY-0LGN-101_000021.json', '../src/graph\\\\Left_B_02_034-TRY-0LGN-101_000022.json', '../src/graph\\\\Left_B_02_034-TRY-0LGN-101_000023.json', '../src/graph\\\\Left_B_02_034-TRY-0LGN-101_000024.json', '../src/graph\\\\Left_B_02_034-TRY-0LGN-101_000025.json', '../src/graph\\\\Left_B_02_034-TRY-0LGN-101_000026.json', '../src/graph\\\\Left_B_02_034-TRY-0LGN-101_000027.json', '../src/graph\\\\Left_B_02_034-TRY-0LGN-101_000028.json', '../src/graph\\\\Left_B_02_034-TRY-0LGN-101_000029.json', '../src/graph\\\\Left_B_02_034-TRY-0LGN-101_000030.json', '../src/graph\\\\Left_B_02_034-TRY-0LGN-101_000031.json', '../src/graph\\\\Left_B_02_034-TRY-0LGN-101_000032.json', '../src/graph\\\\Left_B_02_034-TRY-0LGN-101_000033.json', '../src/graph\\\\Left_B_02_034-TRY-0LGN-101_000034.json', '../src/graph\\\\Left_B_02_034-TRY-0LGN-101_000035.json', '../src/graph\\\\Left_B_02_034-TRY-0LGN-101_000036.json', '../src/graph\\\\Left_B_02_034-TRY-0LGN-101_000037.json', '../src/graph\\\\Left_B_02_034-TRY-0LGN-101_000038.json', '../src/graph\\\\Left_B_02_034-TRY-0LGN-101_000039.json', '../src/graph\\\\Left_B_02_034-TRY-0LGN-101_000040.json', '../src/graph\\\\Left_B_02_034-TRY-0LGN-101_000041.json', '../src/graph\\\\Left_B_02_034-TRY-0LGN-101_000042.json', '../src/graph\\\\Left_B_02_034-TRY-0LGN-101_000043.json', '../src/graph\\\\Left_B_02_034-TRY-0LGN-101_000044.json', '../src/graph\\\\Left_B_02_034-TRY-0LGN-101_000045.json', '../src/graph\\\\Left_B_02_034-TRY-0LGN-101_000046.json', '../src/graph\\\\Left_B_02_034-TRY-0LGN-101_000047.json', '../src/graph\\\\Left_B_02_034-TRY-0LGN-101_000048.json', '../src/graph\\\\Left_B_02_034-TRY-0LGN-101_000049.json', '../src/graph\\\\Left_B_02_034-TRY-0LGN-101_000050.json', '../src/graph\\\\Left_B_02_034-TRY-0LGN-101_000051.json', '../src/graph\\\\Left_B_02_034-TRY-0LGN-101_000052.json', '../src/graph\\\\Left_B_02_034-TRY-0LGN-101_000053.json', '../src/graph\\\\Left_B_02_034-TRY-0LGN-101_000054.json', '../src/graph\\\\Left_B_02_034-TRY-0LGN-101_000055.json', '../src/graph\\\\Left_B_02_034-TRY-0LGN-101_000056.json', '../src/graph\\\\Left_B_02_034-TRY-0LGN-101_000057.json', '../src/graph\\\\Left_B_02_034-TRY-0LGN-101_000058.json', '../src/graph\\\\Left_B_02_034-TRY-0LGN-101_000059.json', '../src/graph\\\\Left_B_02_034-TRY-0LGN-101_000060.json', '../src/graph\\\\Left_B_02_034-TRY-0LGN-101_000061.json', '../src/graph\\\\Left_B_02_034-TRY-0LGN-101_000062.json', '../src/graph\\\\Left_B_02_034-TRY-0LGN-101_000063.json', '../src/graph\\\\Left_B_02_034-TRY-0LGN-101_000064.json', '../src/graph\\\\Left_B_02_034-TRY-0LGN-101_000065.json', '../src/graph\\\\Left_B_02_034-TRY-0LGN-101_000066.json', '../src/graph\\\\Left_B_02_034-TRY-0LGN-101_000067.json', '../src/graph\\\\Left_B_02_034-TRY-0LGN-101_000068.json', '../src/graph\\\\Left_B_02_034-TRY-0LGN-101_000069.json', '../src/graph\\\\Left_B_02_034-TRY-0LGN-101_000070.json', '../src/graph\\\\Left_B_02_034-TRY-0LGN-101_000071.json', '../src/graph\\\\Left_B_02_034-TRY-0LGN-101_000072.json', '../src/graph\\\\Left_B_02_034-TRY-0LGN-101_000073.json', '../src/graph\\\\Left_B_02_034-TRY-0LGN-101_000074.json', '../src/graph\\\\Left_B_02_034-TRY-0LGN-101_000075.json', '../src/graph\\\\Left_B_02_034-TRY-0LGN-101_000076.json', '../src/graph\\\\Left_B_02_034-TRY-0LGN-101_000077.json', '../src/graph\\\\Left_B_02_034-TRY-0LGN-101_000078.json', '../src/graph\\\\Left_B_02_034-TRY-0LGN-101_000079.json', '../src/graph\\\\Left_B_02_034-TRY-0LGN-101_000080.json', '../src/graph\\\\Left_B_02_034-TRY-0LGN-101_000081.json', '../src/graph\\\\Left_B_02_034-TRY-0LGN-101_000082.json', '../src/graph\\\\Left_B_02_034-TRY-0LGN-101_000083.json', '../src/graph\\\\Left_B_02_034-TRY-0LGN-101_000084.json', '../src/graph\\\\Left_B_02_034-TRY-0LGN-101_000085.json', '../src/graph\\\\Left_B_02_034-TRY-0LGN-101_000086.json', '../src/graph\\\\Left_B_02_034-TRY-0LGN-101_000087.json', '../src/graph\\\\Left_B_02_034-TRY-0LGN-101_000088.json', '../src/graph\\\\Left_B_02_034-TRY-0LGN-101_000089.json', '../src/graph\\\\Left_B_02_034-TRY-0LGN-101_000090.json', '../src/graph\\\\Left_B_02_034-TRY-0LGN-101_000091.json', '../src/graph\\\\Left_B_02_034-TRY-0LGN-101_000092.json', '../src/graph\\\\Left_B_02_034-TRY-0LGN-101_000093.json', '../src/graph\\\\Left_B_02_034-TRY-0LGN-101_000094.json']\n"
     ]
    }
   ],
   "source": [
    "directory_path = graph_dir\n",
    "prefix = 'Left_B_02_034-TRY-0LGN-101'\n",
    "\n",
    "result = find_files_with_prefix(directory_path, prefix)\n",
    "print(result)"
   ]
  },
  {
   "cell_type": "code",
   "execution_count": null,
   "metadata": {},
   "outputs": [],
   "source": []
  }
 ],
 "metadata": {
  "kernelspec": {
   "display_name": "slprt",
   "language": "python",
   "name": "python3"
  },
  "language_info": {
   "codemirror_mode": {
    "name": "ipython",
    "version": 3
   },
   "file_extension": ".py",
   "mimetype": "text/x-python",
   "name": "python",
   "nbconvert_exporter": "python",
   "pygments_lexer": "ipython3",
   "version": "3.10.11"
  },
  "orig_nbformat": 4
 },
 "nbformat": 4,
 "nbformat_minor": 2
}
