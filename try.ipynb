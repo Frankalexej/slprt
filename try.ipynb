{
 "cells": [
  {
   "cell_type": "code",
   "execution_count": 3,
   "metadata": {},
   "outputs": [],
   "source": [
    "import glob\n",
    "import os\n"
   ]
  },
  {
   "cell_type": "code",
   "execution_count": 4,
   "metadata": {},
   "outputs": [],
   "source": [
    "def find_files_with_prefix(directory, prefix):\n",
    "    pattern = os.path.join(directory, prefix + '*')\n",
    "    matching_files = glob.glob(pattern)\n",
    "    \n",
    "    # Sort the matching files alphabetically\n",
    "    matching_files.sort()\n",
    "    \n",
    "    return matching_files"
   ]
  },
  {
   "cell_type": "code",
   "execution_count": 5,
   "metadata": {},
   "outputs": [
    {
     "name": "stdout",
     "output_type": "stream",
     "text": [
      "['../src/graph\\\\Left_B_02_034-TRY-0LGN-101_000000.json', '../src/graph\\\\Left_B_02_034-TRY-0LGN-101_000001.json', '../src/graph\\\\Left_B_02_034-TRY-0LGN-101_000002.json', '../src/graph\\\\Left_B_02_034-TRY-0LGN-101_000003.json', '../src/graph\\\\Left_B_02_034-TRY-0LGN-101_000004.json', '../src/graph\\\\Left_B_02_034-TRY-0LGN-101_000005.json', '../src/graph\\\\Left_B_02_034-TRY-0LGN-101_000006.json', '../src/graph\\\\Left_B_02_034-TRY-0LGN-101_000007.json', '../src/graph\\\\Left_B_02_034-TRY-0LGN-101_000008.json', '../src/graph\\\\Left_B_02_034-TRY-0LGN-101_000009.json', '../src/graph\\\\Left_B_02_034-TRY-0LGN-101_000010.json', '../src/graph\\\\Left_B_02_034-TRY-0LGN-101_000011.json', '../src/graph\\\\Left_B_02_034-TRY-0LGN-101_000012.json', '../src/graph\\\\Left_B_02_034-TRY-0LGN-101_000013.json', '../src/graph\\\\Left_B_02_034-TRY-0LGN-101_000014.json', '../src/graph\\\\Left_B_02_034-TRY-0LGN-101_000015.json', '../src/graph\\\\Left_B_02_034-TRY-0LGN-101_000016.json', '../src/graph\\\\Left_B_02_034-TRY-0LGN-101_000017.json', '../src/graph\\\\Left_B_02_034-TRY-0LGN-101_000018.json', '../src/graph\\\\Left_B_02_034-TRY-0LGN-101_000019.json', '../src/graph\\\\Left_B_02_034-TRY-0LGN-101_000020.json', '../src/graph\\\\Left_B_02_034-TRY-0LGN-101_000021.json', '../src/graph\\\\Left_B_02_034-TRY-0LGN-101_000022.json', '../src/graph\\\\Left_B_02_034-TRY-0LGN-101_000023.json', '../src/graph\\\\Left_B_02_034-TRY-0LGN-101_000024.json', '../src/graph\\\\Left_B_02_034-TRY-0LGN-101_000025.json', '../src/graph\\\\Left_B_02_034-TRY-0LGN-101_000026.json', '../src/graph\\\\Left_B_02_034-TRY-0LGN-101_000027.json', '../src/graph\\\\Left_B_02_034-TRY-0LGN-101_000028.json', '../src/graph\\\\Left_B_02_034-TRY-0LGN-101_000029.json', '../src/graph\\\\Left_B_02_034-TRY-0LGN-101_000030.json', '../src/graph\\\\Left_B_02_034-TRY-0LGN-101_000031.json', '../src/graph\\\\Left_B_02_034-TRY-0LGN-101_000032.json', '../src/graph\\\\Left_B_02_034-TRY-0LGN-101_000033.json', '../src/graph\\\\Left_B_02_034-TRY-0LGN-101_000034.json', '../src/graph\\\\Left_B_02_034-TRY-0LGN-101_000035.json', '../src/graph\\\\Left_B_02_034-TRY-0LGN-101_000036.json', '../src/graph\\\\Left_B_02_034-TRY-0LGN-101_000037.json', '../src/graph\\\\Left_B_02_034-TRY-0LGN-101_000038.json', '../src/graph\\\\Left_B_02_034-TRY-0LGN-101_000039.json', '../src/graph\\\\Left_B_02_034-TRY-0LGN-101_000040.json', '../src/graph\\\\Left_B_02_034-TRY-0LGN-101_000041.json', '../src/graph\\\\Left_B_02_034-TRY-0LGN-101_000042.json', '../src/graph\\\\Left_B_02_034-TRY-0LGN-101_000043.json', '../src/graph\\\\Left_B_02_034-TRY-0LGN-101_000044.json', '../src/graph\\\\Left_B_02_034-TRY-0LGN-101_000045.json', '../src/graph\\\\Left_B_02_034-TRY-0LGN-101_000046.json', '../src/graph\\\\Left_B_02_034-TRY-0LGN-101_000047.json', '../src/graph\\\\Left_B_02_034-TRY-0LGN-101_000048.json', '../src/graph\\\\Left_B_02_034-TRY-0LGN-101_000049.json', '../src/graph\\\\Left_B_02_034-TRY-0LGN-101_000050.json', '../src/graph\\\\Left_B_02_034-TRY-0LGN-101_000051.json', '../src/graph\\\\Left_B_02_034-TRY-0LGN-101_000052.json', '../src/graph\\\\Left_B_02_034-TRY-0LGN-101_000053.json', '../src/graph\\\\Left_B_02_034-TRY-0LGN-101_000054.json', '../src/graph\\\\Left_B_02_034-TRY-0LGN-101_000055.json', '../src/graph\\\\Left_B_02_034-TRY-0LGN-101_000056.json', '../src/graph\\\\Left_B_02_034-TRY-0LGN-101_000057.json', '../src/graph\\\\Left_B_02_034-TRY-0LGN-101_000058.json', '../src/graph\\\\Left_B_02_034-TRY-0LGN-101_000059.json', '../src/graph\\\\Left_B_02_034-TRY-0LGN-101_000060.json', '../src/graph\\\\Left_B_02_034-TRY-0LGN-101_000061.json', '../src/graph\\\\Left_B_02_034-TRY-0LGN-101_000062.json', '../src/graph\\\\Left_B_02_034-TRY-0LGN-101_000063.json', '../src/graph\\\\Left_B_02_034-TRY-0LGN-101_000064.json', '../src/graph\\\\Left_B_02_034-TRY-0LGN-101_000065.json', '../src/graph\\\\Left_B_02_034-TRY-0LGN-101_000066.json', '../src/graph\\\\Left_B_02_034-TRY-0LGN-101_000067.json', '../src/graph\\\\Left_B_02_034-TRY-0LGN-101_000068.json', '../src/graph\\\\Left_B_02_034-TRY-0LGN-101_000069.json', '../src/graph\\\\Left_B_02_034-TRY-0LGN-101_000070.json', '../src/graph\\\\Left_B_02_034-TRY-0LGN-101_000071.json', '../src/graph\\\\Left_B_02_034-TRY-0LGN-101_000072.json', '../src/graph\\\\Left_B_02_034-TRY-0LGN-101_000073.json', '../src/graph\\\\Left_B_02_034-TRY-0LGN-101_000074.json', '../src/graph\\\\Left_B_02_034-TRY-0LGN-101_000075.json', '../src/graph\\\\Left_B_02_034-TRY-0LGN-101_000076.json', '../src/graph\\\\Left_B_02_034-TRY-0LGN-101_000077.json', '../src/graph\\\\Left_B_02_034-TRY-0LGN-101_000078.json', '../src/graph\\\\Left_B_02_034-TRY-0LGN-101_000079.json', '../src/graph\\\\Left_B_02_034-TRY-0LGN-101_000080.json', '../src/graph\\\\Left_B_02_034-TRY-0LGN-101_000081.json', '../src/graph\\\\Left_B_02_034-TRY-0LGN-101_000082.json', '../src/graph\\\\Left_B_02_034-TRY-0LGN-101_000083.json', '../src/graph\\\\Left_B_02_034-TRY-0LGN-101_000084.json', '../src/graph\\\\Left_B_02_034-TRY-0LGN-101_000085.json', '../src/graph\\\\Left_B_02_034-TRY-0LGN-101_000086.json', '../src/graph\\\\Left_B_02_034-TRY-0LGN-101_000087.json', '../src/graph\\\\Left_B_02_034-TRY-0LGN-101_000088.json', '../src/graph\\\\Left_B_02_034-TRY-0LGN-101_000089.json', '../src/graph\\\\Left_B_02_034-TRY-0LGN-101_000090.json', '../src/graph\\\\Left_B_02_034-TRY-0LGN-101_000091.json', '../src/graph\\\\Left_B_02_034-TRY-0LGN-101_000092.json', '../src/graph\\\\Left_B_02_034-TRY-0LGN-101_000093.json', '../src/graph\\\\Left_B_02_034-TRY-0LGN-101_000094.json']\n"
     ]
    }
   ],
   "source": [
    "directory_path = graph_dir\n",
    "prefix = 'Left_B_02_034-TRY-0LGN-101'\n",
    "\n",
    "result = find_files_with_prefix(directory_path, prefix)\n",
    "print(result)"
   ]
  },
  {
   "cell_type": "code",
   "execution_count": 1,
   "metadata": {},
   "outputs": [],
   "source": [
    "from graph_tools import GraphTool\n",
    "from paths import *"
   ]
  },
  {
   "cell_type": "code",
   "execution_count": 3,
   "metadata": {},
   "outputs": [],
   "source": [
    "gt = GraphTool(graph_dir, \"Left_B_02_034-TRY-0LGN-101\")"
   ]
  },
  {
   "cell_type": "code",
   "execution_count": 6,
   "metadata": {},
   "outputs": [
    {
     "data": {
      "text/plain": [
       "(95, 21, 3)"
      ]
     },
     "execution_count": 6,
     "metadata": {},
     "output_type": "execute_result"
    }
   ],
   "source": [
    "gt.features.shape"
   ]
  },
  {
   "cell_type": "code",
   "execution_count": 1,
   "metadata": {},
   "outputs": [],
   "source": [
    "import numpy as np\n",
    "from configs import *"
   ]
  },
  {
   "cell_type": "code",
   "execution_count": 2,
   "metadata": {},
   "outputs": [],
   "source": [
    "window_flags = np.array([0, 0, 0, 1, 1, 1])"
   ]
  },
  {
   "cell_type": "code",
   "execution_count": 3,
   "metadata": {},
   "outputs": [],
   "source": [
    "ok_indices = np.where(window_flags == FLAG_OK)[0]"
   ]
  },
  {
   "cell_type": "code",
   "execution_count": 4,
   "metadata": {},
   "outputs": [
    {
     "data": {
      "text/plain": [
       "array([3, 4, 5], dtype=int64)"
      ]
     },
     "execution_count": 4,
     "metadata": {},
     "output_type": "execute_result"
    }
   ],
   "source": [
    "ok_indices"
   ]
  },
  {
   "cell_type": "code",
   "execution_count": 6,
   "metadata": {},
   "outputs": [
    {
     "data": {
      "text/plain": [
       "array([False, False, False,  True,  True,  True])"
      ]
     },
     "execution_count": 6,
     "metadata": {},
     "output_type": "execute_result"
    }
   ],
   "source": [
    "window_flags == FLAG_OK"
   ]
  },
  {
   "cell_type": "code",
   "execution_count": 8,
   "metadata": {},
   "outputs": [
    {
     "data": {
      "text/plain": [
       "array([3, 4, 5], dtype=int64)"
      ]
     },
     "execution_count": 8,
     "metadata": {},
     "output_type": "execute_result"
    }
   ],
   "source": [
    "np.where(window_flags == FLAG_OK)[0]"
   ]
  },
  {
   "cell_type": "code",
   "execution_count": 10,
   "metadata": {},
   "outputs": [],
   "source": [
    "new_flags = np.array([0, 0, 0, 0, 0])"
   ]
  },
  {
   "cell_type": "code",
   "execution_count": 12,
   "metadata": {},
   "outputs": [
    {
     "data": {
      "text/plain": [
       "array([], dtype=int64)"
      ]
     },
     "execution_count": 12,
     "metadata": {},
     "output_type": "execute_result"
    }
   ],
   "source": [
    "np.where(new_flags == FLAG_OK)[0]"
   ]
  },
  {
   "cell_type": "code",
   "execution_count": 11,
   "metadata": {},
   "outputs": [
    {
     "ename": "ValueError",
     "evalue": "zero-size array to reduction operation minimum which has no identity",
     "output_type": "error",
     "traceback": [
      "\u001b[1;31m---------------------------------------------------------------------------\u001b[0m",
      "\u001b[1;31mValueError\u001b[0m                                Traceback (most recent call last)",
      "Cell \u001b[1;32mIn[11], line 1\u001b[0m\n\u001b[1;32m----> 1\u001b[0m np\u001b[39m.\u001b[39;49mmin(np\u001b[39m.\u001b[39;49mwhere(new_flags \u001b[39m==\u001b[39;49m FLAG_OK)[\u001b[39m0\u001b[39;49m])\n",
      "File \u001b[1;32m<__array_function__ internals>:200\u001b[0m, in \u001b[0;36mamin\u001b[1;34m(*args, **kwargs)\u001b[0m\n",
      "File \u001b[1;32ma:\\ProgramData\\anaconda3\\envs\\slprt\\lib\\site-packages\\numpy\\core\\fromnumeric.py:2946\u001b[0m, in \u001b[0;36mamin\u001b[1;34m(a, axis, out, keepdims, initial, where)\u001b[0m\n\u001b[0;32m   2829\u001b[0m \u001b[39m@array_function_dispatch\u001b[39m(_amin_dispatcher)\n\u001b[0;32m   2830\u001b[0m \u001b[39mdef\u001b[39;00m \u001b[39mamin\u001b[39m(a, axis\u001b[39m=\u001b[39m\u001b[39mNone\u001b[39;00m, out\u001b[39m=\u001b[39m\u001b[39mNone\u001b[39;00m, keepdims\u001b[39m=\u001b[39mnp\u001b[39m.\u001b[39m_NoValue, initial\u001b[39m=\u001b[39mnp\u001b[39m.\u001b[39m_NoValue,\n\u001b[0;32m   2831\u001b[0m          where\u001b[39m=\u001b[39mnp\u001b[39m.\u001b[39m_NoValue):\n\u001b[0;32m   2832\u001b[0m \u001b[39m    \u001b[39m\u001b[39m\"\"\"\u001b[39;00m\n\u001b[0;32m   2833\u001b[0m \u001b[39m    Return the minimum of an array or minimum along an axis.\u001b[39;00m\n\u001b[0;32m   2834\u001b[0m \n\u001b[1;32m   (...)\u001b[0m\n\u001b[0;32m   2944\u001b[0m \u001b[39m    6\u001b[39;00m\n\u001b[0;32m   2945\u001b[0m \u001b[39m    \"\"\"\u001b[39;00m\n\u001b[1;32m-> 2946\u001b[0m     \u001b[39mreturn\u001b[39;00m _wrapreduction(a, np\u001b[39m.\u001b[39;49mminimum, \u001b[39m'\u001b[39;49m\u001b[39mmin\u001b[39;49m\u001b[39m'\u001b[39;49m, axis, \u001b[39mNone\u001b[39;49;00m, out,\n\u001b[0;32m   2947\u001b[0m                           keepdims\u001b[39m=\u001b[39;49mkeepdims, initial\u001b[39m=\u001b[39;49minitial, where\u001b[39m=\u001b[39;49mwhere)\n",
      "File \u001b[1;32ma:\\ProgramData\\anaconda3\\envs\\slprt\\lib\\site-packages\\numpy\\core\\fromnumeric.py:86\u001b[0m, in \u001b[0;36m_wrapreduction\u001b[1;34m(obj, ufunc, method, axis, dtype, out, **kwargs)\u001b[0m\n\u001b[0;32m     83\u001b[0m         \u001b[39melse\u001b[39;00m:\n\u001b[0;32m     84\u001b[0m             \u001b[39mreturn\u001b[39;00m reduction(axis\u001b[39m=\u001b[39maxis, out\u001b[39m=\u001b[39mout, \u001b[39m*\u001b[39m\u001b[39m*\u001b[39mpasskwargs)\n\u001b[1;32m---> 86\u001b[0m \u001b[39mreturn\u001b[39;00m ufunc\u001b[39m.\u001b[39mreduce(obj, axis, dtype, out, \u001b[39m*\u001b[39m\u001b[39m*\u001b[39mpasskwargs)\n",
      "\u001b[1;31mValueError\u001b[0m: zero-size array to reduction operation minimum which has no identity"
     ]
    }
   ],
   "source": [
    "np.min(np.where(new_flags == FLAG_OK)[0])"
   ]
  },
  {
   "cell_type": "code",
   "execution_count": 3,
   "metadata": {},
   "outputs": [],
   "source": [
    "import numpy as np"
   ]
  },
  {
   "cell_type": "code",
   "execution_count": 4,
   "metadata": {},
   "outputs": [],
   "source": [
    "def find_closest_index_with_value(arr, target_index, target_value):\n",
    "    # Find the indices of elements with the target value\n",
    "    indices_with_target_value = np.where(arr == target_value)[0]\n",
    "\n",
    "    # Calculate the absolute differences between these indices and the target index\n",
    "    differences = np.abs(indices_with_target_value - target_index)\n",
    "\n",
    "    # Find the index with the smallest difference\n",
    "    closest_index = indices_with_target_value[np.argmin(differences)]\n",
    "\n",
    "    return closest_index"
   ]
  },
  {
   "cell_type": "code",
   "execution_count": 10,
   "metadata": {},
   "outputs": [
    {
     "ename": "ValueError",
     "evalue": "attempt to get argmin of an empty sequence",
     "output_type": "error",
     "traceback": [
      "\u001b[1;31m---------------------------------------------------------------------------\u001b[0m",
      "\u001b[1;31mValueError\u001b[0m                                Traceback (most recent call last)",
      "Cell \u001b[1;32mIn[10], line 6\u001b[0m\n\u001b[0;32m      3\u001b[0m target_index \u001b[39m=\u001b[39m \u001b[39m1\u001b[39m  \u001b[39m# Index of the current focus\u001b[39;00m\n\u001b[0;32m      4\u001b[0m target_value \u001b[39m=\u001b[39m \u001b[39m6\u001b[39m   \u001b[39m# Value to search for\u001b[39;00m\n\u001b[1;32m----> 6\u001b[0m closest_index \u001b[39m=\u001b[39m find_closest_index_with_value(arr, target_index, target_value)\n\u001b[0;32m      7\u001b[0m \u001b[39mprint\u001b[39m(\u001b[39m\"\u001b[39m\u001b[39mClosest index with the target value:\u001b[39m\u001b[39m\"\u001b[39m, closest_index)\n\u001b[0;32m      8\u001b[0m \u001b[39mprint\u001b[39m(\u001b[39m\"\u001b[39m\u001b[39mClosest element with the target value:\u001b[39m\u001b[39m\"\u001b[39m, arr[closest_index])\n",
      "Cell \u001b[1;32mIn[4], line 9\u001b[0m, in \u001b[0;36mfind_closest_index_with_value\u001b[1;34m(arr, target_index, target_value)\u001b[0m\n\u001b[0;32m      6\u001b[0m differences \u001b[39m=\u001b[39m np\u001b[39m.\u001b[39mabs(indices_with_target_value \u001b[39m-\u001b[39m target_index)\n\u001b[0;32m      8\u001b[0m \u001b[39m# Find the index with the smallest difference\u001b[39;00m\n\u001b[1;32m----> 9\u001b[0m closest_index \u001b[39m=\u001b[39m indices_with_target_value[np\u001b[39m.\u001b[39;49margmin(differences)]\n\u001b[0;32m     11\u001b[0m \u001b[39mreturn\u001b[39;00m closest_index\n",
      "File \u001b[1;32m<__array_function__ internals>:200\u001b[0m, in \u001b[0;36margmin\u001b[1;34m(*args, **kwargs)\u001b[0m\n",
      "File \u001b[1;32ma:\\ProgramData\\anaconda3\\envs\\slprt\\lib\\site-packages\\numpy\\core\\fromnumeric.py:1338\u001b[0m, in \u001b[0;36margmin\u001b[1;34m(a, axis, out, keepdims)\u001b[0m\n\u001b[0;32m   1251\u001b[0m \u001b[39m\u001b[39m\u001b[39m\"\"\"\u001b[39;00m\n\u001b[0;32m   1252\u001b[0m \u001b[39mReturns the indices of the minimum values along an axis.\u001b[39;00m\n\u001b[0;32m   1253\u001b[0m \n\u001b[1;32m   (...)\u001b[0m\n\u001b[0;32m   1335\u001b[0m \u001b[39m(2, 1, 4)\u001b[39;00m\n\u001b[0;32m   1336\u001b[0m \u001b[39m\"\"\"\u001b[39;00m\n\u001b[0;32m   1337\u001b[0m kwds \u001b[39m=\u001b[39m {\u001b[39m'\u001b[39m\u001b[39mkeepdims\u001b[39m\u001b[39m'\u001b[39m: keepdims} \u001b[39mif\u001b[39;00m keepdims \u001b[39mis\u001b[39;00m \u001b[39mnot\u001b[39;00m np\u001b[39m.\u001b[39m_NoValue \u001b[39melse\u001b[39;00m {}\n\u001b[1;32m-> 1338\u001b[0m \u001b[39mreturn\u001b[39;00m _wrapfunc(a, \u001b[39m'\u001b[39m\u001b[39margmin\u001b[39m\u001b[39m'\u001b[39m, axis\u001b[39m=\u001b[39maxis, out\u001b[39m=\u001b[39mout, \u001b[39m*\u001b[39m\u001b[39m*\u001b[39mkwds)\n",
      "File \u001b[1;32ma:\\ProgramData\\anaconda3\\envs\\slprt\\lib\\site-packages\\numpy\\core\\fromnumeric.py:57\u001b[0m, in \u001b[0;36m_wrapfunc\u001b[1;34m(obj, method, *args, **kwds)\u001b[0m\n\u001b[0;32m     54\u001b[0m     \u001b[39mreturn\u001b[39;00m _wrapit(obj, method, \u001b[39m*\u001b[39margs, \u001b[39m*\u001b[39m\u001b[39m*\u001b[39mkwds)\n\u001b[0;32m     56\u001b[0m \u001b[39mtry\u001b[39;00m:\n\u001b[1;32m---> 57\u001b[0m     \u001b[39mreturn\u001b[39;00m bound(\u001b[39m*\u001b[39margs, \u001b[39m*\u001b[39m\u001b[39m*\u001b[39mkwds)\n\u001b[0;32m     58\u001b[0m \u001b[39mexcept\u001b[39;00m \u001b[39mTypeError\u001b[39;00m:\n\u001b[0;32m     59\u001b[0m     \u001b[39m# A TypeError occurs if the object does have such a method in its\u001b[39;00m\n\u001b[0;32m     60\u001b[0m     \u001b[39m# class, but its signature is not identical to that of NumPy's. This\u001b[39;00m\n\u001b[1;32m   (...)\u001b[0m\n\u001b[0;32m     64\u001b[0m     \u001b[39m# Call _wrapit from within the except clause to ensure a potential\u001b[39;00m\n\u001b[0;32m     65\u001b[0m     \u001b[39m# exception has a traceback chain.\u001b[39;00m\n\u001b[0;32m     66\u001b[0m     \u001b[39mreturn\u001b[39;00m _wrapit(obj, method, \u001b[39m*\u001b[39margs, \u001b[39m*\u001b[39m\u001b[39m*\u001b[39mkwds)\n",
      "\u001b[1;31mValueError\u001b[0m: attempt to get argmin of an empty sequence"
     ]
    }
   ],
   "source": [
    "# Example usage\n",
    "arr = np.array([3, 7, 2, 3, 5])\n",
    "target_index = 1  # Index of the current focus\n",
    "target_value = 6   # Value to search for\n",
    "\n",
    "closest_index = find_closest_index_with_value(arr, target_index, target_value)\n",
    "print(\"Closest index with the target value:\", closest_index)\n",
    "print(\"Closest element with the target value:\", arr[closest_index])\n"
   ]
  },
  {
   "cell_type": "code",
   "execution_count": null,
   "metadata": {},
   "outputs": [],
   "source": []
  }
 ],
 "metadata": {
  "kernelspec": {
   "display_name": "slprt",
   "language": "python",
   "name": "python3"
  },
  "language_info": {
   "codemirror_mode": {
    "name": "ipython",
    "version": 3
   },
   "file_extension": ".py",
   "mimetype": "text/x-python",
   "name": "python",
   "nbconvert_exporter": "python",
   "pygments_lexer": "ipython3",
   "version": "3.10.11"
  },
  "orig_nbformat": 4
 },
 "nbformat": 4,
 "nbformat_minor": 2
}
