{
 "cells": [
  {
   "cell_type": "code",
   "execution_count": 9,
   "metadata": {},
   "outputs": [],
   "source": [
    "import os\n",
    "import random\n",
    "import shutil\n",
    "\n",
    "from paths import src_dir"
   ]
  },
  {
   "cell_type": "code",
   "execution_count": 10,
   "metadata": {},
   "outputs": [],
   "source": [
    "def add_suffix_to_path(path, suffix): \n",
    "    # Check if the path already ends with a slash\n",
    "    if path.endswith('/'):\n",
    "        new_path = path.rstrip('/') + suffix + '/'\n",
    "    else:\n",
    "        new_path = path + suffix + '/'\n",
    "    return new_path"
   ]
  },
  {
   "cell_type": "code",
   "execution_count": 11,
   "metadata": {},
   "outputs": [],
   "source": [
    "def random_split(parent_dir, ratio_train=0.8):\n",
    "    \"\"\"\n",
    "    Randomly separate subdirectories within a parent directory and move them to\n",
    "    separate output directories according to the given ratios.\n",
    "\n",
    "    Parameters:\n",
    "    - parent_dir: The parent directory containing subdirectories to be split.\n",
    "    - ratios: A list of ratios (e.g., [0.7, 0.3]) specifying the split ratio.\n",
    "    - output_dirs: A list of output directory names for the separated data.\n",
    "\n",
    "    Returns:\n",
    "    - None\n",
    "    \"\"\"\n",
    "    # define the suffixes of the different data chunks\n",
    "    suffixes = [\"_train\", \"_validate\"]\n",
    "\n",
    "    # adding suffixes to form output directories\n",
    "    output_dirs = [add_suffix_to_path(parent_dir, suffix) for suffix in suffixes]\n",
    "\n",
    "    # count the subdirectories that will be moved\n",
    "    subdirectories = [d for d in os.listdir(parent_dir) if os.path.isdir(os.path.join(parent_dir, d))]\n",
    "\n",
    "    # Create output directories if they don't exist\n",
    "    for output_dir in output_dirs:\n",
    "        os.makedirs(output_dir, exist_ok=True)\n",
    "\n",
    "    random.shuffle(subdirectories)\n",
    "\n",
    "    # calculate the position of split\n",
    "    total_dirs = len(subdirectories)\n",
    "    split_point = int(ratio_train * total_dirs)\n",
    "\n",
    "    train_dirs = subdirectories[:split_point]\n",
    "    test_dirs = subdirectories[split_point:]\n",
    "    both_dirs = [train_dirs, test_dirs]\n",
    "\n",
    "    for move_idx in range(len(both_dirs)): \n",
    "        move_dirs = both_dirs[move_idx]\n",
    "        output_dir = output_dirs[move_idx]\n",
    "\n",
    "        for move_dir in move_dirs: \n",
    "            source = os.path.join(parent_dir, move_dir)\n",
    "            destination = os.path.join(output_dir, move_dir)\n",
    "            shutil.move(source, destination)\n",
    "\n",
    "\n",
    "if __name__ == '__main__':\n",
    "    random_split(os.path.join(src_dir, \"try/one/\"), 0.8)"
   ]
  },
  {
   "cell_type": "code",
   "execution_count": null,
   "metadata": {},
   "outputs": [],
   "source": []
  }
 ],
 "metadata": {
  "kernelspec": {
   "display_name": "slprt",
   "language": "python",
   "name": "python3"
  },
  "language_info": {
   "codemirror_mode": {
    "name": "ipython",
    "version": 3
   },
   "file_extension": ".py",
   "mimetype": "text/x-python",
   "name": "python",
   "nbconvert_exporter": "python",
   "pygments_lexer": "ipython3",
   "version": "3.11.4"
  },
  "orig_nbformat": 4
 },
 "nbformat": 4,
 "nbformat_minor": 2
}
