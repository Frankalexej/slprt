{
 "cells": [
  {
   "cell_type": "code",
   "execution_count": 1,
   "metadata": {},
   "outputs": [],
   "source": [
    "# import needed libs\n",
    "import cv2\n",
    "import math\n",
    "import numpy as np\n",
    "import mediapipe as mp\n",
    "import pandas as pd\n",
    "from mio import ResultIO\n",
    "from paths import *\n",
    "from google.protobuf.json_format import MessageToDict\n",
    "import json"
   ]
  },
  {
   "attachments": {},
   "cell_type": "markdown",
   "metadata": {},
   "source": [
    "## Define constants"
   ]
  },
  {
   "cell_type": "code",
   "execution_count": 2,
   "metadata": {},
   "outputs": [],
   "source": [
    "# CONFIG\n",
    "VID_SUF = \".mp4\"\n",
    "S = \"/\"\n",
    "\n",
    "# relinquit\n",
    "DESIRED_HEIGHT = 480\n",
    "DESIRED_WIDTH = 480\n",
    "\n",
    "# common frame size in the videos\n",
    "FRAME_WIDTH = 1280\n",
    "FRAME_HEIGHT = 720"
   ]
  },
  {
   "attachments": {},
   "cell_type": "markdown",
   "metadata": {},
   "source": [
    "## define mediapipe vars"
   ]
  },
  {
   "cell_type": "code",
   "execution_count": 3,
   "metadata": {},
   "outputs": [],
   "source": [
    "# prepare mp\n",
    "mp_hands = mp.solutions.hands\n",
    "# Import drawing_utils and drawing_styles.\n",
    "mp_drawing = mp.solutions.drawing_utils\n",
    "mp_drawing_styles = mp.solutions.drawing_styles"
   ]
  },
  {
   "cell_type": "code",
   "execution_count": 4,
   "metadata": {},
   "outputs": [],
   "source": [
    "def lm_has_side_and_is_at(lm, side): \n",
    "    # side: 0 == left, 1 == right\n",
    "    if lm.multi_handedness is None: \n",
    "        return False, 0\n",
    "    elif len(lm.multi_handedness) == 1: \n",
    "        handedness_dict = MessageToDict(lm.multi_handedness[0])\n",
    "        return handedness_dict[\"classification\"][0][\"index\"] == side, 0\n",
    "    elif len(lm.multi_handedness) == 2:\n",
    "        return True, side\n",
    "    else: \n",
    "        return False, 0"
   ]
  },
  {
   "cell_type": "code",
   "execution_count": 5,
   "metadata": {},
   "outputs": [],
   "source": [
    "el = list(mp_hands.HAND_CONNECTIONS)\n",
    "el = [list(element) for element in el]"
   ]
  },
  {
   "cell_type": "code",
   "execution_count": 11,
   "metadata": {},
   "outputs": [],
   "source": [
    "def sol2json(d, json_path): \n",
    "    with open(json_path, 'w') as fl:\n",
    "        has, at = lm_has_side_and_is_at(d, 0)\n",
    "        if has: \n",
    "            ml = (MessageToDict(d.multi_hand_landmarks[at])[\"landmark\"]) # 0 is one of the hands, do this first\n",
    "            my_dict = {str(i): (d['x'], d['y'], d['z']) for i, d in enumerate(ml)}\n",
    "        else: \n",
    "            my_dict = {str(i): (0, 0, 0) for i in range(21)} # default (0, 0, 0) for all nodes\n",
    "        outdict = {\"edges\": el, \"features\": my_dict}\n",
    "        fl.write(json.dumps(outdict, separators=(',', ':')))"
   ]
  },
  {
   "cell_type": "code",
   "execution_count": 12,
   "metadata": {},
   "outputs": [
    {
     "name": "stdout",
     "output_type": "stream",
     "text": [
      "yeah\n"
     ]
    }
   ],
   "source": [
    "for vd in os.listdir(det_dir): \n",
    "    for clip in os.listdir(det_dir + vd + \"/\"): \n",
    "        vid_graph_dir = graph_dir + vd + \"/\" + clip + \"/\"\n",
    "        mk(vid_graph_dir)   # ?\n",
    "        print(clip)\n",
    "        for g in os.listdir(det_dir + vd + \"/\" + clip + \"/\"): \n",
    "            clip_dir = det_dir + vd + \"/\" + clip + \"/\"\n",
    "            if g.endswith(\".pkl\"): \n",
    "                name, ext = g.split(\".\")\n",
    "                d = ResultIO.read(os.path.join(clip_dir, g))\n",
    "                json_path = os.path.join(graph_dir, \"{}.json\".format(name))\n",
    "                sol2json(d, json_path)"
   ]
  },
  {
   "cell_type": "code",
   "execution_count": null,
   "metadata": {},
   "outputs": [],
   "source": []
  }
 ],
 "metadata": {
  "kernelspec": {
   "display_name": "slprt",
   "language": "python",
   "name": "python3"
  },
  "language_info": {
   "codemirror_mode": {
    "name": "ipython",
    "version": 3
   },
   "file_extension": ".py",
   "mimetype": "text/x-python",
   "name": "python",
   "nbconvert_exporter": "python",
   "pygments_lexer": "ipython3",
   "version": "3.10.11"
  },
  "orig_nbformat": 4
 },
 "nbformat": 4,
 "nbformat_minor": 2
}
