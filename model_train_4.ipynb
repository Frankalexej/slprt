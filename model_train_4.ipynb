{
 "cells": [
  {
   "cell_type": "markdown",
   "metadata": {},
   "source": [
    "# Linear model try\n",
    "V1.0  \n",
    "This version is a first build-up of the whole system. \n",
    "\n",
    "V2.0  \n",
    "This version added \"central extraction\", in which we only extract the central (0.3~0.9) part of videos for testing set.  \n",
    "In this way, we try to avoid recognizing frames at the beginning and end of the videos that are not the target gesture as much as possible.  \n",
    "尽可能避免前后识别出来但不是目标手势的帧\n",
    "\n",
    "V3.0  \n",
    "This version trys much to mimic the old model that reached best performance. \n",
    "\n",
    "V4.0  \n",
    "hid dim reset to 5. \n",
    "\n",
    "V5.0  \n",
    "try CNN"
   ]
  },
  {
   "cell_type": "markdown",
   "metadata": {},
   "source": [
    "### Import Libs"
   ]
  },
  {
   "cell_type": "code",
   "execution_count": 1,
   "metadata": {},
   "outputs": [],
   "source": [
    "import torch\n",
    "from torch import nn\n",
    "from torch import optim\n",
    "from torch.utils.data import DataLoader, random_split\n",
    "import os\n",
    "import numpy as np\n",
    "import matplotlib.pyplot as plt\n",
    "from torchview import draw_graph\n",
    "import graphviz\n",
    "\n",
    "from model_dataset import HandshapeDataset, DS_Tools, FixedHandshapeDict\n",
    "from paths import *\n",
    "from model_model import CNNHandshapePredictor\n",
    "from model_configs import *\n",
    "from utils import *\n",
    "from recorder import *\n",
    "from mio import mk"
   ]
  },
  {
   "cell_type": "markdown",
   "metadata": {},
   "source": [
    "## Init Model"
   ]
  },
  {
   "cell_type": "code",
   "execution_count": 2,
   "metadata": {},
   "outputs": [
    {
     "data": {
      "text/plain": [
       "'svg'"
      ]
     },
     "execution_count": 2,
     "metadata": {},
     "output_type": "execute_result"
    }
   ],
   "source": [
    "graphviz.set_jupyter_format('png')"
   ]
  },
  {
   "cell_type": "code",
   "execution_count": 3,
   "metadata": {},
   "outputs": [],
   "source": [
    "device = torch.device('cuda' if torch.cuda.is_available() else 'cpu')\n",
    "criterion = nn.CrossEntropyLoss()\n",
    "# criterion = nn.MSELoss()\n",
    "model = CNNHandshapePredictor(\n",
    "    input_dim=original_dim, \n",
    "    enc_lat_dims=enc_lat_dims, \n",
    "    hid_dim=hid_dim, \n",
    "    dec_lat_dims=dec_lat_dims, \n",
    "    output_dim=out_dim, \n",
    "    window_sizes=window_sizes\n",
    ")\n",
    "model.to(device)\n",
    "optimizer = optim.Adam(model.parameters(), lr=1e-3)"
   ]
  },
  {
   "cell_type": "markdown",
   "metadata": {},
   "source": [
    "### Initialize model params"
   ]
  },
  {
   "cell_type": "code",
   "execution_count": 4,
   "metadata": {},
   "outputs": [
    {
     "data": {
      "text/plain": [
       "CNNHandshapePredictor(\n",
       "  (convs): ModuleList(\n",
       "    (0): Sequential(\n",
       "      (0): Conv1d(3, 5, kernel_size=(3,), stride=(1,))\n",
       "      (1): MaxPool1d(kernel_size=19, stride=19, padding=0, dilation=1, ceil_mode=False)\n",
       "      (2): ReLU()\n",
       "    )\n",
       "    (1): Sequential(\n",
       "      (0): Conv1d(3, 5, kernel_size=(5,), stride=(1,))\n",
       "      (1): MaxPool1d(kernel_size=17, stride=17, padding=0, dilation=1, ceil_mode=False)\n",
       "      (2): ReLU()\n",
       "    )\n",
       "    (2): Sequential(\n",
       "      (0): Conv1d(3, 5, kernel_size=(7,), stride=(1,))\n",
       "      (1): MaxPool1d(kernel_size=15, stride=15, padding=0, dilation=1, ceil_mode=False)\n",
       "      (2): ReLU()\n",
       "    )\n",
       "    (3): Sequential(\n",
       "      (0): Conv1d(3, 5, kernel_size=(9,), stride=(1,))\n",
       "      (1): MaxPool1d(kernel_size=13, stride=13, padding=0, dilation=1, ceil_mode=False)\n",
       "      (2): ReLU()\n",
       "    )\n",
       "    (4): Sequential(\n",
       "      (0): Conv1d(3, 5, kernel_size=(11,), stride=(1,))\n",
       "      (1): MaxPool1d(kernel_size=11, stride=11, padding=0, dilation=1, ceil_mode=False)\n",
       "      (2): ReLU()\n",
       "    )\n",
       "  )\n",
       "  (encoder): Sequential(\n",
       "    (0): Linear(in_features=25, out_features=5, bias=True)\n",
       "    (1): Dropout(p=0.5, inplace=False)\n",
       "  )\n",
       "  (decoder): Sequential(\n",
       "    (0): LinPack(\n",
       "      (lin): Linear(in_features=5, out_features=64, bias=True)\n",
       "      (relu): ReLU()\n",
       "      (batch_norm): BatchNorm1d(64, eps=1e-05, momentum=0.1, affine=True, track_running_stats=True)\n",
       "    )\n",
       "    (1): Linear(in_features=64, out_features=63, bias=True)\n",
       "  )\n",
       ")"
      ]
     },
     "execution_count": 4,
     "metadata": {},
     "output_type": "execute_result"
    }
   ],
   "source": [
    "def init_weights(m):\n",
    "    if isinstance(m, nn.Linear):\n",
    "        torch.nn.init.orthogonal_(m.weight)\n",
    "        m.bias.data.fill_(0.01)\n",
    "\n",
    "model.apply(init_weights)"
   ]
  },
  {
   "cell_type": "markdown",
   "metadata": {},
   "source": [
    "### Check number of params in model"
   ]
  },
  {
   "cell_type": "code",
   "execution_count": 5,
   "metadata": {},
   "outputs": [
    {
     "name": "stdout",
     "output_type": "stream",
     "text": [
      "5287\n"
     ]
    }
   ],
   "source": [
    "model_parameters = filter(lambda p: p.requires_grad, model.parameters())\n",
    "params = sum([np.prod(p.size()) for p in model_parameters])\n",
    "print(params)"
   ]
  },
  {
   "cell_type": "markdown",
   "metadata": {},
   "source": [
    "## Prepare for logs"
   ]
  },
  {
   "cell_type": "code",
   "execution_count": 6,
   "metadata": {},
   "outputs": [
    {
     "name": "stdout",
     "output_type": "stream",
     "text": [
      "NOTE: 1111194719-try is the series number this time. \n"
     ]
    }
   ],
   "source": [
    "# Just for keeping records of training hists. \n",
    "# ts = str(get_timestamp())\n",
    "ts = \"1111194719-try\"\n",
    "stop_epoch = \"149\"\n",
    "save_subdir = os.path.join(model_save_dir, \"{}/\".format(ts))\n",
    "mk(save_subdir)\n",
    "save_trainhist_name = \"train.hst\"\n",
    "save_valhist_name = \"val.hst\"\n",
    "save_trainacc_name = \"train_acc.hst\"\n",
    "save_valacc_name = \"val_acc.hst\"\n",
    "\n",
    "valid_losses = LossRecorder(save_subdir + save_valhist_name)\n",
    "train_losses = LossRecorder(save_subdir + save_trainhist_name)\n",
    "train_accuracies = LossRecorder(save_subdir + save_trainacc_name)\n",
    "valid_accuracies = LossRecorder(save_subdir + save_valacc_name)\n",
    "# text_hist = HistRecorder(save_subdir + save_txt_name)\n",
    "\n",
    "print(\"NOTE: {} is the series number this time. \".format(ts))"
   ]
  },
  {
   "cell_type": "markdown",
   "metadata": {},
   "source": [
    "### Switch for loading saved records"
   ]
  },
  {
   "cell_type": "code",
   "execution_count": 7,
   "metadata": {},
   "outputs": [],
   "source": [
    "READ = False\n",
    "# READ = True\n",
    "\n",
    "if READ: \n",
    "    valid_losses.read()\n",
    "    train_losses.read()\n",
    "    train_accuracies.read()\n",
    "    valid_accuracies.read()\n",
    "\n",
    "    model_raw_name = f\"{stop_epoch}\"\n",
    "    model_name = model_raw_name + \".pt\"\n",
    "    model_path = os.path.join(save_subdir, model_name)\n",
    "    state = torch.load(model_path)\n",
    "    model.load_state_dict(state)\n",
    "    model.to(device)"
   ]
  },
  {
   "cell_type": "markdown",
   "metadata": {},
   "source": [
    "## Dataset and Dataloader"
   ]
  },
  {
   "cell_type": "markdown",
   "metadata": {},
   "source": [
    "### Data and Tag Paths"
   ]
  },
  {
   "cell_type": "code",
   "execution_count": 8,
   "metadata": {},
   "outputs": [],
   "source": [
    "# data_path = os.path.join(data_dir, data_name + \"_data.npz\")\n",
    "# tag_path = os.path.join(data_dir, data_name + \"_tag.npz\")\n",
    "\n",
    "train_data_path = os.path.join(data_dir, train_name + \"_data.npz\")\n",
    "train_tag_path = os.path.join(data_dir, train_name + \"_tag.npz\")\n",
    "\n",
    "test_data_path = os.path.join(data_dir, test_mono_name + \"_data.npz\")\n",
    "test_tag_path = os.path.join(data_dir, test_mono_name + \"_tag.npz\")"
   ]
  },
  {
   "cell_type": "markdown",
   "metadata": {},
   "source": [
    "### Create Dataset"
   ]
  },
  {
   "cell_type": "code",
   "execution_count": 9,
   "metadata": {},
   "outputs": [],
   "source": [
    "dictionary = FixedHandshapeDict()\n",
    "\n",
    "train_ds = HandshapeDataset(train_data_path, train_tag_path, dictionary)\n",
    "valid_ds = HandshapeDataset(test_data_path, test_tag_path, dictionary)\n",
    "# if READ: \n",
    "#     valid_ds_indices = DS_Tools.read_indices(os.path.join(save_subdir, \"valid_ds_{}.pkl\".format(ts)))\n",
    "#     all_indices = list(range(len(ds)))\n",
    "#     train_ds_indices = list(set(all_indices).difference(set(valid_ds_indices)))\n",
    "\n",
    "#     train_ds = torch.utils.data.Subset(ds, train_ds_indices)\n",
    "#     valid_ds = torch.utils.data.Subset(ds, valid_ds_indices)\n",
    "# else: \n",
    "#     train_len = int(0.9 * len(ds))\n",
    "#     valid_len = len(ds) - train_len\n",
    "\n",
    "#     # Randomly split the dataset into train and validation sets\n",
    "#     train_ds, valid_ds = random_split(ds, [train_len, valid_len])\n",
    "#     DS_Tools.save_indices(os.path.join(save_subdir, \"valid_ds_{}.pkl\".format(ts)), valid_ds.indices)\n",
    "\n",
    "train_loader = DataLoader(train_ds, batch_size=BATCH_SIZE, shuffle=True, num_workers=LOADER_WORKER)\n",
    "train_num = len(train_loader.dataset)\n",
    "\n",
    "valid_loader = DataLoader(valid_ds, batch_size=BATCH_SIZE, shuffle=False, num_workers=LOADER_WORKER)\n",
    "valid_num = len(valid_loader.dataset)\n"
   ]
  },
  {
   "cell_type": "markdown",
   "metadata": {},
   "source": [
    "### Check size of dataset"
   ]
  },
  {
   "cell_type": "code",
   "execution_count": 10,
   "metadata": {},
   "outputs": [
    {
     "name": "stdout",
     "output_type": "stream",
     "text": [
      "18149 2083\n"
     ]
    }
   ],
   "source": [
    "print(train_num, valid_num)"
   ]
  },
  {
   "cell_type": "markdown",
   "metadata": {},
   "source": [
    "### Save model structure"
   ]
  },
  {
   "cell_type": "code",
   "execution_count": 11,
   "metadata": {},
   "outputs": [],
   "source": [
    "model_graph = draw_graph(model, input_size=(BATCH_SIZE, length, original_dim), \n",
    "                         save_graph=True, filename=save_subdir + \"model_plot\")"
   ]
  },
  {
   "cell_type": "markdown",
   "metadata": {},
   "source": [
    "## Training"
   ]
  },
  {
   "cell_type": "markdown",
   "metadata": {},
   "source": [
    "### Define validation set cut range"
   ]
  },
  {
   "cell_type": "code",
   "execution_count": 12,
   "metadata": {},
   "outputs": [],
   "source": [
    "# cut_range = (0.2, 0.9)\n",
    "cut_range = None"
   ]
  },
  {
   "cell_type": "code",
   "execution_count": 15,
   "metadata": {},
   "outputs": [],
   "source": [
    "BASE = 0\n",
    "EPOCHS = 200"
   ]
  },
  {
   "cell_type": "code",
   "execution_count": 16,
   "metadata": {},
   "outputs": [],
   "source": [
    "def train(): \n",
    "    best_valid_loss = 1000000\n",
    "    best_valid_loss_epoch = 0\n",
    "    for epoch in range(BASE, BASE + EPOCHS):\n",
    "        model.train()\n",
    "        train_loss = 0.\n",
    "        train_num = len(train_loader)    # train_loader\n",
    "\n",
    "        train_correct = 0   # for accuracy\n",
    "        train_total = 0\n",
    "        for idx, (x, tags) in enumerate(train_loader):\n",
    "            optimizer.zero_grad()\n",
    "            \n",
    "            x = DS_Tools.cut_frames(x, cut_range=cut_range)\n",
    "            tags = DS_Tools.cut_frames(tags, cut_range=cut_range)\n",
    "\n",
    "            x = x.to(device)\n",
    "            x = x.to(torch.float32)\n",
    "            tags = tags.to(device)\n",
    "            \n",
    "            preds = model(x)\n",
    "\n",
    "            loss = criterion(preds, tags)\n",
    "            loss.backward()\n",
    "            optimizer.step()\n",
    "\n",
    "            train_loss += loss.item()\n",
    "\n",
    "            predicted = torch.argmax(nn.Softmax(dim=1)(preds), dim=1)\n",
    "            train_total += tags.size(0)\n",
    "            train_correct += (predicted == tags).sum().item()\n",
    "\n",
    "            # draw_progress_bar(idx, train_num, title=\"Train\")\n",
    "\n",
    "        train_losses.append(train_loss / train_num)\n",
    "        train_accuracies.append((100 * train_correct / train_total))\n",
    "        # text_hist.print(f\"※※※Training loss {train_loss / train_num: .3f}※※※\")\n",
    "\n",
    "        last_model_name = \"{}.pt\".format(epoch)\n",
    "        torch.save(model.state_dict(), os.path.join(save_subdir, last_model_name))\n",
    "        # text_hist.print(\"Training timepoint saved\")\n",
    "\n",
    "        model.eval()\n",
    "        valid_loss = 0.\n",
    "        valid_num = len(valid_loader)\n",
    "\n",
    "        valid_correct = 0\n",
    "        valid_total = 0\n",
    "        for idx, (x, tags) in enumerate(valid_loader):\n",
    "            x = DS_Tools.cut_frames(x, cut_range=cut_range)\n",
    "            tags = DS_Tools.cut_frames(tags, cut_range=cut_range)\n",
    "\n",
    "            x = x.to(device)\n",
    "            x = x.to(torch.float32)\n",
    "            tags = tags.to(device)\n",
    "            preds = model(x)    # (B, C)\n",
    "\n",
    "            loss = criterion(preds, tags)\n",
    "\n",
    "            valid_loss += loss.item()\n",
    "\n",
    "\n",
    "            predicted = torch.argmax(nn.Softmax(dim=1)(preds), dim=1)\n",
    "            valid_total += tags.size(0)\n",
    "            valid_correct += (predicted == tags).sum().item()\n",
    "\n",
    "            # draw_progress_bar(idx, valid_num, title=\"Valid\")\n",
    "\n",
    "        avg_valid_loss = valid_loss / valid_num\n",
    "        valid_losses.append(valid_loss / valid_num)\n",
    "        valid_accuracies.append((100 * valid_correct / valid_total))\n",
    "        if avg_valid_loss < best_valid_loss: \n",
    "            best_valid_loss = avg_valid_loss\n",
    "            best_valid_loss_epoch = epoch\n",
    "\n",
    "\n",
    "        draw_learning_curve_and_accuracy(losses=(train_losses.get(), valid_losses.get(), best_valid_loss_epoch), \n",
    "                                         accs=(train_accuracies.get(), valid_accuracies.get()), \n",
    "                                         epoch=str(epoch))\n",
    "        train_losses.save()\n",
    "        valid_losses.save()\n",
    "\n",
    "        train_accuracies.save()\n",
    "        valid_accuracies.save()\n",
    "\n",
    "        # text_hist.print(f\"※※※Valid loss {valid_loss / valid_num: .3f}※※※\")\n",
    "        # text_hist.print(f\"※※※Valid accuracy {(100 * valid_correct / valid_total): .3f} %※※※\")"
   ]
  },
  {
   "cell_type": "code",
   "execution_count": 17,
   "metadata": {},
   "outputs": [],
   "source": [
    "# train_accuracies.get()[644], valid_accuracies.get()[644]"
   ]
  },
  {
   "cell_type": "code",
   "execution_count": 18,
   "metadata": {},
   "outputs": [
    {
     "data": {
      "image/png": "[encoded data removed]",
      "text/plain": [
       "<Figure size 1200x400 with 2 Axes>"
      ]
     },
     "metadata": {},
     "output_type": "display_data"
    }
   ],
   "source": [
    "if __name__ == \"__main__\": \n",
    "    train()"
   ]
  },
  {
   "cell_type": "code",
   "execution_count": null,
   "metadata": {},
   "outputs": [],
   "source": []
  }
 ],
 "metadata": {
  "kernelspec": {
   "display_name": "slprt",
   "language": "python",
   "name": "python3"
  },
  "language_info": {
   "codemirror_mode": {
    "name": "ipython",
    "version": 3
   },
   "file_extension": ".py",
   "mimetype": "text/x-python",
   "name": "python",
   "nbconvert_exporter": "python",
   "pygments_lexer": "ipython3",
   "version": "3.11.4"
  },
  "orig_nbformat": 4
 },
 "nbformat": 4,
 "nbformat_minor": 2
}
