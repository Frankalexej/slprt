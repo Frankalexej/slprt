{
 "cells": [
  {
   "cell_type": "markdown",
   "metadata": {},
   "source": [
    "# Separate Dataset\n",
    "1. Separate polymorphemic signs and monomorphemic signs.  \n",
    "2. Randomly separate a train and test set. "
   ]
  },
  {
   "cell_type": "code",
   "execution_count": 1,
   "metadata": {},
   "outputs": [],
   "source": [
    "import pandas as pd\n",
    "import os\n",
    "import shutil\n",
    "import random\n",
    "\n",
    "from paths import *"
   ]
  },
  {
   "cell_type": "markdown",
   "metadata": {},
   "source": [
    "Read in guideline file"
   ]
  },
  {
   "cell_type": "code",
   "execution_count": 2,
   "metadata": {},
   "outputs": [],
   "source": [
    "guideline = pd.read_csv(guide_path)"
   ]
  },
  {
   "cell_type": "markdown",
   "metadata": {},
   "source": [
    "filter out polymorphemic signs"
   ]
  },
  {
   "cell_type": "code",
   "execution_count": 3,
   "metadata": {},
   "outputs": [],
   "source": [
    "polymorph = guideline[guideline[\"ONLY_1\"] == 0][\"NewFileName\"].tolist()"
   ]
  },
  {
   "cell_type": "markdown",
   "metadata": {},
   "source": [
    "make up paths"
   ]
  },
  {
   "cell_type": "code",
   "execution_count": 4,
   "metadata": {},
   "outputs": [],
   "source": [
    "train_dir = os.path.join(det_dir, train_name)\n",
    "test_mono_dir = os.path.join(det_dir, test_mono_name)\n",
    "test_poly_dir = os.path.join(det_dir, test_poly_name)\n",
    "\n",
    "mk(train_dir)\n",
    "mk(test_mono_dir)\n",
    "mk(test_poly_dir)"
   ]
  },
  {
   "cell_type": "code",
   "execution_count": 5,
   "metadata": {},
   "outputs": [],
   "source": [
    "def copy_files(source_directory, destination_directory):\n",
    "    # Make sure the source directory exists\n",
    "    if not os.path.exists(source_directory):\n",
    "        print(f\"Source directory '{source_directory}' does not exist.\")\n",
    "        return\n",
    "\n",
    "    # Make sure the destination directory exists, create it if not\n",
    "    os.makedirs(destination_directory, exist_ok=True)\n",
    "\n",
    "    # Get a list of all files in the source directory\n",
    "    files = os.listdir(source_directory)\n",
    "\n",
    "    # Copy each file to the destination directory\n",
    "    for file in files:\n",
    "        source_path = os.path.join(source_directory, file)\n",
    "        destination_path = os.path.join(destination_directory, file)\n",
    "        shutil.copy2(source_path, destination_path)\n",
    "        # shutil.copy2 preserves metadata such as timestamps\n",
    "\n",
    "    # print(f\"Files copied from '{source_directory}' to '{destination_directory}'.\")"
   ]
  },
  {
   "cell_type": "code",
   "execution_count": 6,
   "metadata": {},
   "outputs": [],
   "source": [
    "full_dir = os.path.join(det_dir, data_name)"
   ]
  },
  {
   "cell_type": "markdown",
   "metadata": {},
   "source": [
    "copy polymorphemic signs"
   ]
  },
  {
   "cell_type": "code",
   "execution_count": 7,
   "metadata": {},
   "outputs": [
    {
     "name": "stdout",
     "output_type": "stream",
     "text": [
      "Source directory '../src/det/Cynthia_full/B_01_048-FINGERSPELL-0000-38' does not exist.\n",
      "Source directory '../src/det/Cynthia_full/B_02_003-ABOUT_2-0000-79' does not exist.\n",
      "Source directory '../src/det/Cynthia_full/B_02_010-GALLAUDET-0000-85' does not exist.\n",
      "Source directory '../src/det/Cynthia_full/B_02_013-SAME_2-0000-87' does not exist.\n",
      "Source directory '../src/det/Cynthia_full/B_03_047-PROBLEM_2-15N3-197' does not exist.\n",
      "Source directory '../src/det/Cynthia_full/B_03_082-EAT_2-0000-228' does not exist.\n",
      "Source directory '../src/det/Cynthia_full/C_02_047-STUPID_2-0000-355' does not exist.\n",
      "Source directory '../src/det/Cynthia_full/C_03_067-FOREIGNER_2-0000-439' does not exist.\n"
     ]
    }
   ],
   "source": [
    "for fn in polymorph: \n",
    "    fn_path = os.path.join(full_dir, fn)\n",
    "    dest_fn_path = os.path.join(test_poly_dir, fn)\n",
    "\n",
    "    copy_files(fn_path, dest_fn_path)"
   ]
  },
  {
   "cell_type": "markdown",
   "metadata": {},
   "source": [
    "Now we deal with monomorph signs. These signs will be taken as training and testing items. "
   ]
  },
  {
   "cell_type": "code",
   "execution_count": 7,
   "metadata": {},
   "outputs": [],
   "source": [
    "monomorph = guideline[guideline[\"ONLY_1\"] == 1][\"NewFileName\"].tolist()"
   ]
  },
  {
   "cell_type": "code",
   "execution_count": 8,
   "metadata": {},
   "outputs": [],
   "source": [
    "def split_list(input_list, percentage_split=0.9):\n",
    "    # Shuffle the list randomly\n",
    "    random.shuffle(input_list)\n",
    "\n",
    "    # Calculate the index for the split\n",
    "    split_index = int(len(input_list) * percentage_split)\n",
    "\n",
    "    # Split the list\n",
    "    list_90_percent = input_list[:split_index]\n",
    "    list_10_percent = input_list[split_index:]\n",
    "\n",
    "    return list_90_percent, list_10_percent"
   ]
  },
  {
   "cell_type": "code",
   "execution_count": 9,
   "metadata": {},
   "outputs": [],
   "source": [
    "train_items, test_items = split_list(monomorph, percentage_split=0.95)"
   ]
  },
  {
   "cell_type": "code",
   "execution_count": 10,
   "metadata": {},
   "outputs": [
    {
     "data": {
      "text/plain": [
       "(728, 39)"
      ]
     },
     "execution_count": 10,
     "metadata": {},
     "output_type": "execute_result"
    }
   ],
   "source": [
    "len(train_items), len(test_items)"
   ]
  },
  {
   "cell_type": "code",
   "execution_count": 11,
   "metadata": {},
   "outputs": [
    {
     "name": "stdout",
     "output_type": "stream",
     "text": [
      "Source directory '../src/det/Cynthia_full/HKSL_lesson_only108-MTR (SUBWAY)-0RHF-573' does not exist.\n",
      "Source directory '../src/det/Cynthia_full/HKSL_lesson_only125-ORANGE (COLOR)-0QIP-591' does not exist.\n",
      "Source directory '../src/det/Cynthia_full/HKSL_lesson_only123-OCTOPUS_CARD (TRANSPORTATION CARD)-0KBB-588' does not exist.\n",
      "Source directory '../src/det/Cynthia_full/HKSL_lesson_only120-CABLE CAR-0VKS-585' does not exist.\n",
      "Source directory '../src/det/Cynthia_full/HKSL_lesson_only74-FOOTBALL (SOCCER)-13DJ-537' does not exist.\n"
     ]
    }
   ],
   "source": [
    "for fn in train_items: \n",
    "    fn_path = os.path.join(full_dir, fn)\n",
    "    dest_fn_path = os.path.join(train_dir, fn)\n",
    "\n",
    "    copy_files(fn_path, dest_fn_path)"
   ]
  },
  {
   "cell_type": "code",
   "execution_count": 12,
   "metadata": {},
   "outputs": [],
   "source": [
    "for fn in test_items: \n",
    "    fn_path = os.path.join(full_dir, fn)\n",
    "    dest_fn_path = os.path.join(test_mono_dir, fn)\n",
    "\n",
    "    copy_files(fn_path, dest_fn_path)"
   ]
  },
  {
   "cell_type": "markdown",
   "metadata": {},
   "source": []
  }
 ],
 "metadata": {
  "kernelspec": {
   "display_name": "slprttorch",
   "language": "python",
   "name": "python3"
  },
  "language_info": {
   "codemirror_mode": {
    "name": "ipython",
    "version": 3
   },
   "file_extension": ".py",
   "mimetype": "text/x-python",
   "name": "python",
   "nbconvert_exporter": "python",
   "pygments_lexer": "ipython3",
   "version": "3.11.4"
  }
 },
 "nbformat": 4,
 "nbformat_minor": 2
}
