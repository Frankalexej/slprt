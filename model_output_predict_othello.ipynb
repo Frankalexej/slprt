{
 "cells": [
  {
   "cell_type": "markdown",
   "metadata": {},
   "source": [
    "# Predict Othello"
   ]
  },
  {
   "cell_type": "markdown",
   "metadata": {},
   "source": [
    "## Import Libs"
   ]
  },
  {
   "cell_type": "code",
   "execution_count": 23,
   "metadata": {},
   "outputs": [],
   "source": [
    "import pandas as pd\n",
    "from paths import *\n",
    "import os\n",
    "import numpy as np"
   ]
  },
  {
   "cell_type": "markdown",
   "metadata": {},
   "source": [
    "## Construct mapper"
   ]
  },
  {
   "cell_type": "code",
   "execution_count": 10,
   "metadata": {},
   "outputs": [],
   "source": [
    "def read_csv_and_map(filename):\n",
    "    # Read the CSV file into a pandas DataFrame\n",
    "    df = pd.read_csv(filename)  # assuming the file is tab-separated\n",
    "\n",
    "    # Create a dictionary to map identifier to an array of features\n",
    "    identifier_to_features = {}\n",
    "\n",
    "    # Iterate through each row in the DataFrame\n",
    "    for index, row in df.iterrows():\n",
    "        # Extract identifier and features\n",
    "        identifier = row['hs_font']\n",
    "        features = row.iloc[2:].values.tolist()  # Skip the first two columns\n",
    "\n",
    "        # Map identifier to features\n",
    "        identifier_to_features[identifier] = features\n",
    "    \n",
    "    identifier_to_features[\"feature_names\"] = list(df.columns[2:])\n",
    "\n",
    "    return identifier_to_features"
   ]
  },
  {
   "cell_type": "code",
   "execution_count": 11,
   "metadata": {},
   "outputs": [],
   "source": [
    "csv_filename = os.path.join(pred_results_dir, 'handshapefeatures_codepoints.csv')\n",
    "identifier_mapping = read_csv_and_map(csv_filename)"
   ]
  },
  {
   "cell_type": "code",
   "execution_count": 49,
   "metadata": {},
   "outputs": [
    {
     "data": {
      "text/plain": [
       "{'0': [0, 1, 0, 0, 0, 1, 0, 0, 0, 1, 0, 0, 0, 1, 0, 0, 0, 1, 0, 0],\n",
       " '1': [1, 1, 0, 1, 1, 1, 0, 1, 1, 1, 0, 1, 1, 1, 0, 1, 0, 0, 0, 0],\n",
       " '2': [1, 1, 0, 1, 1, 1, 0, 1, 1, 1, 0, 1, 1, 1, 0, 1, 0, 0, 1, 0],\n",
       " '3': [1, 1, 0, 1, 1, 1, 0, 1, 1, 1, 0, 1, 0, 1, 0, 1, 0, 0, 0, 1],\n",
       " '4': [1, 1, 0, 1, 1, 1, 0, 1, 1, 1, 0, 1, 1, 0, 0, 0, 0, 0, 0, 0],\n",
       " '5': [1, 0, 1, 0, 1, 0, 1, 0, 1, 0, 1, 0, 1, 0, 1, 0, 1, 0, 1, 0],\n",
       " '6': [1, 1, 0, 1, 1, 1, 0, 1, 1, 1, 0, 1, 1, 1, 0, 1, 1, 1, 0, 1],\n",
       " '7': [1, 1, 0, 1, 1, 1, 0, 1, 1, 1, 0, 1, 1, 1, 0, 1, 1, 0, 0, 1],\n",
       " '8': [1, 1, 0, 0, 1, 1, 0, 1, 1, 1, 0, 1, 1, 1, 0, 1, 1, 0, 0, 1],\n",
       " '9': [1, 1, 0, 0, 1, 1, 0, 1, 1, 1, 0, 1, 1, 1, 0, 1, 1, 1, 0, 1],\n",
       " '-': [0, 1, 1, 0, 0, 1, 1, 0, 0, 1, 1, 0, 0, 1, 1, 0, 0, 0, 1, 0],\n",
       " '(': [1, 0, 0, 0, 1, 0, 0, 0, 1, 0, 0, 0, 1, 0, 0, 0, 0, 0, 1, 0],\n",
       " ')': [0, 1, 1, 0, 0, 1, 1, 0, 0, 1, 1, 0, 0, 1, 1, 0, 0, 1, 1, 0],\n",
       " ',': [0, 0, 0, 0, 0, 0, 0, 0, 0, 0, 0, 0, 0, 0, 0, 0, 0, 0, 0, 0],\n",
       " '/': [0, 1, 1, 1, 0, 1, 1, 0, 0, 1, 1, 0, 0, 1, 1, 0, 1, 0, 1, 0],\n",
       " ':': [1, 0, 0, 0, 1, 0, 0, 0, 1, 0, 0, 0, 1, 0, 0, 0, 0, 0, 0, 0],\n",
       " ';': [0, 0, 0, 0, 0, 0, 0, 0, 0, 0, 0, 0, 0, 0, 0, 0, 0, 0, 1, 0],\n",
       " '?': [1, 0, 1, 0, 1, 0, 1, 0, 1, 0, 1, 0, 1, 0, 1, 0, 1, 0, 1, 0],\n",
       " '[': [1, 1, 0, 1, 1, 1, 0, 1, 1, 1, 0, 1, 1, 1, 0, 1, 1, 1, 0, 1],\n",
       " '\\\\': [0, 1, 1, 0, 0, 1, 1, 0, 0, 1, 1, 0, 1, 1, 0, 1, 1, 1, 0, 1],\n",
       " ']': [0, 0, 0, 0, 0, 0, 0, 0, 0, 0, 0, 0, 0, 0, 0, 0, 0, 0, 0, 0],\n",
       " '|': [0, 0, 0, 0, 0, 0, 0, 0, 0, 0, 0, 0, 0, 0, 0, 0, 0, 0, 0, 0],\n",
       " '}': [0, 1, 0, 1, 0, 1, 0, 1, 0, 0, 0, 0, 0, 1, 0, 0, 1, 1, 0, 1],\n",
       " '+': [0, 1, 1, 0, 0, 1, 1, 0, 0, 1, 1, 0, 1, 0, 1, 0, 1, 0, 1, 0],\n",
       " '<': [0, 1, 0, 0, 0, 1, 0, 0, 0, 1, 0, 0, 0, 1, 0, 0, 0, 1, 1, 0],\n",
       " '=': [0, 1, 0, 0, 0, 1, 0, 0, 0, 1, 0, 0, 0, 1, 0, 0, 0, 0, 1, 0],\n",
       " '>': [0, 0, 1, 0, 0, 0, 1, 0, 0, 0, 1, 0, 0, 0, 1, 0, 0, 0, 1, 0],\n",
       " 'A': [0, 1, 0, 1, 0, 1, 0, 1, 0, 1, 0, 1, 0, 1, 0, 1, 1, 0, 0, 1],\n",
       " 'B': [1, 1, 0, 1, 1, 1, 0, 1, 1, 1, 0, 1, 0, 0, 1, 0, 1, 0, 0, 1],\n",
       " 'b': [1, 1, 0, 1, 1, 1, 0, 1, 0, 1, 1, 0, 0, 1, 1, 0, 1, 0, 1, 1],\n",
       " 'c': [1, 1, 0, 1, 1, 1, 0, 1, 0, 1, 1, 0, 0, 1, 1, 0, 0, 0, 1, 0],\n",
       " 'C': [1, 0, 0, 1, 1, 0, 0, 1, 1, 0, 0, 0, 0, 0, 1, 0, 0, 0, 1, 0],\n",
       " 'D': [1, 1, 0, 1, 1, 1, 0, 1, 1, 1, 0, 1, 0, 1, 0, 0, 1, 0, 1, 1],\n",
       " 'd': [1, 1, 0, 1, 1, 1, 0, 1, 1, 0, 1, 0, 0, 0, 1, 0, 1, 0, 0, 1],\n",
       " 'E': [1, 1, 0, 1, 1, 1, 0, 1, 1, 1, 0, 1, 0, 1, 1, 0, 0, 0, 1, 0],\n",
       " 'f': [0, 0, 1, 0, 1, 1, 0, 1, 1, 1, 0, 1, 1, 1, 0, 1, 0, 0, 1, 0],\n",
       " 'F': [0, 1, 0, 1, 0, 1, 0, 1, 0, 1, 0, 1, 0, 0, 1, 0, 0, 1, 1, 0],\n",
       " 'G': [1, 1, 0, 0, 1, 1, 0, 0, 1, 1, 0, 0, 0, 0, 1, 0, 1, 1, 0, 1],\n",
       " 'g': [0, 0, 1, 0, 0, 1, 0, 1, 0, 1, 0, 1, 0, 0, 1, 0, 1, 0, 0, 1],\n",
       " 'H': [1, 1, 0, 1, 1, 1, 0, 1, 1, 1, 0, 1, 0, 0, 1, 0, 1, 1, 0, 1],\n",
       " 'h': [0, 0, 1, 0, 0, 1, 0, 0, 0, 1, 0, 0, 0, 0, 1, 0, 0, 0, 1, 0],\n",
       " 'I': [1, 1, 0, 1, 1, 1, 0, 1, 1, 1, 0, 1, 1, 0, 0, 1, 0, 0, 0, 1],\n",
       " 'i': [0, 0, 1, 0, 0, 1, 0, 1, 0, 1, 0, 1, 0, 0, 1, 0, 1, 0, 0, 1],\n",
       " 'J': [1, 1, 0, 1, 1, 1, 0, 1, 1, 1, 0, 1, 1, 0, 0, 0, 0, 0, 0, 0],\n",
       " 'j': [1, 0, 0, 1, 0, 0, 1, 0, 0, 0, 1, 0, 0, 0, 1, 0, 1, 0, 0, 1],\n",
       " 'k': [0, 1, 1, 1, 0, 1, 1, 0, 0, 1, 1, 0, 0, 1, 1, 0, 1, 1, 0, 1],\n",
       " 'L': [0, 1, 0, 0, 1, 1, 0, 0, 1, 1, 0, 0, 1, 1, 0, 0, 1, 0, 1, 0],\n",
       " 'l': [0, 1, 1, 1, 0, 0, 0, 0, 0, 0, 0, 0, 0, 0, 0, 0, 1, 1, 0, 1],\n",
       " 'M': [1, 1, 0, 0, 1, 1, 0, 0, 1, 1, 0, 0, 1, 1, 0, 1, 1, 1, 0, 1],\n",
       " 'm': [0, 0, 0, 0, 0, 0, 0, 0, 0, 0, 0, 0, 0, 1, 0, 1, 1, 1, 0, 1],\n",
       " 'N': [0, 1, 0, 1, 0, 1, 0, 1, 0, 0, 1, 0, 0, 1, 0, 1, 0, 1, 0, 1],\n",
       " 'n': [0, 0, 1, 0, 0, 0, 1, 0, 0, 0, 1, 0, 0, 1, 0, 1, 1, 1, 0, 1],\n",
       " 'O': [0, 1, 1, 0, 0, 1, 1, 0, 0, 1, 1, 0, 1, 1, 0, 1, 1, 1, 0, 1],\n",
       " 'o': [0, 0, 1, 0, 0, 0, 1, 0, 0, 0, 1, 0, 0, 1, 0, 0, 1, 1, 0, 0],\n",
       " 'P': [0, 0, 1, 0, 1, 1, 0, 1, 1, 1, 0, 1, 1, 1, 0, 1, 1, 1, 0, 1],\n",
       " 'p': [0, 1, 1, 0, 0, 1, 1, 0, 0, 1, 1, 0, 0, 1, 0, 1, 1, 1, 0, 1],\n",
       " 'q': [1, 1, 0, 0, 1, 1, 0, 0, 0, 1, 0, 0, 0, 1, 0, 0, 0, 0, 1, 0],\n",
       " 'r': [0, 0, 1, 0, 0, 0, 1, 0, 0, 1, 0, 0, 0, 0, 1, 0, 0, 0, 1, 0],\n",
       " 's': [0, 0, 1, 0, 0, 0, 1, 0, 0, 1, 0, 1, 0, 0, 1, 0, 1, 0, 0, 1],\n",
       " 'T': [0, 1, 0, 1, 0, 1, 0, 1, 0, 0, 0, 0, 0, 0, 0, 0, 1, 0, 0, 1],\n",
       " 't': [0, 0, 1, 0, 0, 0, 1, 0, 0, 1, 0, 0, 0, 0, 1, 0, 1, 0, 0, 0],\n",
       " 'U': [1, 1, 0, 1, 1, 1, 0, 1, 1, 0, 0, 1, 1, 0, 0, 1, 1, 0, 0, 1],\n",
       " 'u': [0, 0, 1, 0, 0, 0, 1, 0, 1, 1, 0, 1, 0, 0, 1, 0, 1, 0, 0, 1],\n",
       " 'v': [0, 0, 1, 0, 0, 0, 1, 0, 0, 0, 1, 0, 0, 0, 1, 0, 1, 1, 1, 0],\n",
       " 'V': [1, 1, 0, 1, 1, 1, 0, 1, 1, 0, 0, 0, 1, 0, 0, 0, 1, 0, 1, 0],\n",
       " 'w': [0, 0, 0, 0, 0, 0, 0, 0, 0, 0, 0, 0, 0, 0, 0, 0, 1, 1, 0, 0],\n",
       " 'W': [0, 1, 0, 0, 0, 1, 0, 0, 0, 0, 0, 0, 0, 0, 0, 0, 0, 0, 1, 0],\n",
       " 'x': [0, 0, 0, 0, 0, 0, 0, 0, 0, 0, 0, 0, 0, 0, 0, 0, 0, 0, 1, 0],\n",
       " 'X': [0, 1, 0, 1, 0, 1, 0, 1, 0, 0, 0, 1, 0, 0, 0, 1, 1, 1, 0, 1],\n",
       " 'Y': [1, 0, 0, 1, 1, 0, 0, 1, 0, 0, 1, 0, 0, 0, 1, 0, 1, 0, 0, 1],\n",
       " 'y': [1, 0, 0, 0, 1, 0, 0, 0, 1, 0, 0, 0, 1, 0, 0, 0, 1, 0, 0, 1],\n",
       " 'Z': [1, 0, 0, 1, 1, 0, 0, 1, 0, 0, 1, 0, 0, 0, 1, 0, 0, 0, 1, 0],\n",
       " 'z': [1, 0, 0, 0, 1, 0, 0, 0, 1, 0, 0, 0, 1, 0, 0, 0, 1, 0, 1, 0],\n",
       " 'feature_names': ['pinkie_k1',\n",
       "  'pinkie_k2',\n",
       "  'pinkie_splay',\n",
       "  'pinkie_tips',\n",
       "  'ring_k1',\n",
       "  'ring_k2',\n",
       "  'ring_splay',\n",
       "  'ring_tips',\n",
       "  'middle_k1',\n",
       "  'middle_k2',\n",
       "  'middle_splay',\n",
       "  'middle_tips',\n",
       "  'index_k1',\n",
       "  'index_k2',\n",
       "  'index_splay',\n",
       "  'index_tips',\n",
       "  'thumb_k1',\n",
       "  'thumb_k2',\n",
       "  'thumb_splay',\n",
       "  'thumb_tips']}"
      ]
     },
     "execution_count": 49,
     "metadata": {},
     "output_type": "execute_result"
    }
   ],
   "source": [
    "identifier_mapping"
   ]
  },
  {
   "cell_type": "markdown",
   "metadata": {},
   "source": [
    "## Define difference measurement methods"
   ]
  },
  {
   "cell_type": "code",
   "execution_count": 127,
   "metadata": {},
   "outputs": [],
   "source": [
    "from sklearn.metrics import pairwise_distances\n",
    "\n",
    "def all_same_edit(a, b): \n",
    "    # suppose the input is list\n",
    "    arraied_a = np.expand_dims(np.array(a), axis=0)\n",
    "    arraied_b = np.expand_dims(np.array(b), axis=0)\n",
    "    distance_matrix = pairwise_distances(arraied_a, arraied_b, metric='cityblock')\n",
    "    return distance_matrix.item()\n",
    "\n",
    "def fingerless_edit(a, b): \n",
    "    # this method does not poly-count the different fingers (except thumb) but instead takes the mean \n",
    "    # of the four fingers differences at each position. But for each position, the error is not averaged. \n",
    "    \"\"\"\n",
    "    Arthur: \n",
    "    My intuition is that the between-finger difference calculation is the most faithful way to quantify differences between handshapes. \n",
    "    For example \"j\", \"k\", and \"l\" handshapes seem related in a hierarchical fashion. \n",
    "    The difference between \"j\" and \"k\" is a difference of 1 at k2 (knuckle 2) for the fingers ring, middle, and index. \n",
    "    The difference between \"j\" and \"l\" is a difference of 1 at splayed for ring, middle, and index. \n",
    "    But the difference between \"k\" and \"l\" is a difference of 1 at k2 and 1 at splayed for ring, middle, and index.\n",
    "    \"\"\"\n",
    "    arraied_a = np.array(a)\n",
    "    arraied_b = np.array(b)\n",
    "\n",
    "    mat_a = np.reshape(arraied_a, (5,4))\n",
    "    mat_b = np.reshape(arraied_b, (5,4))\n",
    "\n",
    "    fingers_a = mat_a[:4]\n",
    "    fingers_b = mat_b[:4]\n",
    "\n",
    "    thumb_a = mat_a[4]\n",
    "    thumb_b = mat_b[4]\n",
    "\n",
    "    fingerdist = np.not_equal(fingers_a, fingers_b).mean(axis=0)\n",
    "    thumbdist = np.not_equal(thumb_a, thumb_b)\n",
    "\n",
    "    totaldist = (fingerdist + thumbdist).sum()\n",
    "\n",
    "    return totaldist\n",
    "\n",
    "def knuckleless_edit(a, b): \n",
    "    # this method does not poly-count the two knuckles but instead takes the mean \n",
    "    # of the two differences at finger. But for each finger, the error is not averaged. \n",
    "    \"\"\"\n",
    "    This one may not be as faithful as the fingerless one. \n",
    "    However, it only compared straight fingers vs curled while not pay attention to what kind of curling\n",
    "    \"\"\"\n",
    "    arraied_a = np.array(a)\n",
    "    arraied_b = np.array(b)\n",
    "\n",
    "    mat_a = np.reshape(arraied_a, (5,4))\n",
    "    mat_b = np.reshape(arraied_b, (5,4))\n",
    "\n",
    "    ka = mat_a[:, :2]\n",
    "    kb = mat_b[:, :2]\n",
    "\n",
    "    oa = mat_a[:, 2:]\n",
    "    ob = mat_b[:, 2:]\n",
    "\n",
    "    knuckledist = np.not_equal(ka, kb).mean(axis=1, keepdims=True)\n",
    "    otherdist = np.not_equal(oa, ob)\n",
    "    totaldist = np.concatenate((knuckledist, otherdist), axis=1).sum()\n",
    "\n",
    "    return totaldist\n",
    "\n",
    "def fingerless_knuckleless_edit(a, b): \n",
    "    \"\"\"\n",
    "    Integrating both cross-finger and cross-knuckle differences\n",
    "    \"\"\"\n",
    "    arraied_a = np.array(a)\n",
    "    arraied_b = np.array(b)\n",
    "\n",
    "    mat_a = np.reshape(arraied_a, (5,4))\n",
    "    mat_b = np.reshape(arraied_b, (5,4))\n",
    "\n",
    "    fka = mat_a[:4, :2]\n",
    "    fkb = mat_b[:4, :2]\n",
    "\n",
    "    foa = mat_a[:4, 2:]\n",
    "    fob = mat_b[:4, 2:]\n",
    "\n",
    "    tka = mat_a[4:, :2]\n",
    "    tkb = mat_b[4:, :2]\n",
    "\n",
    "    toa = mat_a[4:, 2:]\n",
    "    tob = mat_b[4:, 2:]\n",
    "\n",
    "    fkd = np.not_equal(fka, fkb).mean(axis=1, keepdims=True)\n",
    "    fod = np.not_equal(foa, fob)\n",
    "    \n",
    "    tkd = np.not_equal(tka, tkb).mean(axis=1, keepdims=True)\n",
    "    tod = np.not_equal(toa, tob)\n",
    "\n",
    "    ftotald = np.concatenate((fkd, fod), axis=1).mean(axis=0)\n",
    "    ttotald = np.concatenate((tkd, tod), axis=1)\n",
    "\n",
    "    totaldist = (ftotald + ttotald).sum()\n",
    "\n",
    "    return totaldist"
   ]
  },
  {
   "cell_type": "markdown",
   "metadata": {},
   "source": [
    "### Othello Matrix Template"
   ]
  },
  {
   "cell_type": "code",
   "execution_count": 153,
   "metadata": {},
   "outputs": [
    {
     "data": {
      "text/plain": [
       "array([['pinkie_k1', 'pinkie_k2', 'pinkie_splay', 'pinkie_tips'],\n",
       "       ['ring_k1', 'ring_k2', 'ring_splay', 'ring_tips'],\n",
       "       ['middle_k1', 'middle_k2', 'middle_splay', 'middle_tips'],\n",
       "       ['index_k1', 'index_k2', 'index_splay', 'index_tips'],\n",
       "       ['thumb_k1', 'thumb_k2', 'thumb_splay', 'thumb_tips']],\n",
       "      dtype='<U12')"
      ]
     },
     "execution_count": 153,
     "metadata": {},
     "output_type": "execute_result"
    }
   ],
   "source": [
    "np.array(identifier_mapping[\"feature_names\"]).reshape(5,4)"
   ]
  },
  {
   "cell_type": "markdown",
   "metadata": {},
   "source": [
    "## Test item: x and y"
   ]
  },
  {
   "cell_type": "code",
   "execution_count": 133,
   "metadata": {},
   "outputs": [
    {
     "data": {
      "text/plain": [
       "7.0"
      ]
     },
     "execution_count": 133,
     "metadata": {},
     "output_type": "execute_result"
    }
   ],
   "source": [
    "all_same_edit(identifier_mapping[\"x\"], identifier_mapping[\"y\"])"
   ]
  },
  {
   "cell_type": "code",
   "execution_count": 134,
   "metadata": {},
   "outputs": [
    {
     "data": {
      "text/plain": [
       "4.0"
      ]
     },
     "execution_count": 134,
     "metadata": {},
     "output_type": "execute_result"
    }
   ],
   "source": [
    "fingerless_edit(identifier_mapping[\"x\"], identifier_mapping[\"y\"])"
   ]
  },
  {
   "cell_type": "code",
   "execution_count": 135,
   "metadata": {},
   "outputs": [
    {
     "data": {
      "text/plain": [
       "4.5"
      ]
     },
     "execution_count": 135,
     "metadata": {},
     "output_type": "execute_result"
    }
   ],
   "source": [
    "knuckleless_edit(identifier_mapping[\"x\"], identifier_mapping[\"y\"])"
   ]
  },
  {
   "cell_type": "code",
   "execution_count": 136,
   "metadata": {},
   "outputs": [
    {
     "data": {
      "text/plain": [
       "3.0"
      ]
     },
     "execution_count": 136,
     "metadata": {},
     "output_type": "execute_result"
    }
   ],
   "source": [
    "fingerless_knuckleless_edit(identifier_mapping[\"x\"], identifier_mapping[\"y\"])"
   ]
  },
  {
   "cell_type": "markdown",
   "metadata": {},
   "source": [
    "## Maximally different (20\\*0 vs 20\\*1)"
   ]
  },
  {
   "cell_type": "code",
   "execution_count": 147,
   "metadata": {},
   "outputs": [],
   "source": [
    "a = np.zeros(20, dtype=int)\n",
    "b = np.ones(20, dtype=int)"
   ]
  },
  {
   "cell_type": "code",
   "execution_count": 149,
   "metadata": {},
   "outputs": [
    {
     "data": {
      "text/plain": [
       "20.0"
      ]
     },
     "execution_count": 149,
     "metadata": {},
     "output_type": "execute_result"
    }
   ],
   "source": [
    "all_same_edit(a, b)"
   ]
  },
  {
   "cell_type": "code",
   "execution_count": 150,
   "metadata": {},
   "outputs": [
    {
     "data": {
      "text/plain": [
       "8.0"
      ]
     },
     "execution_count": 150,
     "metadata": {},
     "output_type": "execute_result"
    }
   ],
   "source": [
    "fingerless_edit(a, b)"
   ]
  },
  {
   "cell_type": "code",
   "execution_count": 151,
   "metadata": {},
   "outputs": [
    {
     "data": {
      "text/plain": [
       "15.0"
      ]
     },
     "execution_count": 151,
     "metadata": {},
     "output_type": "execute_result"
    }
   ],
   "source": [
    "knuckleless_edit(a, b)"
   ]
  },
  {
   "cell_type": "code",
   "execution_count": 152,
   "metadata": {},
   "outputs": [
    {
     "data": {
      "text/plain": [
       "6.0"
      ]
     },
     "execution_count": 152,
     "metadata": {},
     "output_type": "execute_result"
    }
   ],
   "source": [
    "fingerless_knuckleless_edit(a, b)"
   ]
  },
  {
   "cell_type": "markdown",
   "metadata": {},
   "source": [
    "## Generate scorings and append to result"
   ]
  },
  {
   "cell_type": "code",
   "execution_count": 174,
   "metadata": {},
   "outputs": [],
   "source": [
    "tmdt = pd.read_excel(os.path.join(pred_results_dir, 'HKSL_Prediction_Cynthia_test_mono.xlsx'), index_col=0)\n",
    "\n",
    "tmdt[\"all_same_edit_dist\"] = tmdt.apply(lambda x: all_same_edit(identifier_mapping[x[\"target\"]], identifier_mapping[x[\"predicted\"]]), axis=1)\n",
    "tmdt[\"fingerless_edit_dist\"] = tmdt.apply(lambda x: fingerless_edit(identifier_mapping[x[\"target\"]], identifier_mapping[x[\"predicted\"]]), axis=1)\n",
    "tmdt[\"knuckleless_edit_dist\"] = tmdt.apply(lambda x: knuckleless_edit(identifier_mapping[x[\"target\"]], identifier_mapping[x[\"predicted\"]]), axis=1)\n",
    "tmdt[\"fingerless_knuckleless_edit_dist\"] = tmdt.apply(lambda x: fingerless_knuckleless_edit(identifier_mapping[x[\"target\"]], identifier_mapping[x[\"predicted\"]]), axis=1)\n",
    "\n",
    "tmdt[\"asd_ratio\"] = tmdt[\"all_same_edit_dist\"] / 20\n",
    "tmdt[\"fd_ratio\"] = tmdt[\"fingerless_edit_dist\"] / 8\n",
    "tmdt[\"kd_ratio\"] = tmdt[\"knuckleless_edit_dist\"] / 15\n",
    "tmdt[\"fkd_ratio\"] = tmdt[\"fingerless_knuckleless_edit_dist\"] / 6\n",
    "\n",
    "tmdt.to_excel(os.path.join(pred_results_dir, 'HKSL_Prediction_Cynthia_test_mono_with_distance.xlsx'), index=False)"
   ]
  },
  {
   "cell_type": "code",
   "execution_count": 173,
   "metadata": {},
   "outputs": [],
   "source": [
    "tmdt = pd.read_excel(os.path.join(pred_results_dir, 'HKSL_Prediction_Cynthia_test_poly.xlsx'), index_col=0)\n",
    "tmdt['target'] = tmdt['target'].fillna('nan')\n",
    "\n",
    "tmdt[\"all_same_edit_dist\"] = tmdt.apply(lambda x: all_same_edit(identifier_mapping[x[\"target\"]], identifier_mapping[x[\"predicted\"]]) if x[\"target\"] != \"nan\" else -1, axis=1)\n",
    "tmdt[\"fingerless_edit_dist\"] = tmdt.apply(lambda x: fingerless_edit(identifier_mapping[x[\"target\"]], identifier_mapping[x[\"predicted\"]]) if x[\"target\"] != \"nan\" else -1, axis=1)\n",
    "tmdt[\"knuckleless_edit_dist\"] = tmdt.apply(lambda x: knuckleless_edit(identifier_mapping[x[\"target\"]], identifier_mapping[x[\"predicted\"]]) if x[\"target\"] != \"nan\" else -1, axis=1)\n",
    "tmdt[\"fingerless_knuckleless_edit_dist\"] = tmdt.apply(lambda x: fingerless_knuckleless_edit(identifier_mapping[x[\"target\"]], identifier_mapping[x[\"predicted\"]]) if x[\"target\"] != \"nan\" else -1, axis=1)\n",
    "\n",
    "tmdt[\"asd_ratio\"] = tmdt[\"all_same_edit_dist\"] / 20\n",
    "tmdt[\"fd_ratio\"] = tmdt[\"fingerless_edit_dist\"] / 8\n",
    "tmdt[\"kd_ratio\"] = tmdt[\"knuckleless_edit_dist\"] / 15\n",
    "tmdt[\"fkd_ratio\"] = tmdt[\"fingerless_knuckleless_edit_dist\"] / 6\n",
    "\n",
    "tmdt.to_excel(os.path.join(pred_results_dir, 'HKSL_Prediction_Cynthia_test_poly_with_distance.xlsx'), index=False)"
   ]
  },
  {
   "cell_type": "code",
   "execution_count": 175,
   "metadata": {},
   "outputs": [],
   "source": [
    "tmdt = pd.read_excel(os.path.join(pred_results_dir, 'HKSL_Prediction_Cynthia_train.xlsx'), index_col=0)\n",
    "\n",
    "tmdt[\"all_same_edit_dist\"] = tmdt.apply(lambda x: all_same_edit(identifier_mapping[x[\"target\"]], identifier_mapping[x[\"predicted\"]]), axis=1)\n",
    "tmdt[\"fingerless_edit_dist\"] = tmdt.apply(lambda x: fingerless_edit(identifier_mapping[x[\"target\"]], identifier_mapping[x[\"predicted\"]]), axis=1)\n",
    "tmdt[\"knuckleless_edit_dist\"] = tmdt.apply(lambda x: knuckleless_edit(identifier_mapping[x[\"target\"]], identifier_mapping[x[\"predicted\"]]), axis=1)\n",
    "tmdt[\"fingerless_knuckleless_edit_dist\"] = tmdt.apply(lambda x: fingerless_knuckleless_edit(identifier_mapping[x[\"target\"]], identifier_mapping[x[\"predicted\"]]), axis=1)\n",
    "\n",
    "tmdt[\"asd_ratio\"] = tmdt[\"all_same_edit_dist\"] / 20\n",
    "tmdt[\"fd_ratio\"] = tmdt[\"fingerless_edit_dist\"] / 8\n",
    "tmdt[\"kd_ratio\"] = tmdt[\"knuckleless_edit_dist\"] / 15\n",
    "tmdt[\"fkd_ratio\"] = tmdt[\"fingerless_knuckleless_edit_dist\"] / 6\n",
    "\n",
    "tmdt.to_excel(os.path.join(pred_results_dir, 'HKSL_Prediction_Cynthia_train_with_distance.xlsx'), index=False)"
   ]
  },
  {
   "cell_type": "code",
   "execution_count": null,
   "metadata": {},
   "outputs": [],
   "source": []
  }
 ],
 "metadata": {
  "kernelspec": {
   "display_name": "slprt",
   "language": "python",
   "name": "python3"
  },
  "language_info": {
   "codemirror_mode": {
    "name": "ipython",
    "version": 3
   },
   "file_extension": ".py",
   "mimetype": "text/x-python",
   "name": "python",
   "nbconvert_exporter": "python",
   "pygments_lexer": "ipython3",
   "version": "3.11.4"
  },
  "orig_nbformat": 4
 },
 "nbformat": 4,
 "nbformat_minor": 2
}
